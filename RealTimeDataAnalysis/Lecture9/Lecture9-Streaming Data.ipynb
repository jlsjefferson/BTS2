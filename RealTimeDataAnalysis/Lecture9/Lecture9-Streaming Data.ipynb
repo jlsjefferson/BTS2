{
 "cells": [
  {
   "cell_type": "code",
   "execution_count": 1,
   "id": "c9c8965e",
   "metadata": {},
   "outputs": [],
   "source": [
    "from IPython.display import display, clear_output\n",
    "from pyspark.sql import SparkSession\n",
    "from pyspark.sql import functions as f\n",
    "import pandas as pd\n",
    "\n",
    "pd.options.display.max_columns = None\n",
    "pd.options.display.max_rows = 30\n",
    "pd.options.display.max_colwidth = 150"
   ]
  },
  {
   "cell_type": "code",
   "execution_count": 2,
   "id": "83757621",
   "metadata": {},
   "outputs": [
    {
     "name": "stdout",
     "output_type": "stream",
     "text": [
      "/home/jovyan/work/Notebooks\r\n"
     ]
    }
   ],
   "source": [
    "!pwd"
   ]
  },
  {
   "cell_type": "code",
   "execution_count": 11,
   "id": "8095d704",
   "metadata": {},
   "outputs": [],
   "source": [
    "spark = SparkSession.builder.appName(\"StructuredStreamingApplication\").getOrCreate()\n",
    "schema = spark.read.json(\"./activity-data/activity-data/\").limit(100).schema"
   ]
  },
  {
   "cell_type": "code",
   "execution_count": 14,
   "id": "ac4504ba",
   "metadata": {},
   "outputs": [
    {
     "data": {
      "text/plain": [
       "StructType(List(StructField(Arrival_Time,LongType,true),StructField(Creation_Time,LongType,true),StructField(Device,StringType,true),StructField(Index,LongType,true),StructField(Model,StringType,true),StructField(User,StringType,true),StructField(gt,StringType,true),StructField(x,DoubleType,true),StructField(y,DoubleType,true),StructField(z,DoubleType,true)))"
      ]
     },
     "execution_count": 14,
     "metadata": {},
     "output_type": "execute_result"
    }
   ],
   "source": [
    "schema"
   ]
  },
  {
   "cell_type": "code",
   "execution_count": 13,
   "id": "97190a7c",
   "metadata": {},
   "outputs": [],
   "source": [
    "streaming = spark.readStream.schema(schema).option(\"maxFilesPerTrigger\", 1)\\\n",
    ".json(\"./activity-data/\")"
   ]
  },
  {
   "cell_type": "code",
   "execution_count": 16,
   "id": "f80bb04d",
   "metadata": {},
   "outputs": [],
   "source": [
    "simpleTransform = streaming.withColumn(\"stairs\", f.expr(\"gt like '%stairs%'\"))\\\n",
    ".where(\"stairs\")\\\n",
    ".where(\"gt is not null\")\\\n",
    ".select(\"gt\", \"model\", \"arrival_time\", \"creation_time\")\\\n",
    ".writeStream\\\n",
    ".queryName(\"simple_transform\")\\\n",
    ".format(\"memory\")\\\n",
    ".outputMode(\"append\")\\\n",
    ".start()"
   ]
  },
  {
   "cell_type": "code",
   "execution_count": 20,
   "id": "e349798e",
   "metadata": {},
   "outputs": [
    {
     "name": "stdout",
     "output_type": "stream",
     "text": [
      "+--------+------+-------------+-------------------+\n",
      "|      gt| model| arrival_time|      creation_time|\n",
      "+--------+------+-------------+-------------------+\n",
      "|stairsup|nexus4|1424687983801|1424689829851420571|\n",
      "|stairsup|nexus4|1424687984163|1424687982169917952|\n",
      "|stairsup|nexus4|1424687984571|1424687982572835163|\n",
      "|stairsup|nexus4|1424687984972|1424687982975667195|\n",
      "|stairsup|nexus4|1424687985370|1424687983379305060|\n",
      "+--------+------+-------------+-------------------+\n",
      "only showing top 5 rows\n",
      "\n"
     ]
    }
   ],
   "source": [
    "spark.sql(\"SELECT * FROM simple_transform\").show(5)"
   ]
  },
  {
   "cell_type": "code",
   "execution_count": 17,
   "id": "af69a8ac",
   "metadata": {},
   "outputs": [],
   "source": [
    "deviceModelStats = streaming.cube(\"gt\", \"model\").avg()\\\n",
    ".drop(\"avg(Arrival_time)\")\\\n",
    ".drop(\"avg(Creation_Time)\")\\\n",
    ".drop(\"avg(Index)\")\\\n",
    ".writeStream.queryName(\"device_counts\").format(\"memory\")\\\n",
    ".outputMode(\"complete\")\\\n",
    ".start()"
   ]
  },
  {
   "cell_type": "code",
   "execution_count": 19,
   "id": "2744f7ed",
   "metadata": {},
   "outputs": [
    {
     "name": "stdout",
     "output_type": "stream",
     "text": [
      "+----------+------+--------------------+--------------------+--------------------+\n",
      "|        gt| model|              avg(x)|              avg(y)|              avg(z)|\n",
      "+----------+------+--------------------+--------------------+--------------------+\n",
      "|      null|nexus4|0.001243822064214...|-0.00508318886798...|-0.01029860468302...|\n",
      "|      null|  null|-0.00534777761728...|-0.00471625131602...|0.001053548924143...|\n",
      "|stairsdown|  null|0.022206868836056656| -0.0326125139584748| 0.11849359875695885|\n",
      "|       sit|  null|-5.48643225000002E-4|-1.75231850243742...|-2.21252465063372...|\n",
      "|stairsdown|nexus4|0.022206868836056656| -0.0326125139584748| 0.11849359875695885|\n",
      "+----------+------+--------------------+--------------------+--------------------+\n",
      "only showing top 5 rows\n",
      "\n"
     ]
    }
   ],
   "source": [
    "spark.sql(\"SELECT * FROM device_counts\").show(5)"
   ]
  },
  {
   "cell_type": "code",
   "execution_count": 31,
   "id": "ca46a813",
   "metadata": {},
   "outputs": [
    {
     "data": {
      "text/html": [
       "<div>\n",
       "<style scoped>\n",
       "    .dataframe tbody tr th:only-of-type {\n",
       "        vertical-align: middle;\n",
       "    }\n",
       "\n",
       "    .dataframe tbody tr th {\n",
       "        vertical-align: top;\n",
       "    }\n",
       "\n",
       "    .dataframe thead th {\n",
       "        text-align: right;\n",
       "    }\n",
       "</style>\n",
       "<table border=\"1\" class=\"dataframe\">\n",
       "  <thead>\n",
       "    <tr style=\"text-align: right;\">\n",
       "      <th></th>\n",
       "      <th>gt</th>\n",
       "      <th>model</th>\n",
       "      <th>avg(x)</th>\n",
       "      <th>avg(y)</th>\n",
       "      <th>avg(z)</th>\n",
       "    </tr>\n",
       "  </thead>\n",
       "  <tbody>\n",
       "    <tr>\n",
       "      <th>4</th>\n",
       "      <td>stairsdown</td>\n",
       "      <td>nexus4</td>\n",
       "      <td>0.021614</td>\n",
       "      <td>-0.032490</td>\n",
       "      <td>0.120359</td>\n",
       "    </tr>\n",
       "    <tr>\n",
       "      <th>5</th>\n",
       "      <td>bike</td>\n",
       "      <td>nexus4</td>\n",
       "      <td>0.022689</td>\n",
       "      <td>-0.008779</td>\n",
       "      <td>-0.082510</td>\n",
       "    </tr>\n",
       "    <tr>\n",
       "      <th>6</th>\n",
       "      <td>null</td>\n",
       "      <td>nexus4</td>\n",
       "      <td>-0.008477</td>\n",
       "      <td>-0.000730</td>\n",
       "      <td>0.003091</td>\n",
       "    </tr>\n",
       "  </tbody>\n",
       "</table>\n",
       "</div>"
      ],
      "text/plain": [
       "           gt   model    avg(x)    avg(y)    avg(z)\n",
       "4  stairsdown  nexus4  0.021614 -0.032490  0.120359\n",
       "5        bike  nexus4  0.022689 -0.008779 -0.082510\n",
       "6        null  nexus4 -0.008477 -0.000730  0.003091"
      ]
     },
     "metadata": {},
     "output_type": "display_data"
    },
    {
     "data": {
      "text/html": [
       "<div>\n",
       "<style scoped>\n",
       "    .dataframe tbody tr th:only-of-type {\n",
       "        vertical-align: middle;\n",
       "    }\n",
       "\n",
       "    .dataframe tbody tr th {\n",
       "        vertical-align: top;\n",
       "    }\n",
       "\n",
       "    .dataframe thead th {\n",
       "        text-align: right;\n",
       "    }\n",
       "</style>\n",
       "<table border=\"1\" class=\"dataframe\">\n",
       "  <thead>\n",
       "    <tr style=\"text-align: right;\">\n",
       "      <th></th>\n",
       "      <th>gt</th>\n",
       "      <th>model</th>\n",
       "      <th>avg(x)</th>\n",
       "      <th>avg(y)</th>\n",
       "      <th>avg(z)</th>\n",
       "    </tr>\n",
       "  </thead>\n",
       "  <tbody>\n",
       "    <tr>\n",
       "      <th>4</th>\n",
       "      <td>stairsdown</td>\n",
       "      <td>nexus4</td>\n",
       "      <td>0.021614</td>\n",
       "      <td>-0.032490</td>\n",
       "      <td>0.120359</td>\n",
       "    </tr>\n",
       "    <tr>\n",
       "      <th>5</th>\n",
       "      <td>bike</td>\n",
       "      <td>nexus4</td>\n",
       "      <td>0.022689</td>\n",
       "      <td>-0.008779</td>\n",
       "      <td>-0.082510</td>\n",
       "    </tr>\n",
       "    <tr>\n",
       "      <th>6</th>\n",
       "      <td>null</td>\n",
       "      <td>nexus4</td>\n",
       "      <td>-0.008477</td>\n",
       "      <td>-0.000730</td>\n",
       "      <td>0.003091</td>\n",
       "    </tr>\n",
       "  </tbody>\n",
       "</table>\n",
       "</div>"
      ],
      "text/plain": [
       "           gt   model    avg(x)    avg(y)    avg(z)\n",
       "4  stairsdown  nexus4  0.021614 -0.032490  0.120359\n",
       "5        bike  nexus4  0.022689 -0.008779 -0.082510\n",
       "6        null  nexus4 -0.008477 -0.000730  0.003091"
      ]
     },
     "metadata": {},
     "output_type": "display_data"
    },
    {
     "data": {
      "text/html": [
       "<div>\n",
       "<style scoped>\n",
       "    .dataframe tbody tr th:only-of-type {\n",
       "        vertical-align: middle;\n",
       "    }\n",
       "\n",
       "    .dataframe tbody tr th {\n",
       "        vertical-align: top;\n",
       "    }\n",
       "\n",
       "    .dataframe thead th {\n",
       "        text-align: right;\n",
       "    }\n",
       "</style>\n",
       "<table border=\"1\" class=\"dataframe\">\n",
       "  <thead>\n",
       "    <tr style=\"text-align: right;\">\n",
       "      <th></th>\n",
       "      <th>gt</th>\n",
       "      <th>model</th>\n",
       "      <th>avg(x)</th>\n",
       "      <th>avg(y)</th>\n",
       "      <th>avg(z)</th>\n",
       "    </tr>\n",
       "  </thead>\n",
       "  <tbody>\n",
       "    <tr>\n",
       "      <th>4</th>\n",
       "      <td>stairsdown</td>\n",
       "      <td>nexus4</td>\n",
       "      <td>0.021614</td>\n",
       "      <td>-0.032490</td>\n",
       "      <td>0.120359</td>\n",
       "    </tr>\n",
       "    <tr>\n",
       "      <th>5</th>\n",
       "      <td>bike</td>\n",
       "      <td>nexus4</td>\n",
       "      <td>0.022689</td>\n",
       "      <td>-0.008779</td>\n",
       "      <td>-0.082510</td>\n",
       "    </tr>\n",
       "    <tr>\n",
       "      <th>6</th>\n",
       "      <td>null</td>\n",
       "      <td>nexus4</td>\n",
       "      <td>-0.008477</td>\n",
       "      <td>-0.000730</td>\n",
       "      <td>0.003091</td>\n",
       "    </tr>\n",
       "  </tbody>\n",
       "</table>\n",
       "</div>"
      ],
      "text/plain": [
       "           gt   model    avg(x)    avg(y)    avg(z)\n",
       "4  stairsdown  nexus4  0.021614 -0.032490  0.120359\n",
       "5        bike  nexus4  0.022689 -0.008779 -0.082510\n",
       "6        null  nexus4 -0.008477 -0.000730  0.003091"
      ]
     },
     "metadata": {},
     "output_type": "display_data"
    },
    {
     "data": {
      "text/html": [
       "<div>\n",
       "<style scoped>\n",
       "    .dataframe tbody tr th:only-of-type {\n",
       "        vertical-align: middle;\n",
       "    }\n",
       "\n",
       "    .dataframe tbody tr th {\n",
       "        vertical-align: top;\n",
       "    }\n",
       "\n",
       "    .dataframe thead th {\n",
       "        text-align: right;\n",
       "    }\n",
       "</style>\n",
       "<table border=\"1\" class=\"dataframe\">\n",
       "  <thead>\n",
       "    <tr style=\"text-align: right;\">\n",
       "      <th></th>\n",
       "      <th>gt</th>\n",
       "      <th>model</th>\n",
       "      <th>avg(x)</th>\n",
       "      <th>avg(y)</th>\n",
       "      <th>avg(z)</th>\n",
       "    </tr>\n",
       "  </thead>\n",
       "  <tbody>\n",
       "    <tr>\n",
       "      <th>4</th>\n",
       "      <td>stairsdown</td>\n",
       "      <td>nexus4</td>\n",
       "      <td>0.021614</td>\n",
       "      <td>-0.032490</td>\n",
       "      <td>0.120359</td>\n",
       "    </tr>\n",
       "    <tr>\n",
       "      <th>5</th>\n",
       "      <td>bike</td>\n",
       "      <td>nexus4</td>\n",
       "      <td>0.022689</td>\n",
       "      <td>-0.008779</td>\n",
       "      <td>-0.082510</td>\n",
       "    </tr>\n",
       "    <tr>\n",
       "      <th>6</th>\n",
       "      <td>null</td>\n",
       "      <td>nexus4</td>\n",
       "      <td>-0.008477</td>\n",
       "      <td>-0.000730</td>\n",
       "      <td>0.003091</td>\n",
       "    </tr>\n",
       "  </tbody>\n",
       "</table>\n",
       "</div>"
      ],
      "text/plain": [
       "           gt   model    avg(x)    avg(y)    avg(z)\n",
       "4  stairsdown  nexus4  0.021614 -0.032490  0.120359\n",
       "5        bike  nexus4  0.022689 -0.008779 -0.082510\n",
       "6        null  nexus4 -0.008477 -0.000730  0.003091"
      ]
     },
     "metadata": {},
     "output_type": "display_data"
    },
    {
     "data": {
      "text/html": [
       "<div>\n",
       "<style scoped>\n",
       "    .dataframe tbody tr th:only-of-type {\n",
       "        vertical-align: middle;\n",
       "    }\n",
       "\n",
       "    .dataframe tbody tr th {\n",
       "        vertical-align: top;\n",
       "    }\n",
       "\n",
       "    .dataframe thead th {\n",
       "        text-align: right;\n",
       "    }\n",
       "</style>\n",
       "<table border=\"1\" class=\"dataframe\">\n",
       "  <thead>\n",
       "    <tr style=\"text-align: right;\">\n",
       "      <th></th>\n",
       "      <th>gt</th>\n",
       "      <th>model</th>\n",
       "      <th>avg(x)</th>\n",
       "      <th>avg(y)</th>\n",
       "      <th>avg(z)</th>\n",
       "    </tr>\n",
       "  </thead>\n",
       "  <tbody>\n",
       "    <tr>\n",
       "      <th>4</th>\n",
       "      <td>stairsdown</td>\n",
       "      <td>nexus4</td>\n",
       "      <td>0.021614</td>\n",
       "      <td>-0.032490</td>\n",
       "      <td>0.120359</td>\n",
       "    </tr>\n",
       "    <tr>\n",
       "      <th>5</th>\n",
       "      <td>bike</td>\n",
       "      <td>nexus4</td>\n",
       "      <td>0.022689</td>\n",
       "      <td>-0.008779</td>\n",
       "      <td>-0.082510</td>\n",
       "    </tr>\n",
       "    <tr>\n",
       "      <th>6</th>\n",
       "      <td>null</td>\n",
       "      <td>nexus4</td>\n",
       "      <td>-0.008477</td>\n",
       "      <td>-0.000730</td>\n",
       "      <td>0.003091</td>\n",
       "    </tr>\n",
       "  </tbody>\n",
       "</table>\n",
       "</div>"
      ],
      "text/plain": [
       "           gt   model    avg(x)    avg(y)    avg(z)\n",
       "4  stairsdown  nexus4  0.021614 -0.032490  0.120359\n",
       "5        bike  nexus4  0.022689 -0.008779 -0.082510\n",
       "6        null  nexus4 -0.008477 -0.000730  0.003091"
      ]
     },
     "metadata": {},
     "output_type": "display_data"
    },
    {
     "name": "stdout",
     "output_type": "stream",
     "text": [
      "Live view ended...\n"
     ]
    }
   ],
   "source": [
    "# spark.sql can be used to request how the query is performing\n",
    "\n",
    "from time import sleep\n",
    "for x in range(0, 5):\n",
    "    display(spark.sql(f\"SELECT * from device_counts\").toPandas().dropna().head(3))\n",
    "    sleep(1)\n",
    "    \n",
    "    #clear_output(wait=True)\n",
    "else:\n",
    "    print(\"Live view ended...\")"
   ]
  },
  {
   "cell_type": "code",
   "execution_count": 22,
   "id": "a9ad5b20",
   "metadata": {},
   "outputs": [],
   "source": [
    "static= spark.read.json(\"./activity-data/\")"
   ]
  },
  {
   "cell_type": "code",
   "execution_count": 23,
   "id": "673fe0ae",
   "metadata": {},
   "outputs": [
    {
     "name": "stdout",
     "output_type": "stream",
     "text": [
      "+-------------+-------------------+--------+-----+------+----+-----+------------+------------+------------+\n",
      "| Arrival_Time|      Creation_Time|  Device|Index| Model|User|   gt|           x|           y|           z|\n",
      "+-------------+-------------------+--------+-----+------+----+-----+------------+------------+------------+\n",
      "|1424686735090|1424686733090638193|nexus4_1|   18|nexus4|   g|stand| 3.356934E-4|-5.645752E-4|-0.018814087|\n",
      "|1424686735292|1424688581345918092|nexus4_2|   66|nexus4|   g|stand|-0.005722046| 0.029083252| 0.005569458|\n",
      "|1424686735500|1424686733498505625|nexus4_1|   99|nexus4|   g|stand|   0.0078125|-0.017654419| 0.010025024|\n",
      "|1424686735691|1424688581745026978|nexus4_2|  145|nexus4|   g|stand|-3.814697E-4|   0.0184021|-0.013656616|\n",
      "+-------------+-------------------+--------+-----+------+----+-----+------------+------------+------------+\n",
      "only showing top 4 rows\n",
      "\n"
     ]
    }
   ],
   "source": [
    "static.show(4)"
   ]
  },
  {
   "cell_type": "code",
   "execution_count": 69,
   "id": "6f7acea7",
   "metadata": {},
   "outputs": [],
   "source": [
    "historicalAgg = static.groupBy(\"gt\", \"model\").avg()\n",
    "deviceModelStats = streaming.drop(\"Arrival_Time\", \"Creation_Time\", \"Index\")\\\n",
    ".cube(\"gt\", \"model\").avg()\\\n",
    ".join(historicalAgg, [\"gt\", \"model\"])\\\n",
    ".writeStream.queryName(\"device_counts_join\").format(\"memory\")\\\n",
    ".outputMode(\"complete\")\\\n",
    ".start()"
   ]
  },
  {
   "cell_type": "code",
   "execution_count": 76,
   "id": "f5b79121",
   "metadata": {},
   "outputs": [
    {
     "name": "stdout",
     "output_type": "stream",
     "text": [
      "+----------+------+--------------------+--------------------+--------------------+--------------------+--------------------+------------------+--------------------+--------------------+--------------------+\n",
      "|        gt| model|              avg(x)|              avg(y)|              avg(z)|   avg(Arrival_Time)|  avg(Creation_Time)|        avg(Index)|              avg(x)|              avg(y)|              avg(z)|\n",
      "+----------+------+--------------------+--------------------+--------------------+--------------------+--------------------+------------------+--------------------+--------------------+--------------------+\n",
      "|      bike|nexus4|0.022964785314061254|-0.00883802096885...|-0.08280852157940341|1.424751134339985...|1.424752127369587...| 326459.6867328154|0.022688759550866796|-0.00877912156368...| -0.0825100166341234|\n",
      "|      null|nexus4|-0.00861985194739502|-0.00118695209268...|0.002615053985997819|1.424749002876339...|1.424749919482128...| 219276.9663669269|-0.00847688860109...|-7.30455258739192...|0.003090601491419929|\n",
      "|stairsdown|nexus4|0.021940372352212245|-0.03145080962306262| 0.12130916214488122|1.424744591412857...|1.424745503635638...|230452.44623187225| 0.02161390866916545|-0.03249018824752...| 0.12035922691504071|\n",
      "|     stand|nexus4|-3.05486659249782...|2.950288503954850...|2.881832138007999E-4|1.424743637921210...|1.424744579547463...|31317.877585550017|-3.11082189691709...|3.218461665975353E-4|2.141300040636499...|\n",
      "|      walk|nexus4|-0.00383499087252...|0.001711204986843...|-0.00152407149813...|1.424746420641790...|1.424747351060674...|149760.09974990616|-0.00390116006094...|0.001052508689953...|-6.95435553042996...|\n",
      "+----------+------+--------------------+--------------------+--------------------+--------------------+--------------------+------------------+--------------------+--------------------+--------------------+\n",
      "only showing top 5 rows\n",
      "\n"
     ]
    }
   ],
   "source": [
    "spark.sql(\"SELECT * FROM device_counts_join\").show(5)"
   ]
  },
  {
   "cell_type": "markdown",
   "id": "9fbecb27",
   "metadata": {},
   "source": [
    "### Triggers"
   ]
  },
  {
   "cell_type": "code",
   "execution_count": 33,
   "id": "14ee24a3",
   "metadata": {},
   "outputs": [],
   "source": [
    "activityCounts = streaming.groupBy(\"gt\").count()"
   ]
  },
  {
   "cell_type": "code",
   "execution_count": 36,
   "id": "832e7aab",
   "metadata": {},
   "outputs": [
    {
     "data": {
      "text/plain": [
       "<pyspark.sql.streaming.StreamingQuery at 0x13190a710>"
      ]
     },
     "execution_count": 36,
     "metadata": {},
     "output_type": "execute_result"
    }
   ],
   "source": [
    "activityCounts.writeStream.trigger(processingTime='5 seconds')\\\n",
    ".format(\"console\").outputMode(\"complete\").start()"
   ]
  },
  {
   "cell_type": "code",
   "execution_count": 37,
   "id": "0989c99d",
   "metadata": {},
   "outputs": [
    {
     "data": {
      "text/plain": [
       "<pyspark.sql.streaming.StreamingQuery at 0x13190afd0>"
      ]
     },
     "execution_count": 37,
     "metadata": {},
     "output_type": "execute_result"
    }
   ],
   "source": [
    "activityCounts.writeStream.trigger(once=True)\\\n",
    ".format(\"console\").outputMode(\"complete\").start()"
   ]
  },
  {
   "cell_type": "markdown",
   "id": "dc520dcc",
   "metadata": {},
   "source": [
    "### Event Time and Stateful Processing"
   ]
  },
  {
   "cell_type": "code",
   "execution_count": 45,
   "id": "724ce833",
   "metadata": {},
   "outputs": [
    {
     "name": "stdout",
     "output_type": "stream",
     "text": [
      "root\n",
      " |-- Arrival_Time: long (nullable = true)\n",
      " |-- Creation_Time: long (nullable = true)\n",
      " |-- Device: string (nullable = true)\n",
      " |-- Index: long (nullable = true)\n",
      " |-- Model: string (nullable = true)\n",
      " |-- User: string (nullable = true)\n",
      " |-- gt: string (nullable = true)\n",
      " |-- x: double (nullable = true)\n",
      " |-- y: double (nullable = true)\n",
      " |-- z: double (nullable = true)\n",
      "\n"
     ]
    }
   ],
   "source": [
    "spark.conf.set(\"spark.sql.shuffle.partitions\", 5)\n",
    "static = spark.read.json(\"./activity-data\")\n",
    "streaming = spark\\\n",
    ".readStream\\\n",
    ".schema(static.schema)\\\n",
    ".option(\"maxFilesPerTrigger\", 10)\\\n",
    ".json(\"./activity-data\")\n",
    "\n",
    "streaming.printSchema()"
   ]
  },
  {
   "cell_type": "code",
   "execution_count": 50,
   "id": "8ff7198a",
   "metadata": {},
   "outputs": [],
   "source": [
    "withEventTime = streaming\\\n",
    ".selectExpr(\"*\", \"cast(cast(Creation_Time as double)/1000000000 as timestamp) as event_time\")"
   ]
  },
  {
   "cell_type": "code",
   "execution_count": 51,
   "id": "4d764128",
   "metadata": {},
   "outputs": [
    {
     "data": {
      "text/plain": [
       "<pyspark.sql.streaming.StreamingQuery at 0x131ea1fd0>"
      ]
     },
     "execution_count": 51,
     "metadata": {},
     "output_type": "execute_result"
    }
   ],
   "source": [
    "# Tumbling Windows\n",
    "from pyspark.sql.functions import window, col\n",
    "withEventTime.groupBy(window(col(\"event_time\"), \"10 minutes\")).count()\\\n",
    ".writeStream\\\n",
    ".queryName(\"pyevents_per_window\")\\\n",
    ".format(\"memory\")\\\n",
    ".outputMode(\"complete\")\\\n",
    ".start()"
   ]
  },
  {
   "cell_type": "code",
   "execution_count": 53,
   "id": "667a6643",
   "metadata": {},
   "outputs": [
    {
     "name": "stdout",
     "output_type": "stream",
     "text": [
      "root\n",
      " |-- window: struct (nullable = false)\n",
      " |    |-- start: timestamp (nullable = true)\n",
      " |    |-- end: timestamp (nullable = true)\n",
      " |-- count: long (nullable = false)\n",
      "\n"
     ]
    }
   ],
   "source": [
    "spark.sql(\"SELECT * FROM pyevents_per_window\").printSchema()"
   ]
  },
  {
   "cell_type": "code",
   "execution_count": 55,
   "id": "e3f1b1c8",
   "metadata": {},
   "outputs": [
    {
     "name": "stdout",
     "output_type": "stream",
     "text": [
      "+--------------------+------+\n",
      "|              window| count|\n",
      "+--------------------+------+\n",
      "|{2015-02-24 17:20...|150773|\n",
      "|{2015-02-24 18:30...|133323|\n",
      "|{2015-02-23 18:00...|100853|\n",
      "|{2015-02-23 15:50...| 99178|\n",
      "|{2015-02-24 18:00...|125679|\n",
      "+--------------------+------+\n",
      "only showing top 5 rows\n",
      "\n"
     ]
    }
   ],
   "source": [
    "spark.sql(\"SELECT * FROM pyevents_per_window\").show(5)"
   ]
  },
  {
   "cell_type": "code",
   "execution_count": 57,
   "id": "a5df9851",
   "metadata": {},
   "outputs": [
    {
     "data": {
      "text/plain": [
       "<pyspark.sql.streaming.StreamingQuery at 0x1319ead50>"
      ]
     },
     "execution_count": 57,
     "metadata": {},
     "output_type": "execute_result"
    }
   ],
   "source": [
    "# Aggregations across multiple columns\n",
    "from pyspark.sql.functions import window, col\n",
    "withEventTime.groupBy(window(col(\"event_time\"), \"10 minutes\"), \"User\").count()\\\n",
    ".writeStream\\\n",
    ".queryName(\"events_per_window\")\\\n",
    ".format(\"memory\")\\\n",
    ".outputMode(\"complete\")\\\n",
    ".start()"
   ]
  },
  {
   "cell_type": "code",
   "execution_count": 60,
   "id": "15c482a2",
   "metadata": {},
   "outputs": [
    {
     "name": "stdout",
     "output_type": "stream",
     "text": [
      "+--------------------+----+------+\n",
      "|              window|User| count|\n",
      "+--------------------+----+------+\n",
      "|{2015-02-24 17:50...|   f|133623|\n",
      "|{2015-02-24 18:30...|   f| 33366|\n",
      "|{2015-02-24 20:20...|   e|126282|\n",
      "|{2015-02-23 20:00...|   h| 94669|\n",
      "|{2015-02-24 19:40...|   e| 67577|\n",
      "+--------------------+----+------+\n",
      "only showing top 5 rows\n",
      "\n"
     ]
    }
   ],
   "source": [
    "spark.sql(\"SELECT * FROM events_per_window\").show(5)"
   ]
  },
  {
   "cell_type": "code",
   "execution_count": 59,
   "id": "570a2d33",
   "metadata": {},
   "outputs": [
    {
     "data": {
      "text/plain": [
       "<pyspark.sql.streaming.StreamingQuery at 0x1325d7cd0>"
      ]
     },
     "execution_count": 59,
     "metadata": {},
     "output_type": "execute_result"
    }
   ],
   "source": [
    "# Sliding Windows\n",
    "from pyspark.sql.functions import window, col\n",
    "withEventTime.groupBy(window(col(\"event_time\"), \"10 minutes\", \"5 minutes\"))\\\n",
    ".count()\\\n",
    ".writeStream\\\n",
    ".queryName(\"pyevents_per_sliding_window\")\\\n",
    ".format(\"memory\")\\\n",
    ".outputMode(\"complete\")\\\n",
    ".start()"
   ]
  },
  {
   "cell_type": "code",
   "execution_count": 61,
   "id": "d130dd64",
   "metadata": {},
   "outputs": [
    {
     "name": "stdout",
     "output_type": "stream",
     "text": [
      "+--------------------+------+\n",
      "|              window| count|\n",
      "+--------------------+------+\n",
      "|{2015-02-23 19:45...|107668|\n",
      "|{2015-02-24 17:20...|150773|\n",
      "|{2015-02-24 18:30...|133323|\n",
      "|{2015-02-22 06:05...|    35|\n",
      "|{2015-02-23 18:00...|100853|\n",
      "+--------------------+------+\n",
      "only showing top 5 rows\n",
      "\n"
     ]
    }
   ],
   "source": [
    "spark.sql(\"SELECT * FROM pyevents_per_sliding_window\").show(5)"
   ]
  },
  {
   "cell_type": "code",
   "execution_count": 63,
   "id": "3c489d5e",
   "metadata": {},
   "outputs": [
    {
     "data": {
      "text/plain": [
       "<pyspark.sql.streaming.StreamingQuery at 0x1319c96d0>"
      ]
     },
     "execution_count": 63,
     "metadata": {},
     "output_type": "execute_result"
    }
   ],
   "source": [
    "# Watermarks for handling delays\n",
    "from pyspark.sql.functions import window, col\n",
    "withEventTime\\\n",
    ".withWatermark(\"event_time\", \"30 minutes\")\\\n",
    ".groupBy(window(col(\"event_time\"), \"10 minutes\", \"5 minutes\"))\\\n",
    ".count()\\\n",
    ".writeStream\\\n",
    ".queryName(\"watermarking_events\")\\\n",
    ".format(\"memory\")\\\n",
    ".outputMode(\"complete\")\\\n",
    ".start()"
   ]
  },
  {
   "cell_type": "code",
   "execution_count": 64,
   "id": "b840ded0",
   "metadata": {},
   "outputs": [
    {
     "name": "stdout",
     "output_type": "stream",
     "text": [
      "+--------------------+-----+\n",
      "|              window|count|\n",
      "+--------------------+-----+\n",
      "|{2015-02-23 19:45...|26984|\n",
      "|{2015-02-24 17:20...|37578|\n",
      "|{2015-02-24 18:30...|33292|\n",
      "|{2015-02-22 06:05...|    6|\n",
      "|{2015-02-23 18:00...|25170|\n",
      "+--------------------+-----+\n",
      "only showing top 5 rows\n",
      "\n"
     ]
    }
   ],
   "source": [
    "spark.sql(\"SELECT * FROM watermarking_events\").show(5)"
   ]
  },
  {
   "cell_type": "code",
   "execution_count": null,
   "id": "5c40510e",
   "metadata": {},
   "outputs": [],
   "source": [
    "from pyspark.sql.functions import expr\n",
    "withEventTime\\\n",
    ".withWatermark(\"event_time\", \"5 seconds\")\\\n",
    ".dropDuplicates([\"User\", \"event_time\"])\\\n",
    ".groupBy(\"User\")\\\n",
    ".count()\\\n",
    ".writeStream\\\n",
    ".queryName(\"pydeduplicated\")\\\n",
    ".format(\"memory\")\\\n",
    ".outputMode(\"complete\")\\\n",
    ".start()"
   ]
  },
  {
   "cell_type": "code",
   "execution_count": 67,
   "id": "196dbcff",
   "metadata": {},
   "outputs": [
    {
     "name": "stdout",
     "output_type": "stream",
     "text": [
      "+----+-----+\n",
      "|User|count|\n",
      "+----+-----+\n",
      "|   a|80854|\n",
      "|   b|91239|\n",
      "|   c|77155|\n",
      "|   g|91673|\n",
      "|   h|77326|\n",
      "+----+-----+\n",
      "only showing top 5 rows\n",
      "\n"
     ]
    }
   ],
   "source": [
    "spark.sql(\"SELECT * FROM pydeduplicated\").show(5)"
   ]
  },
  {
   "cell_type": "markdown",
   "id": "34cd603f",
   "metadata": {},
   "source": [
    "### Checkpointing and Fault Tolerance"
   ]
  },
  {
   "cell_type": "code",
   "execution_count": 40,
   "id": "8550c6b4",
   "metadata": {},
   "outputs": [],
   "source": [
    "# Checkpointing\n",
    "static = spark.read.json(\"./activity-data\")\n",
    "streaming = spark\\\n",
    ".readStream\\\n",
    ".schema(static.schema)\\\n",
    ".option(\"maxFilesPerTrigger\", 10)\\\n",
    ".json(\"./activity-data\")\\\n",
    ".groupBy(\"gt\")\\\n",
    ".count()\n",
    "\n",
    "query = streaming\\\n",
    ".writeStream\\\n",
    ".outputMode(\"complete\")\\\n",
    ".option(\"checkpointLocation\", \"./checkpointing/\")\\\n",
    ".queryName(\"test_python_stream\")\\\n",
    ".format(\"memory\")\\\n",
    ".start()"
   ]
  },
  {
   "cell_type": "code",
   "execution_count": 44,
   "id": "f6aac1c5",
   "metadata": {},
   "outputs": [
    {
     "data": {
      "text/plain": [
       "{'message': 'Waiting for data to arrive',\n",
       " 'isDataAvailable': False,\n",
       " 'isTriggerActive': False}"
      ]
     },
     "execution_count": 44,
     "metadata": {},
     "output_type": "execute_result"
    }
   ],
   "source": [
    "query.status"
   ]
  },
  {
   "cell_type": "code",
   "execution_count": 43,
   "id": "79ab71d5",
   "metadata": {},
   "outputs": [
    {
     "data": {
      "text/plain": [
       "{'id': '6556e144-3df9-4473-9e0a-26c18e5da84b',\n",
       " 'runId': '5dfc0d17-2eaf-4011-8c9e-33b804ff5e99',\n",
       " 'name': 'test_python_stream',\n",
       " 'timestamp': '2021-05-31T02:25:17.391Z',\n",
       " 'batchId': 8,\n",
       " 'numInputRows': 0,\n",
       " 'inputRowsPerSecond': 0.0,\n",
       " 'processedRowsPerSecond': 0.0,\n",
       " 'durationMs': {'latestOffset': 12, 'triggerExecution': 12},\n",
       " 'stateOperators': [{'numRowsTotal': 7,\n",
       "   'numRowsUpdated': 0,\n",
       "   'memoryUsedBytes': 82024,\n",
       "   'numRowsDroppedByWatermark': 0,\n",
       "   'customMetrics': {'loadedMapCacheHitCount': 2800,\n",
       "    'loadedMapCacheMissCount': 0,\n",
       "    'stateOnCurrentVersionSizeBytes': 18896}}],\n",
       " 'sources': [{'description': 'FileStreamSource[file:/Users/ankitbit/Documents/Lectures/Real-Time-Data-Analysis/Tutorials/activity-data]',\n",
       "   'startOffset': {'logOffset': 7},\n",
       "   'endOffset': {'logOffset': 7},\n",
       "   'numInputRows': 0,\n",
       "   'inputRowsPerSecond': 0.0,\n",
       "   'processedRowsPerSecond': 0.0}],\n",
       " 'sink': {'description': 'MemorySink', 'numOutputRows': 0}}"
      ]
     },
     "execution_count": 43,
     "metadata": {},
     "output_type": "execute_result"
    }
   ],
   "source": [
    "query.recentProgress[1]"
   ]
  },
  {
   "cell_type": "code",
   "execution_count": null,
   "id": "406cbe87",
   "metadata": {},
   "outputs": [],
   "source": []
  }
 ],
 "metadata": {
  "kernelspec": {
   "display_name": "Python 3",
   "language": "python",
   "name": "python3"
  },
  "language_info": {
   "codemirror_mode": {
    "name": "ipython",
    "version": 3
   },
   "file_extension": ".py",
   "mimetype": "text/x-python",
   "name": "python",
   "nbconvert_exporter": "python",
   "pygments_lexer": "ipython3",
   "version": "3.8.8"
  },
  "toc": {
   "base_numbering": 1,
   "nav_menu": {},
   "number_sections": true,
   "sideBar": true,
   "skip_h1_title": false,
   "title_cell": "Table of Contents",
   "title_sidebar": "Contents",
   "toc_cell": false,
   "toc_position": {
    "height": "calc(100% - 180px)",
    "left": "10px",
    "top": "150px",
    "width": "258.841px"
   },
   "toc_section_display": true,
   "toc_window_display": true
  },
  "varInspector": {
   "cols": {
    "lenName": 16,
    "lenType": 16,
    "lenVar": 40
   },
   "kernels_config": {
    "python": {
     "delete_cmd_postfix": "",
     "delete_cmd_prefix": "del ",
     "library": "var_list.py",
     "varRefreshCmd": "print(var_dic_list())"
    },
    "r": {
     "delete_cmd_postfix": ") ",
     "delete_cmd_prefix": "rm(",
     "library": "var_list.r",
     "varRefreshCmd": "cat(var_dic_list()) "
    }
   },
   "position": {
    "height": "325.495px",
    "left": "1266.15px",
    "right": "20px",
    "top": "120px",
    "width": "293.021px"
   },
   "types_to_exclude": [
    "module",
    "function",
    "builtin_function_or_method",
    "instance",
    "_Feature"
   ],
   "window_display": false
  }
 },
 "nbformat": 4,
 "nbformat_minor": 5
}
