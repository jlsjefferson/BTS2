{
 "cells": [
  {
   "cell_type": "code",
   "execution_count": 1,
   "metadata": {},
   "outputs": [
    {
     "name": "stdout",
     "output_type": "stream",
     "text": [
      "Requirement already satisfied: pyspark in /usr/local/spark-3.1.1-bin-hadoop3.2/python (3.1.1)\n",
      "Collecting py4j==0.10.9\n",
      "  Downloading py4j-0.10.9-py2.py3-none-any.whl (198 kB)\n",
      "\u001b[K     |████████████████████████████████| 198 kB 3.4 MB/s eta 0:00:01\n",
      "\u001b[?25hInstalling collected packages: py4j\n",
      "Successfully installed py4j-0.10.9\n",
      "Requirement already satisfied: findspark in /opt/conda/lib/python3.8/site-packages (1.4.2)\n"
     ]
    }
   ],
   "source": [
    "! pip install pyspark\n",
    "! pip install findspark"
   ]
  },
  {
   "cell_type": "code",
   "execution_count": 2,
   "metadata": {},
   "outputs": [],
   "source": [
    "from pyspark.sql import SparkSession\n",
    "spark = SparkSession \\\n",
    "    .builder \\\n",
    "    .appName(\"Semi_Sructured_Data_Analysis\") \\\n",
    "    .config(\"spark.some.config.option\", \"some-value\") \\\n",
    "    .getOrCreate()"
   ]
  },
  {
   "cell_type": "markdown",
   "metadata": {},
   "source": [
    "### Reading CSV\n"
   ]
  },
  {
   "cell_type": "code",
   "execution_count": 3,
   "metadata": {},
   "outputs": [
    {
     "name": "stdout",
     "output_type": "stream",
     "text": [
      "--2021-04-26 10:15:31--  https://covid.ourworldindata.org/data/owid-covid-data.csv\n",
      "Resolving covid.ourworldindata.org (covid.ourworldindata.org)... 104.21.233.138, 104.21.233.137, 2606:4700:3038::6815:e98a, ...\n",
      "Connecting to covid.ourworldindata.org (covid.ourworldindata.org)|104.21.233.138|:443... connected.\n",
      "HTTP request sent, awaiting response... 200 OK\n",
      "Length: unspecified [text/csv]\n",
      "Saving to: ‘owid-covid-data.csv’\n",
      "\n",
      "owid-covid-data.csv     [           <=>      ]  20.75M  5.05MB/s    in 5.0s    \n",
      "\n",
      "2021-04-26 10:15:37 (4.12 MB/s) - ‘owid-covid-data.csv’ saved [21756961]\n",
      "\n"
     ]
    }
   ],
   "source": [
    "! wget 'https://covid.ourworldindata.org/data/owid-covid-data.csv'"
   ]
  },
  {
   "cell_type": "code",
   "execution_count": 5,
   "metadata": {},
   "outputs": [
    {
     "data": {
      "text/plain": [
       "84061"
      ]
     },
     "execution_count": 5,
     "metadata": {},
     "output_type": "execute_result"
    }
   ],
   "source": [
    "df = spark.read.csv('data/owid-covid-data.csv', sep= ',', header= True)\n",
    "df.count()"
   ]
  },
  {
   "cell_type": "code",
   "execution_count": 12,
   "metadata": {},
   "outputs": [
    {
     "name": "stdout",
     "output_type": "stream",
     "text": [
      "+---------+-----------+----------+-----------+------------+-----------------------+----------+\n",
      "|continent|   location|      date|total_cases|total_deaths|total_cases_per_million|population|\n",
      "+---------+-----------+----------+-----------+------------+-----------------------+----------+\n",
      "|     Asia|Afghanistan|2020-02-24|        1.0|        null|                  0.026|38928341.0|\n",
      "|     Asia|Afghanistan|2020-02-25|        1.0|        null|                  0.026|38928341.0|\n",
      "|     Asia|Afghanistan|2020-02-26|        1.0|        null|                  0.026|38928341.0|\n",
      "|     Asia|Afghanistan|2020-02-27|        1.0|        null|                  0.026|38928341.0|\n",
      "|     Asia|Afghanistan|2020-02-28|        1.0|        null|                  0.026|38928341.0|\n",
      "+---------+-----------+----------+-----------+------------+-----------------------+----------+\n",
      "only showing top 5 rows\n",
      "\n"
     ]
    }
   ],
   "source": [
    "df.select(\"continent\", \"location\", \"date\",\n",
    "          \"total_cases\", \"total_deaths\",\n",
    "          \"total_cases_per_million\",\n",
    "          \"population\"\n",
    "         ).show(5)"
   ]
  },
  {
   "cell_type": "code",
   "execution_count": 14,
   "metadata": {},
   "outputs": [
    {
     "name": "stdout",
     "output_type": "stream",
     "text": [
      "+-------+----------+-----------+-----------------------+------------+\n",
      "|country|      date|total_cases|total_cases_per_million|  population|\n",
      "+-------+----------+-----------+-----------------------+------------+\n",
      "|  India|2020-01-30|        1.0|                  0.001|1380004385.0|\n",
      "|  India|2020-01-31|        1.0|                  0.001|1380004385.0|\n",
      "|  India|2020-02-01|        1.0|                  0.001|1380004385.0|\n",
      "|  India|2020-02-02|        2.0|                  0.001|1380004385.0|\n",
      "|  India|2020-02-03|        3.0|                  0.002|1380004385.0|\n",
      "|  India|2020-02-04|        3.0|                  0.002|1380004385.0|\n",
      "|  India|2020-02-05|        3.0|                  0.002|1380004385.0|\n",
      "|  India|2020-02-06|        3.0|                  0.002|1380004385.0|\n",
      "|  India|2020-02-07|        3.0|                  0.002|1380004385.0|\n",
      "|  India|2020-02-08|        3.0|                  0.002|1380004385.0|\n",
      "|  India|2020-02-09|        3.0|                  0.002|1380004385.0|\n",
      "|  India|2020-02-10|        3.0|                  0.002|1380004385.0|\n",
      "|  India|2020-02-11|        3.0|                  0.002|1380004385.0|\n",
      "|  India|2020-02-12|        3.0|                  0.002|1380004385.0|\n",
      "|  India|2020-02-13|        3.0|                  0.002|1380004385.0|\n",
      "|  India|2020-02-14|        3.0|                  0.002|1380004385.0|\n",
      "|  India|2020-02-15|        3.0|                  0.002|1380004385.0|\n",
      "|  India|2020-02-16|        3.0|                  0.002|1380004385.0|\n",
      "|  India|2020-02-17|        3.0|                  0.002|1380004385.0|\n",
      "|  India|2020-02-18|        3.0|                  0.002|1380004385.0|\n",
      "+-------+----------+-----------+-----------------------+------------+\n",
      "only showing top 20 rows\n",
      "\n"
     ]
    }
   ],
   "source": [
    "df.createOrReplaceTempView(\"COVID\")\n",
    "covid_data=spark.sql(\"SELECT location AS country, date, total_cases, \\\n",
    "            total_cases_per_million, population \\\n",
    "            FROM COVID WHERE location='India'\")\n",
    "covid_data.show()"
   ]
  },
  {
   "cell_type": "code",
   "execution_count": 19,
   "metadata": {},
   "outputs": [
    {
     "name": "stdout",
     "output_type": "stream",
     "text": [
      "+-------+----------+-----------+-----------------------+------------+\n",
      "|country|      date|total_cases|total_cases_per_million|  population|\n",
      "+-------+----------+-----------+-----------------------+------------+\n",
      "|  India|2020-01-30|        1.0|                  0.001|1380004385.0|\n",
      "|  India|2020-01-31|        1.0|                  0.001|1380004385.0|\n",
      "|  India|2020-02-01|        1.0|                  0.001|1380004385.0|\n",
      "|  India|2020-02-02|        2.0|                  0.001|1380004385.0|\n",
      "|  India|2020-02-03|        3.0|                  0.002|1380004385.0|\n",
      "+-------+----------+-----------+-----------------------+------------+\n",
      "only showing top 5 rows\n",
      "\n"
     ]
    }
   ],
   "source": [
    "df.createOrReplaceTempView(\"COVID\")\n",
    "covid_data= spark.sql(\"SELECT location AS country, date, total_cases,\\\n",
    "            total_cases_per_million, population \\\n",
    "            FROM COVID WHERE location ='India'\")\n",
    "covid_data.show(5)"
   ]
  },
  {
   "cell_type": "code",
   "execution_count": 20,
   "metadata": {},
   "outputs": [
    {
     "data": {
      "text/plain": [
       "['country', 'date', 'total_cases', 'total_cases_per_million', 'population']"
      ]
     },
     "execution_count": 20,
     "metadata": {},
     "output_type": "execute_result"
    }
   ],
   "source": [
    "covid_data.columns"
   ]
  },
  {
   "cell_type": "code",
   "execution_count": 21,
   "metadata": {},
   "outputs": [
    {
     "data": {
      "text/plain": [
       "DataFrame[col_name: string]"
      ]
     },
     "execution_count": 21,
     "metadata": {},
     "output_type": "execute_result"
    }
   ],
   "source": [
    "spark.sql(\"SHOW COLUMNS FROM COVID\")"
   ]
  },
  {
   "cell_type": "code",
   "execution_count": 22,
   "metadata": {},
   "outputs": [
    {
     "data": {
      "text/plain": [
       "DataFrame[col_name: string, data_type: string, comment: string]"
      ]
     },
     "execution_count": 22,
     "metadata": {},
     "output_type": "execute_result"
    }
   ],
   "source": [
    "spark.sql(\"DESCRIBE COVID\")"
   ]
  },
  {
   "cell_type": "code",
   "execution_count": 30,
   "metadata": {
    "collapsed": true
   },
   "outputs": [
    {
     "ename": "AnalysisException",
     "evalue": "cannot resolve '`row_number`' given input columns: [covid.aged_65_older, covid.aged_70_older, covid.cardiovasc_death_rate, covid.continent, covid.date, covid.diabetes_prevalence, covid.extreme_poverty, covid.female_smokers, covid.gdp_per_capita, covid.handwashing_facilities, covid.hosp_patients, covid.hosp_patients_per_million, covid.hospital_beds_per_thousand, covid.human_development_index, covid.icu_patients, covid.icu_patients_per_million, covid.iso_code, covid.life_expectancy, covid.location, covid.male_smokers, covid.median_age, covid.new_cases, covid.new_cases_per_million, covid.new_cases_smoothed, covid.new_cases_smoothed_per_million, covid.new_deaths, covid.new_deaths_per_million, covid.new_deaths_smoothed, covid.new_deaths_smoothed_per_million, covid.new_tests, covid.new_tests_per_thousand, covid.new_tests_smoothed, covid.new_tests_smoothed_per_thousand, covid.new_vaccinations, covid.new_vaccinations_smoothed, covid.new_vaccinations_smoothed_per_million, covid.people_fully_vaccinated, covid.people_fully_vaccinated_per_hundred, covid.people_vaccinated, covid.people_vaccinated_per_hundred, covid.population, covid.population_density, covid.positive_rate, covid.reproduction_rate, covid.stringency_index, covid.tests_per_case, covid.tests_units, covid.total_cases, covid.total_cases_per_million, covid.total_deaths, covid.total_deaths_per_million, covid.total_tests, covid.total_tests_per_thousand, covid.total_vaccinations, covid.total_vaccinations_per_hundred, covid.weekly_hosp_admissions, covid.weekly_hosp_admissions_per_million, covid.weekly_icu_admissions, covid.weekly_icu_admissions_per_million]; line 1 pos 149;\n'Project ['location AS country#506, 'date, row_number() windowspecdefinition('location, 'date DESC NULLS LAST, specifiedwindowframe(RowFrame, unboundedpreceding$(), currentrow$())) AS row_number#507]\n+- 'Filter ('row_number = 1)\n   +- SubqueryAlias covid\n      +- Relation[iso_code#16,continent#17,location#18,date#19,total_cases#20,new_cases#21,new_cases_smoothed#22,total_deaths#23,new_deaths#24,new_deaths_smoothed#25,total_cases_per_million#26,new_cases_per_million#27,new_cases_smoothed_per_million#28,total_deaths_per_million#29,new_deaths_per_million#30,new_deaths_smoothed_per_million#31,reproduction_rate#32,icu_patients#33,icu_patients_per_million#34,hosp_patients#35,hosp_patients_per_million#36,weekly_icu_admissions#37,weekly_icu_admissions_per_million#38,weekly_hosp_admissions#39,... 35 more fields] csv\n",
     "output_type": "error",
     "traceback": [
      "\u001b[0;31m\u001b[0m",
      "\u001b[0;31mAnalysisException\u001b[0mTraceback (most recent call last)",
      "\u001b[0;32m<ipython-input-30-311541942e65>\u001b[0m in \u001b[0;36m<module>\u001b[0;34m\u001b[0m\n\u001b[1;32m      1\u001b[0m \u001b[0;31m# Window Function SQL: Think of a use case\u001b[0m\u001b[0;34m\u001b[0m\u001b[0;34m\u001b[0m\u001b[0;34m\u001b[0m\u001b[0m\n\u001b[1;32m      2\u001b[0m \u001b[0mdf\u001b[0m\u001b[0;34m.\u001b[0m\u001b[0mcreateOrReplaceTempView\u001b[0m\u001b[0;34m(\u001b[0m\u001b[0;34m\"COVID\"\u001b[0m\u001b[0;34m)\u001b[0m\u001b[0;34m\u001b[0m\u001b[0;34m\u001b[0m\u001b[0m\n\u001b[0;32m----> 3\u001b[0;31m covid_data= spark.sql(\"SELECT location AS country,date, \\\n\u001b[0m\u001b[1;32m      4\u001b[0m             \u001b[0mROW_NUMBER\u001b[0m\u001b[0;34m(\u001b[0m\u001b[0;34m)\u001b[0m \u001b[0mOVER\u001b[0m \u001b[0;34m(\u001b[0m\u001b[0mPARTITION\u001b[0m \u001b[0mBY\u001b[0m \u001b[0mlocation\u001b[0m \u001b[0mORDER\u001b[0m \u001b[0mBY\u001b[0m \u001b[0mdate\u001b[0m \u001b[0mdesc\u001b[0m\u001b[0;34m)\u001b[0m \u001b[0mAS\u001b[0m \u001b[0mrow_number\u001b[0m\u001b[0;31m \u001b[0m\u001b[0;31m\\\u001b[0m\u001b[0;34m\u001b[0m\u001b[0;34m\u001b[0m\u001b[0m\n\u001b[1;32m      5\u001b[0m             FROM COVID WHERE row_number=1\")\n",
      "\u001b[0;32m/usr/local/spark/python/pyspark/sql/session.py\u001b[0m in \u001b[0;36msql\u001b[0;34m(self, sqlQuery)\u001b[0m\n\u001b[1;32m    721\u001b[0m         \u001b[0;34m[\u001b[0m\u001b[0mRow\u001b[0m\u001b[0;34m(\u001b[0m\u001b[0mf1\u001b[0m\u001b[0;34m=\u001b[0m\u001b[0;36m1\u001b[0m\u001b[0;34m,\u001b[0m \u001b[0mf2\u001b[0m\u001b[0;34m=\u001b[0m\u001b[0;34m'row1'\u001b[0m\u001b[0;34m)\u001b[0m\u001b[0;34m,\u001b[0m \u001b[0mRow\u001b[0m\u001b[0;34m(\u001b[0m\u001b[0mf1\u001b[0m\u001b[0;34m=\u001b[0m\u001b[0;36m2\u001b[0m\u001b[0;34m,\u001b[0m \u001b[0mf2\u001b[0m\u001b[0;34m=\u001b[0m\u001b[0;34m'row2'\u001b[0m\u001b[0;34m)\u001b[0m\u001b[0;34m,\u001b[0m \u001b[0mRow\u001b[0m\u001b[0;34m(\u001b[0m\u001b[0mf1\u001b[0m\u001b[0;34m=\u001b[0m\u001b[0;36m3\u001b[0m\u001b[0;34m,\u001b[0m \u001b[0mf2\u001b[0m\u001b[0;34m=\u001b[0m\u001b[0;34m'row3'\u001b[0m\u001b[0;34m)\u001b[0m\u001b[0;34m]\u001b[0m\u001b[0;34m\u001b[0m\u001b[0;34m\u001b[0m\u001b[0m\n\u001b[1;32m    722\u001b[0m         \"\"\"\n\u001b[0;32m--> 723\u001b[0;31m         \u001b[0;32mreturn\u001b[0m \u001b[0mDataFrame\u001b[0m\u001b[0;34m(\u001b[0m\u001b[0mself\u001b[0m\u001b[0;34m.\u001b[0m\u001b[0m_jsparkSession\u001b[0m\u001b[0;34m.\u001b[0m\u001b[0msql\u001b[0m\u001b[0;34m(\u001b[0m\u001b[0msqlQuery\u001b[0m\u001b[0;34m)\u001b[0m\u001b[0;34m,\u001b[0m \u001b[0mself\u001b[0m\u001b[0;34m.\u001b[0m\u001b[0m_wrapped\u001b[0m\u001b[0;34m)\u001b[0m\u001b[0;34m\u001b[0m\u001b[0;34m\u001b[0m\u001b[0m\n\u001b[0m\u001b[1;32m    724\u001b[0m \u001b[0;34m\u001b[0m\u001b[0m\n\u001b[1;32m    725\u001b[0m     \u001b[0;32mdef\u001b[0m \u001b[0mtable\u001b[0m\u001b[0;34m(\u001b[0m\u001b[0mself\u001b[0m\u001b[0;34m,\u001b[0m \u001b[0mtableName\u001b[0m\u001b[0;34m)\u001b[0m\u001b[0;34m:\u001b[0m\u001b[0;34m\u001b[0m\u001b[0;34m\u001b[0m\u001b[0m\n",
      "\u001b[0;32m/usr/local/spark/python/lib/py4j-0.10.9-src.zip/py4j/java_gateway.py\u001b[0m in \u001b[0;36m__call__\u001b[0;34m(self, *args)\u001b[0m\n\u001b[1;32m   1302\u001b[0m \u001b[0;34m\u001b[0m\u001b[0m\n\u001b[1;32m   1303\u001b[0m         \u001b[0manswer\u001b[0m \u001b[0;34m=\u001b[0m \u001b[0mself\u001b[0m\u001b[0;34m.\u001b[0m\u001b[0mgateway_client\u001b[0m\u001b[0;34m.\u001b[0m\u001b[0msend_command\u001b[0m\u001b[0;34m(\u001b[0m\u001b[0mcommand\u001b[0m\u001b[0;34m)\u001b[0m\u001b[0;34m\u001b[0m\u001b[0;34m\u001b[0m\u001b[0m\n\u001b[0;32m-> 1304\u001b[0;31m         return_value = get_return_value(\n\u001b[0m\u001b[1;32m   1305\u001b[0m             answer, self.gateway_client, self.target_id, self.name)\n\u001b[1;32m   1306\u001b[0m \u001b[0;34m\u001b[0m\u001b[0m\n",
      "\u001b[0;32m/usr/local/spark/python/pyspark/sql/utils.py\u001b[0m in \u001b[0;36mdeco\u001b[0;34m(*a, **kw)\u001b[0m\n\u001b[1;32m    115\u001b[0m                 \u001b[0;31m# Hide where the exception came from that shows a non-Pythonic\u001b[0m\u001b[0;34m\u001b[0m\u001b[0;34m\u001b[0m\u001b[0;34m\u001b[0m\u001b[0m\n\u001b[1;32m    116\u001b[0m                 \u001b[0;31m# JVM exception message.\u001b[0m\u001b[0;34m\u001b[0m\u001b[0;34m\u001b[0m\u001b[0;34m\u001b[0m\u001b[0m\n\u001b[0;32m--> 117\u001b[0;31m                 \u001b[0;32mraise\u001b[0m \u001b[0mconverted\u001b[0m \u001b[0;32mfrom\u001b[0m \u001b[0;32mNone\u001b[0m\u001b[0;34m\u001b[0m\u001b[0;34m\u001b[0m\u001b[0m\n\u001b[0m\u001b[1;32m    118\u001b[0m             \u001b[0;32melse\u001b[0m\u001b[0;34m:\u001b[0m\u001b[0;34m\u001b[0m\u001b[0;34m\u001b[0m\u001b[0m\n\u001b[1;32m    119\u001b[0m                 \u001b[0;32mraise\u001b[0m\u001b[0;34m\u001b[0m\u001b[0;34m\u001b[0m\u001b[0m\n",
      "\u001b[0;31mAnalysisException\u001b[0m: cannot resolve '`row_number`' given input columns: [covid.aged_65_older, covid.aged_70_older, covid.cardiovasc_death_rate, covid.continent, covid.date, covid.diabetes_prevalence, covid.extreme_poverty, covid.female_smokers, covid.gdp_per_capita, covid.handwashing_facilities, covid.hosp_patients, covid.hosp_patients_per_million, covid.hospital_beds_per_thousand, covid.human_development_index, covid.icu_patients, covid.icu_patients_per_million, covid.iso_code, covid.life_expectancy, covid.location, covid.male_smokers, covid.median_age, covid.new_cases, covid.new_cases_per_million, covid.new_cases_smoothed, covid.new_cases_smoothed_per_million, covid.new_deaths, covid.new_deaths_per_million, covid.new_deaths_smoothed, covid.new_deaths_smoothed_per_million, covid.new_tests, covid.new_tests_per_thousand, covid.new_tests_smoothed, covid.new_tests_smoothed_per_thousand, covid.new_vaccinations, covid.new_vaccinations_smoothed, covid.new_vaccinations_smoothed_per_million, covid.people_fully_vaccinated, covid.people_fully_vaccinated_per_hundred, covid.people_vaccinated, covid.people_vaccinated_per_hundred, covid.population, covid.population_density, covid.positive_rate, covid.reproduction_rate, covid.stringency_index, covid.tests_per_case, covid.tests_units, covid.total_cases, covid.total_cases_per_million, covid.total_deaths, covid.total_deaths_per_million, covid.total_tests, covid.total_tests_per_thousand, covid.total_vaccinations, covid.total_vaccinations_per_hundred, covid.weekly_hosp_admissions, covid.weekly_hosp_admissions_per_million, covid.weekly_icu_admissions, covid.weekly_icu_admissions_per_million]; line 1 pos 149;\n'Project ['location AS country#506, 'date, row_number() windowspecdefinition('location, 'date DESC NULLS LAST, specifiedwindowframe(RowFrame, unboundedpreceding$(), currentrow$())) AS row_number#507]\n+- 'Filter ('row_number = 1)\n   +- SubqueryAlias covid\n      +- Relation[iso_code#16,continent#17,location#18,date#19,total_cases#20,new_cases#21,new_cases_smoothed#22,total_deaths#23,new_deaths#24,new_deaths_smoothed#25,total_cases_per_million#26,new_cases_per_million#27,new_cases_smoothed_per_million#28,total_deaths_per_million#29,new_deaths_per_million#30,new_deaths_smoothed_per_million#31,reproduction_rate#32,icu_patients#33,icu_patients_per_million#34,hosp_patients#35,hosp_patients_per_million#36,weekly_icu_admissions#37,weekly_icu_admissions_per_million#38,weekly_hosp_admissions#39,... 35 more fields] csv\n"
     ]
    }
   ],
   "source": [
    "# Window Function SQL: Think of a use case\n",
    "df.createOrReplaceTempView(\"COVID\")\n",
    "covid_data= spark.sql(\"SELECT location AS country,date, \\\n",
    "            ROW_NUMBER() OVER (PARTITION BY location ORDER BY date desc) AS row_number \\\n",
    "            FROM COVID WHERE row_number=1\")\n",
    "covid_data.show(100)"
   ]
  },
  {
   "cell_type": "markdown",
   "metadata": {},
   "source": [
    "### Reading Tab Separated Values (TSV)"
   ]
  },
  {
   "cell_type": "code",
   "execution_count": 57,
   "metadata": {},
   "outputs": [
    {
     "name": "stdout",
     "output_type": "stream",
     "text": [
      "gzip: data/2021-04-19_clean-dataset.tsv.gz already has .gz suffix -- unchanged\r\n"
     ]
    }
   ],
   "source": [
    "! wget 'https://github.com/thepanacealab/covid19_twitter/blob/master/dailies/2021-04-19/2021-04-19_clean-dataset.tsv.gz'\n",
    "! gzip 'data/2021-04-19_clean-dataset.tsv.gz'"
   ]
  },
  {
   "cell_type": "code",
   "execution_count": 9,
   "metadata": {},
   "outputs": [],
   "source": [
    "# Some other TSV files to play\n",
    "#! wget 'https://datasets.imdbws.com/title.ratings.tsv.gz' .\n",
    "#! wget 'https://datasets.imdbws.com/title.ratings.tsv.gz' .\n",
    "#! gunzip 'data/title.basics.tsv.gz'\n",
    "#! gunzip 'data/title.ratings.tsv.gz'"
   ]
  },
  {
   "cell_type": "code",
   "execution_count": 62,
   "metadata": {},
   "outputs": [
    {
     "data": {
      "text/plain": [
       "1645911"
      ]
     },
     "execution_count": 62,
     "metadata": {},
     "output_type": "execute_result"
    }
   ],
   "source": [
    "df = spark.read.csv(\"data/2021-04-19-dataset.tsv\", header= True, sep= '\\t')\n",
    "df.count()"
   ]
  },
  {
   "cell_type": "code",
   "execution_count": 60,
   "metadata": {},
   "outputs": [
    {
     "name": "stdout",
     "output_type": "stream",
     "text": [
      "root\n",
      " |-- tweet_id: string (nullable = true)\n",
      " |-- date: string (nullable = true)\n",
      " |-- time: string (nullable = true)\n",
      " |-- lang: string (nullable = true)\n",
      " |-- country_code: string (nullable = true)\n",
      "\n"
     ]
    }
   ],
   "source": [
    "df.printSchema()"
   ]
  },
  {
   "cell_type": "code",
   "execution_count": 63,
   "metadata": {},
   "outputs": [
    {
     "name": "stdout",
     "output_type": "stream",
     "text": [
      "+-------------------+----------+--------+----+------------+\n",
      "|           tweet_id|      date|    time|lang|country_code|\n",
      "+-------------------+----------+--------+----+------------+\n",
      "|1383994244709314567|2021-04-19|04:01:55|  en|        NULL|\n",
      "|1383994244763844612|2021-04-19|04:01:55|  en|        NULL|\n",
      "|1383994244986130433|2021-04-19|04:01:56|  es|        NULL|\n",
      "|1383994245065756673|2021-04-19|04:01:56|  in|        NULL|\n",
      "+-------------------+----------+--------+----+------------+\n",
      "only showing top 4 rows\n",
      "\n"
     ]
    }
   ],
   "source": [
    "df.show(4)"
   ]
  },
  {
   "cell_type": "markdown",
   "metadata": {},
   "source": [
    "### Reading JSON\n",
    "\n"
   ]
  },
  {
   "cell_type": "code",
   "execution_count": 52,
   "metadata": {},
   "outputs": [
    {
     "name": "stdout",
     "output_type": "stream",
     "text": [
      "--2021-04-21 01:54:38--  https://data.cdc.gov/resource/3apk-4u4f.json\n",
      "Resolving data.cdc.gov (data.cdc.gov)... 52.206.140.199, 52.206.68.26, 52.206.140.205\n",
      "Connecting to data.cdc.gov (data.cdc.gov)|52.206.140.199|:443... connected.\n",
      "HTTP request sent, awaiting response... 200 OK\n",
      "Length: unspecified [application/json]\n",
      "Saving to: ‘3apk-4u4f.json’\n",
      "\n",
      "3apk-4u4f.json          [ <=>                ]  33,63K  --.-KB/s    in 0,002s  \n",
      "\n",
      "2021-04-21 01:54:40 (15,6 MB/s) - ‘3apk-4u4f.json’ saved [34441]\n",
      "\n"
     ]
    }
   ],
   "source": [
    "! wget \"https://data.cdc.gov/resource/3apk-4u4f.json\""
   ]
  },
  {
   "cell_type": "markdown",
   "metadata": {},
   "source": [
    "### Binary Files"
   ]
  },
  {
   "cell_type": "code",
   "execution_count": null,
   "metadata": {},
   "outputs": [],
   "source": [
    "spark.read.format(\"binaryFile\").option(\"pathGlobFilter\", \"*.png\").load(\"/data\")\n"
   ]
  },
  {
   "cell_type": "markdown",
   "metadata": {},
   "source": [
    "\n",
    "##### Number of Delays:\n",
    "1. **Carrier**: The number of delays and cancellations due to circumstances within the airline's control (e.g. maintenance or crew problems, aircraft cleaning, baggage loading, fueling, etc.) in this month.\n",
    "2. **Late Aircraft**: The number of delays and cancellations caused by a previous flight with the same aircraft arriving late, causing the present flight to depart late in this month.\t\n",
    "3. **National Aviation System**: The number of delays and cancellations attributable to the national aviation system that refer to a broad set of conditions, such as non-extreme weather conditions, airport operations, heavy traffic volume, and air traffic control in this month.\n",
    "4. **Security**: Number of delays or cancellations caused by evacuation of a terminal or concourse, re-boarding of aircraft because of security breach, inoperative screening equipment and/or long lines in excess of 29 minutes at screening areas in this month.\n",
    "5. **Weather**: Number of delays or cancellations caused by significant meteorological conditions (actual or forecasted) that, in the judgment of the carrier, delays or prevents the operation of a flight such as tornado, blizzard or hurricane in this month.\t"
   ]
  },
  {
   "cell_type": "code",
   "execution_count": 82,
   "metadata": {},
   "outputs": [],
   "source": [
    "import requests, json\n",
    "\n",
    "url = 'https://think.cs.vt.edu/corgis/datasets/json/airlines/airlines.json'\n",
    "resp = requests.get(url=url)\n",
    "json_string = json.dumps(resp.json())\n",
    "json_data= json.loads(json_string)\n",
    "\n",
    "with open('airlines.json', 'w') as json_file:\n",
    "    json.dump(json_data, json_file)"
   ]
  },
  {
   "cell_type": "code",
   "execution_count": 83,
   "metadata": {},
   "outputs": [
    {
     "name": "stdout",
     "output_type": "stream",
     "text": [
      "+--------------------+--------------------+--------------------+\n",
      "|             Airport|          Statistics|                Time|\n",
      "+--------------------+--------------------+--------------------+\n",
      "|{ATL, Atlanta, GA...|{{1009, 1275, 321...|{2003/06, 6, June...|\n",
      "|{BOS, Boston, MA:...|{{374, 495, 685, ...|{2003/06, 6, June...|\n",
      "|{BWI, Baltimore, ...|{{296, 477, 389, ...|{2003/06, 6, June...|\n",
      "|{CLT, Charlotte, ...|{{300, 472, 735, ...|{2003/06, 6, June...|\n",
      "|{DCA, Washington,...|{{283, 268, 487, ...|{2003/06, 6, June...|\n",
      "|{DEN, Denver, CO:...|{{516, 323, 664, ...|{2003/06, 6, June...|\n",
      "+--------------------+--------------------+--------------------+\n",
      "only showing top 6 rows\n",
      "\n"
     ]
    }
   ],
   "source": [
    "df = spark.read.json(\"airlines.json\")\n",
    "df.show(6)"
   ]
  },
  {
   "cell_type": "code",
   "execution_count": 84,
   "metadata": {},
   "outputs": [],
   "source": [
    "df= spark.read.option(\"multiline\",\"true\").json(\"airlines.json\")\n",
    "#df.show(6)"
   ]
  },
  {
   "cell_type": "code",
   "execution_count": 85,
   "metadata": {},
   "outputs": [
    {
     "name": "stdout",
     "output_type": "stream",
     "text": [
      "root\n",
      " |-- Airport: struct (nullable = true)\n",
      " |    |-- Code: string (nullable = true)\n",
      " |    |-- Name: string (nullable = true)\n",
      " |-- Statistics: struct (nullable = true)\n",
      " |    |-- # of Delays: struct (nullable = true)\n",
      " |    |    |-- Carrier: long (nullable = true)\n",
      " |    |    |-- Late Aircraft: long (nullable = true)\n",
      " |    |    |-- National Aviation System: long (nullable = true)\n",
      " |    |    |-- Security: long (nullable = true)\n",
      " |    |    |-- Weather: long (nullable = true)\n",
      " |    |-- Carriers: struct (nullable = true)\n",
      " |    |    |-- Names: string (nullable = true)\n",
      " |    |    |-- Total: long (nullable = true)\n",
      " |    |-- Flights: struct (nullable = true)\n",
      " |    |    |-- Cancelled: long (nullable = true)\n",
      " |    |    |-- Delayed: long (nullable = true)\n",
      " |    |    |-- Diverted: long (nullable = true)\n",
      " |    |    |-- On Time: long (nullable = true)\n",
      " |    |    |-- Total: long (nullable = true)\n",
      " |    |-- Minutes Delayed: struct (nullable = true)\n",
      " |    |    |-- Carrier: long (nullable = true)\n",
      " |    |    |-- Late Aircraft: long (nullable = true)\n",
      " |    |    |-- National Aviation System: long (nullable = true)\n",
      " |    |    |-- Security: long (nullable = true)\n",
      " |    |    |-- Total: long (nullable = true)\n",
      " |    |    |-- Weather: long (nullable = true)\n",
      " |-- Time: struct (nullable = true)\n",
      " |    |-- Label: string (nullable = true)\n",
      " |    |-- Month: long (nullable = true)\n",
      " |    |-- Month Name: string (nullable = true)\n",
      " |    |-- Year: long (nullable = true)\n",
      "\n"
     ]
    }
   ],
   "source": [
    "# Understanding the schema of the JSON through the dataframe\n",
    "df.printSchema()"
   ]
  },
  {
   "cell_type": "code",
   "execution_count": 86,
   "metadata": {},
   "outputs": [
    {
     "name": "stdout",
     "output_type": "stream",
     "text": [
      "root\n",
      " |-- Code: string (nullable = true)\n",
      " |-- Name: string (nullable = true)\n",
      " |-- Carrier: long (nullable = true)\n",
      " |-- Late Aircraft: long (nullable = true)\n",
      " |-- Security: long (nullable = true)\n",
      " |-- Weather: long (nullable = true)\n",
      "\n"
     ]
    }
   ],
   "source": [
    "\n",
    "# Subsetting the dataframe to analyse the statistics of # (number) of delays\n",
    "airport_delay_statistics = df.select(\"Airport.Code\", \"Airport.Name\", \n",
    "                                     \"Statistics.# of Delays.Carrier\", \n",
    "                                     \"Statistics.# of Delays.Late Aircraft\",\n",
    "                                     \"Statistics.# of Delays.Security\", \n",
    "                                     \"Statistics.# of Delays.Weather\")\n",
    "airport_delay_statistics.printSchema()\n"
   ]
  },
  {
   "cell_type": "code",
   "execution_count": 87,
   "metadata": {},
   "outputs": [
    {
     "data": {
      "text/plain": [
       "['file:///Users/ankitbit/Documents/Lectures/Real-Time-Data-Analysis/airlines.json']"
      ]
     },
     "execution_count": 87,
     "metadata": {},
     "output_type": "execute_result"
    }
   ],
   "source": [
    "# Check which input file has created this dataframe\n",
    "airport_delay_statistics.inputFiles()"
   ]
  },
  {
   "cell_type": "code",
   "execution_count": 88,
   "metadata": {},
   "outputs": [
    {
     "name": "stdout",
     "output_type": "stream",
     "text": [
      "+-------+------------------+----------------+-----------------+-----------------+\n",
      "|summary|           Carrier|   Late Aircraft|         Security|          Weather|\n",
      "+-------+------------------+----------------+-----------------+-----------------+\n",
      "|  count|              4408|            4408|             4408|             4408|\n",
      "|   mean| 574.6324863883848|789.078947368421|  5.5755444646098|78.21687840290382|\n",
      "| stddev|329.61647461501815| 561.79842030889|6.007046080059749|75.18172623192343|\n",
      "|    min|               112|              86|               -1|                1|\n",
      "|    max|              3087|            4483|               94|              812|\n",
      "+-------+------------------+----------------+-----------------+-----------------+\n",
      "\n"
     ]
    }
   ],
   "source": [
    "\n",
    "# Creating summary statistics of the dataframe attributes\n",
    "airport_delay_statistics.select(\"Carrier\", \"Late Aircraft\",\n",
    "                                \"Security\",\"Weather\").describe().show()\n"
   ]
  },
  {
   "cell_type": "code",
   "execution_count": 90,
   "metadata": {},
   "outputs": [
    {
     "name": "stdout",
     "output_type": "stream",
     "text": [
      "+----+--------------------+-------+\n",
      "|Code|                Name|Weather|\n",
      "+----+--------------------+-------+\n",
      "| MDW|Chicago, IL: Chic...|      1|\n",
      "| PDX|Portland, OR: Por...|      2|\n",
      "| BWI|Baltimore, MD: Ba...|      2|\n",
      "| FLL|Fort Lauderdale, ...|      2|\n",
      "| PDX|Portland, OR: Por...|      3|\n",
      "| IAD|Washington, DC: W...|      3|\n",
      "| MCO|Orlando, FL: Orla...|      4|\n",
      "| PDX|Portland, OR: Por...|      4|\n",
      "| FLL|Fort Lauderdale, ...|      4|\n",
      "| MDW|Chicago, IL: Chic...|      4|\n",
      "+----+--------------------+-------+\n",
      "only showing top 10 rows\n",
      "\n"
     ]
    }
   ],
   "source": [
    "# Sorting the airport delay statistics based on the Weather\n",
    "airport_delay_statistics.select(\"Code\", \"Name\", \"Weather\").sort(\"Weather\").show(10)"
   ]
  },
  {
   "cell_type": "code",
   "execution_count": 92,
   "metadata": {},
   "outputs": [
    {
     "name": "stdout",
     "output_type": "stream",
     "text": [
      "+----+-------------------------------------------------------------------+-------+\n",
      "|Code|Name                                                               |Weather|\n",
      "+----+-------------------------------------------------------------------+-------+\n",
      "|MDW |Chicago, IL: Chicago Midway International                          |1      |\n",
      "|PDX |Portland, OR: Portland International                               |2      |\n",
      "|BWI |Baltimore, MD: Baltimore/Washington International Thurgood Marshall|2      |\n",
      "|FLL |Fort Lauderdale, FL: Fort Lauderdale-Hollywood International       |2      |\n",
      "|PDX |Portland, OR: Portland International                               |3      |\n",
      "|IAD |Washington, DC: Washington Dulles International                    |3      |\n",
      "|MCO |Orlando, FL: Orlando International                                 |4      |\n",
      "|PDX |Portland, OR: Portland International                               |4      |\n",
      "|FLL |Fort Lauderdale, FL: Fort Lauderdale-Hollywood International       |4      |\n",
      "|MDW |Chicago, IL: Chicago Midway International                          |4      |\n",
      "+----+-------------------------------------------------------------------+-------+\n",
      "only showing top 10 rows\n",
      "\n"
     ]
    }
   ],
   "source": [
    "\n",
    "# Sorting the airport delay statistics based on the Weather\n",
    "airport_delay_statistics.select(\"Code\", \"Name\", \"Weather\").sort(\"Weather\").show(10, truncate= False)"
   ]
  },
  {
   "cell_type": "code",
   "execution_count": 93,
   "metadata": {},
   "outputs": [
    {
     "data": {
      "text/plain": [
       "4408"
      ]
     },
     "execution_count": 93,
     "metadata": {},
     "output_type": "execute_result"
    }
   ],
   "source": [
    "airport_delay_statistics.count()"
   ]
  },
  {
   "cell_type": "code",
   "execution_count": 95,
   "metadata": {},
   "outputs": [
    {
     "name": "stdout",
     "output_type": "stream",
     "text": [
      "+----+------------+\n",
      "|Code|sum(Weather)|\n",
      "+----+------------+\n",
      "| DCA|        8504|\n",
      "| IAH|       13062|\n",
      "| LGA|       16350|\n",
      "+----+------------+\n",
      "only showing top 3 rows\n",
      "\n"
     ]
    }
   ],
   "source": [
    "\n",
    "# Find the list of most affected airports due to delays caused by weather\n",
    "from pyspark.sql.functions import col, sum, count\n",
    "airport_delay_statistics.select(\"Code\", \"Name\", \"Weather\").groupBy(\"Code\").sum(\"Weather\").show(3)#.sort(col(\"Weather\").desc()).show(5, truncate=False)\n"
   ]
  },
  {
   "cell_type": "code",
   "execution_count": 96,
   "metadata": {},
   "outputs": [
    {
     "name": "stdout",
     "output_type": "stream",
     "text": [
      "+----+------------------------------------------------------------+-------+\n",
      "|Code|Name                                                        |Weather|\n",
      "+----+------------------------------------------------------------+-------+\n",
      "|PDX |Portland, OR: Portland International                        |2791   |\n",
      "|SAN |San Diego, CA: San Diego International                      |5056   |\n",
      "|FLL |Fort Lauderdale, FL: Fort Lauderdale-Hollywood International|5084   |\n",
      "|TPA |Tampa, FL: Tampa International                              |5092   |\n",
      "|IAD |Washington, DC: Washington Dulles International             |5849   |\n",
      "|SEA |Seattle, WA: Seattle/Tacoma International                   |5953   |\n",
      "|MIA |Miami, FL: Miami International                              |7487   |\n",
      "|CLT |Charlotte, NC: Charlotte Douglas International              |7738   |\n",
      "|MCO |Orlando, FL: Orlando International                          |8124   |\n",
      "|DCA |Washington, DC: Ronald Reagan Washington National           |8504   |\n",
      "+----+------------------------------------------------------------+-------+\n",
      "only showing top 10 rows\n",
      "\n"
     ]
    }
   ],
   "source": [
    "\n",
    "# Using groupby to find the list of least affected unique airports\n",
    "from pyspark.sql.functions import col, sum, count\n",
    "airport_delay_statistics.select(\"Code\", \"Name\", \"Weather\") \\\n",
    "    .groupBy(\"Code\", \"Name\").agg(sum(\"Weather\") \\\n",
    "    .alias(\"Weather\")).sort(col(\"Weather\")).show(10, truncate=False)\n"
   ]
  },
  {
   "cell_type": "code",
   "execution_count": 97,
   "metadata": {},
   "outputs": [
    {
     "name": "stdout",
     "output_type": "stream",
     "text": [
      "+----+------------------------------------------------------+-------+\n",
      "|Code|Name                                                  |Weather|\n",
      "+----+------------------------------------------------------+-------+\n",
      "|ATL |Atlanta, GA: Hartsfield-Jackson Atlanta International |40113  |\n",
      "|DFW |Dallas/Fort Worth, TX: Dallas/Fort Worth International|30476  |\n",
      "|ORD |Chicago, IL: Chicago O'Hare International             |24358  |\n",
      "|LGA |New York, NY: LaGuardia                               |16350  |\n",
      "|DEN |Denver, CO: Denver International                      |15556  |\n",
      "|EWR |Newark, NJ: Newark Liberty International              |14668  |\n",
      "|LAX |Los Angeles, CA: Los Angeles International            |14652  |\n",
      "|IAH |Houston, TX: George Bush Intercontinental/Houston     |13062  |\n",
      "|BOS |Boston, MA: Logan International                       |11955  |\n",
      "|SFO |San Francisco, CA: San Francisco International        |11751  |\n",
      "+----+------------------------------------------------------+-------+\n",
      "only showing top 10 rows\n",
      "\n"
     ]
    }
   ],
   "source": [
    "\n",
    "# Using groupby to find the list of most affected unique airports\n",
    "from pyspark.sql.functions import col, sum, count\n",
    "airport_delay_statistics.select(\"Code\", \"Name\", \"Weather\") \\\n",
    "    .groupBy(\"Code\", \"Name\").agg(sum(\"Weather\") \\\n",
    "    .alias(\"Weather\")).sort(col(\"Weather\").desc()).show(10, truncate=False)"
   ]
  },
  {
   "cell_type": "code",
   "execution_count": 98,
   "metadata": {},
   "outputs": [
    {
     "name": "stdout",
     "output_type": "stream",
     "text": [
      "+----+------------------------------------------------------+--------+\n",
      "|Code|Name                                                  |Security|\n",
      "+----+------------------------------------------------------+--------+\n",
      "|LAX |Los Angeles, CA: Los Angeles International            |1738    |\n",
      "|PHX |Phoenix, AZ: Phoenix Sky Harbor International         |1715    |\n",
      "|IAH |Houston, TX: George Bush Intercontinental/Houston     |1355    |\n",
      "|LAS |Las Vegas, NV: McCarran International                 |1288    |\n",
      "|SLC |Salt Lake City, UT: Salt Lake City International      |1201    |\n",
      "|SEA |Seattle, WA: Seattle/Tacoma International             |1125    |\n",
      "|DEN |Denver, CO: Denver International                      |1122    |\n",
      "|DFW |Dallas/Fort Worth, TX: Dallas/Fort Worth International|1098    |\n",
      "|ATL |Atlanta, GA: Hartsfield-Jackson Atlanta International |1066    |\n",
      "|ORD |Chicago, IL: Chicago O'Hare International             |1027    |\n",
      "+----+------------------------------------------------------+--------+\n",
      "only showing top 10 rows\n",
      "\n"
     ]
    }
   ],
   "source": [
    "\n",
    "# Find the list of most affected airports due to delays caused by security\n",
    "airport_delay_statistics.select(\"Code\", \"Name\", \"Security\") \\\n",
    "    .groupBy(\"Code\", \"Name\").agg(sum(\"Security\") \\\n",
    "    .alias(\"Security\")).sort(col(\"Security\").desc()).show(10, truncate=False)\n"
   ]
  },
  {
   "cell_type": "code",
   "execution_count": 99,
   "metadata": {},
   "outputs": [
    {
     "data": {
      "text/plain": [
       "['Code', 'Name', 'Carrier', 'Late Aircraft', 'Security', 'Weather']"
      ]
     },
     "execution_count": 99,
     "metadata": {},
     "output_type": "execute_result"
    }
   ],
   "source": [
    " airport_delay_statistics.columns"
   ]
  },
  {
   "cell_type": "code",
   "execution_count": 100,
   "metadata": {},
   "outputs": [
    {
     "data": {
      "text/plain": [
       "[('Code', 'string'),\n",
       " ('Name', 'string'),\n",
       " ('Carrier', 'bigint'),\n",
       " ('Late Aircraft', 'bigint'),\n",
       " ('Security', 'bigint'),\n",
       " ('Weather', 'bigint')]"
      ]
     },
     "execution_count": 100,
     "metadata": {},
     "output_type": "execute_result"
    }
   ],
   "source": [
    "airport_delay_statistics.dtypes"
   ]
  },
  {
   "cell_type": "code",
   "execution_count": 101,
   "metadata": {},
   "outputs": [
    {
     "data": {
      "text/plain": [
       "18080.795857275385"
      ]
     },
     "execution_count": 101,
     "metadata": {},
     "output_type": "execute_result"
    }
   ],
   "source": [
    "airport_delay_statistics.cov(\"Carrier\", \"Weather\")"
   ]
  },
  {
   "cell_type": "code",
   "execution_count": 102,
   "metadata": {},
   "outputs": [
    {
     "name": "stdout",
     "output_type": "stream",
     "text": [
      "+-------+----+--------------------+------------------+----------------+-----------------+-----------------+\n",
      "|summary|Code|                Name|           Carrier|   Late Aircraft|         Security|          Weather|\n",
      "+-------+----+--------------------+------------------+----------------+-----------------+-----------------+\n",
      "|  count|4408|                4408|              4408|            4408|             4408|             4408|\n",
      "|   mean|null|                null| 574.6324863883848|789.078947368421|  5.5755444646098|78.21687840290382|\n",
      "| stddev|null|                null|329.61647461501815| 561.79842030889|6.007046080059749|75.18172623192343|\n",
      "|    min| ATL|Atlanta, GA: Hart...|               112|              86|               -1|                1|\n",
      "|    max| TPA|Washington, DC: W...|              3087|            4483|               94|              812|\n",
      "+-------+----+--------------------+------------------+----------------+-----------------+-----------------+\n",
      "\n"
     ]
    }
   ],
   "source": [
    "# Creating a summary statistics of the dataframe\n",
    "airport_delay_statistics.describe().show()"
   ]
  },
  {
   "cell_type": "code",
   "execution_count": 103,
   "metadata": {},
   "outputs": [
    {
     "name": "stdout",
     "output_type": "stream",
     "text": [
      "+-------+----+--------------------+-------+-------------+--------+-------+\n",
      "|summary|Code|                Name|Carrier|Late Aircraft|Security|Weather|\n",
      "+-------+----+--------------------+-------+-------------+--------+-------+\n",
      "|  count|4408|                4408|   4408|         4408|    4408|   4408|\n",
      "|    min| ATL|Atlanta, GA: Hart...|    112|           86|      -1|      1|\n",
      "|    max| TPA|Washington, DC: W...|   3087|         4483|      94|    812|\n",
      "+-------+----+--------------------+-------+-------------+--------+-------+\n",
      "\n"
     ]
    }
   ],
   "source": [
    "# Creating a summary statistics by without columns having NAs \n",
    "airport_delay_statistics.describe().dropna().show()"
   ]
  },
  {
   "cell_type": "code",
   "execution_count": 104,
   "metadata": {},
   "outputs": [
    {
     "name": "stdout",
     "output_type": "stream",
     "text": [
      "+-------+------------------+----------------+-----------------+-----------------+\n",
      "|summary|           Carrier|   Late Aircraft|         Security|          Weather|\n",
      "+-------+------------------+----------------+-----------------+-----------------+\n",
      "|  count|              4408|            4408|             4408|             4408|\n",
      "|   mean| 574.6324863883848|789.078947368421|  5.5755444646098|78.21687840290382|\n",
      "| stddev|329.61647461501815| 561.79842030889|6.007046080059749|75.18172623192343|\n",
      "|    min|               112|              86|               -1|                1|\n",
      "|    max|              3087|            4483|               94|              812|\n",
      "+-------+------------------+----------------+-----------------+-----------------+\n",
      "\n"
     ]
    }
   ],
   "source": [
    "# Creating a summary statistics by without columns having NAs \n",
    "airport_delay_statistics.describe().drop(\"Code\", \"Name\").show()"
   ]
  },
  {
   "cell_type": "markdown",
   "metadata": {},
   "source": [
    "### Filtering rows \n",
    "\n",
    "* Discuss more about the various logical operations that can take place apart from OR such as AND, >, < etc\n",
    "* discuss about various programming methods to implement the same operation\n",
    "* explain how to extract the first row using FIRST\n",
    "* explain how to extract the first N rows using HEAD\n",
    "* "
   ]
  },
  {
   "cell_type": "code",
   "execution_count": 316,
   "metadata": {},
   "outputs": [
    {
     "name": "stdout",
     "output_type": "stream",
     "text": [
      "+----+-----------------------------------------------------+--------+\n",
      "|Code|Name                                                 |Security|\n",
      "+----+-----------------------------------------------------+--------+\n",
      "|ATL |Atlanta, GA: Hartsfield-Jackson Atlanta International|1066    |\n",
      "|TPA |Tampa, FL: Tampa International                       |500     |\n",
      "+----+-----------------------------------------------------+--------+\n",
      "\n"
     ]
    }
   ],
   "source": [
    "# Find the list of most affected airports due to delays caused by security\n",
    "# Filtering rows using a WHERE clause\n",
    "airport_statistics.select(\"Code\", \"Name\", \"Security\") \\\n",
    "    .groupBy(\"Code\", \"Name\").agg(sum(\"Security\") \\\n",
    "    .alias(\"Security\")).sort(col(\"Security\").desc()) \\\n",
    "    .where((col(\"Code\")== \"ATL\") | (col(\"Code\")== \"TPA\")) \\\n",
    "    .show(10, truncate=False)"
   ]
  },
  {
   "cell_type": "code",
   "execution_count": 317,
   "metadata": {},
   "outputs": [
    {
     "name": "stdout",
     "output_type": "stream",
     "text": [
      "+----+-----------------------------------------------------+--------+\n",
      "|Code|Name                                                 |Security|\n",
      "+----+-----------------------------------------------------+--------+\n",
      "|ATL |Atlanta, GA: Hartsfield-Jackson Atlanta International|1066    |\n",
      "|TPA |Tampa, FL: Tampa International                       |500     |\n",
      "+----+-----------------------------------------------------+--------+\n",
      "\n"
     ]
    }
   ],
   "source": [
    "# Find the list of most affected airports due to delays caused by security\n",
    "# Filtering rows using a FILTER clause\n",
    "airport_statistics.select(\"Code\", \"Name\", \"Security\") \\\n",
    "    .groupBy(\"Code\", \"Name\").agg(sum(\"Security\") \\\n",
    "    .alias(\"Security\")).sort(col(\"Security\").desc()) \\\n",
    "    .filter((col(\"Code\")== \"ATL\") | (col(\"Code\")== \"TPA\")) \\\n",
    "    .show(10, truncate=False)"
   ]
  },
  {
   "cell_type": "code",
   "execution_count": 318,
   "metadata": {},
   "outputs": [
    {
     "name": "stdout",
     "output_type": "stream",
     "text": [
      "+----+-----------------------------------------------------+--------+\n",
      "|Code|Name                                                 |Security|\n",
      "+----+-----------------------------------------------------+--------+\n",
      "|ATL |Atlanta, GA: Hartsfield-Jackson Atlanta International|1066    |\n",
      "|TPA |Tampa, FL: Tampa International                       |500     |\n",
      "+----+-----------------------------------------------------+--------+\n",
      "\n"
     ]
    }
   ],
   "source": [
    "# Find the list of most affected airports due to delays caused by security\n",
    "# Filtering rows using a WHERE clause\n",
    "\n",
    "condition_1= (col(\"Code\")== \"ATL\")\n",
    "condition_2= (col(\"Code\")== \"TPA\")\n",
    "\n",
    "airport_statistics.select(\"Code\", \"Name\", \"Security\") \\\n",
    "    .groupBy(\"Code\", \"Name\").agg(sum(\"Security\") \\\n",
    "    .alias(\"Security\")).sort(col(\"Security\").desc()) \\\n",
    "    .where(condition_1 | condition_2) \\\n",
    "    .show(10, truncate=False)"
   ]
  },
  {
   "cell_type": "code",
   "execution_count": 327,
   "metadata": {},
   "outputs": [
    {
     "data": {
      "text/plain": [
       "False"
      ]
     },
     "execution_count": 327,
     "metadata": {},
     "output_type": "execute_result"
    }
   ],
   "source": [
    "airport_delay_statistics.isStreaming"
   ]
  },
  {
   "cell_type": "code",
   "execution_count": 330,
   "metadata": {},
   "outputs": [
    {
     "data": {
      "text/plain": [
       "<pyspark.sql.dataframe.DataFrameNaFunctions at 0x7f9ef0c9f780>"
      ]
     },
     "execution_count": 330,
     "metadata": {},
     "output_type": "execute_result"
    }
   ],
   "source": [
    "airport_delay_statistics.na"
   ]
  },
  {
   "cell_type": "code",
   "execution_count": 331,
   "metadata": {},
   "outputs": [
    {
     "data": {
      "text/plain": [
       "<bound method DataFrame.persist of DataFrame[Code: string, Name: string, Carrier: bigint, Late Aircraft: bigint, Security: bigint, Weather: bigint]>"
      ]
     },
     "execution_count": 331,
     "metadata": {},
     "output_type": "execute_result"
    }
   ],
   "source": [
    "airport_delay_statistics.persist"
   ]
  },
  {
   "cell_type": "code",
   "execution_count": 338,
   "metadata": {},
   "outputs": [],
   "source": [
    "split_1, split_2= airport_delay_statistics.randomSplit([1.0, 2.0], 24)"
   ]
  },
  {
   "cell_type": "code",
   "execution_count": 343,
   "metadata": {},
   "outputs": [
    {
     "name": "stdout",
     "output_type": "stream",
     "text": [
      "+----+--------------------+-------+-------------+--------+-------+\n",
      "|Code|                Name|Carrier|Late Aircraft|Security|Weather|\n",
      "+----+--------------------+-------+-------------+--------+-------+\n",
      "| ATL|Atlanta, GA: Hart...|    776|         1910|       4|    101|\n",
      "| ATL|Atlanta, GA: Hart...|    875|         1146|       6|     39|\n",
      "| ATL|Atlanta, GA: Hart...|    880|         1095|       3|     26|\n",
      "+----+--------------------+-------+-------------+--------+-------+\n",
      "only showing top 3 rows\n",
      "\n"
     ]
    }
   ],
   "source": [
    "split_1.show(3)"
   ]
  },
  {
   "cell_type": "code",
   "execution_count": 341,
   "metadata": {},
   "outputs": [
    {
     "name": "stdout",
     "output_type": "stream",
     "text": [
      "+----+--------------------+-------+-------------+--------+-------+\n",
      "|Code|                Name|Carrier|Late Aircraft|Security|Weather|\n",
      "+----+--------------------+-------+-------------+--------+-------+\n",
      "| ATL|Atlanta, GA: Hart...|    700|          807|       4|    161|\n",
      "| ATL|Atlanta, GA: Hart...|    756|          906|       4|    170|\n",
      "| ATL|Atlanta, GA: Hart...|    789|          888|       6|    155|\n",
      "+----+--------------------+-------+-------------+--------+-------+\n",
      "only showing top 3 rows\n",
      "\n"
     ]
    }
   ],
   "source": [
    "split_2.show(3)"
   ]
  },
  {
   "cell_type": "code",
   "execution_count": null,
   "metadata": {},
   "outputs": [],
   "source": [
    "# df.replace\n",
    "# df.repartition, df.repartitionByRange\n",
    "# df.registerTempTable\n",
    "# df.rdd\n",
    "# df.intersect\n",
    "# df.intersectAll\n",
    "# df.collect vs df.take vs df.show\n",
    "# df.hint()\n",
    "# using explode feature\n",
    "# createGlobalTempView\n",
    "# createOrReplaceGlobalTempView\n",
    "# distinct \n",
    "# drop_duplicates\n",
    "# exceptALL\n",
    "# fillna\n",
    "# \n",
    "# cube function is most important"
   ]
  }
 ],
 "metadata": {
  "kernelspec": {
   "display_name": "Python 3",
   "language": "python",
   "name": "python3"
  },
  "language_info": {
   "codemirror_mode": {
    "name": "ipython",
    "version": 3
   },
   "file_extension": ".py",
   "mimetype": "text/x-python",
   "name": "python",
   "nbconvert_exporter": "python",
   "pygments_lexer": "ipython3",
   "version": "3.9.4"
  },
  "toc": {
   "base_numbering": 1,
   "nav_menu": {},
   "number_sections": true,
   "sideBar": true,
   "skip_h1_title": false,
   "title_cell": "Table of Contents",
   "title_sidebar": "Contents",
   "toc_cell": false,
   "toc_position": {},
   "toc_section_display": true,
   "toc_window_display": true
  }
 },
 "nbformat": 4,
 "nbformat_minor": 2
}
