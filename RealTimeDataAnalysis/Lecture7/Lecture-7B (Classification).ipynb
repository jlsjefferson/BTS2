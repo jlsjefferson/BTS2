{
 "cells": [
  {
   "cell_type": "code",
   "execution_count": 1,
   "id": "0934965f",
   "metadata": {},
   "outputs": [
    {
     "name": "stdout",
     "output_type": "stream",
     "text": [
      "--2021-05-03 09:59:22--  https://archive.ics.uci.edu/ml/machine-learning-databases/00222/bank.zip\n",
      "Resolving archive.ics.uci.edu (archive.ics.uci.edu)... 128.195.10.252\n",
      "Connecting to archive.ics.uci.edu (archive.ics.uci.edu)|128.195.10.252|:443... connected.\n",
      "HTTP request sent, awaiting response... 200 OK\n",
      "Length: 579043 (565K) [application/x-httpd-php]\n",
      "Saving to: ‘bank.zip’\n",
      "\n",
      "bank.zip            100%[===================>] 565,47K   441KB/s    in 1,3s    \n",
      "\n",
      "2021-05-03 09:59:25 (441 KB/s) - ‘bank.zip’ saved [579043/579043]\n",
      "\n",
      "Archive:  bank.zip\n",
      "  inflating: bank-full.csv           \n",
      "  inflating: bank-names.txt          \n",
      "  inflating: bank.csv                \n"
     ]
    }
   ],
   "source": [
    "! wget 'https://archive.ics.uci.edu/ml/machine-learning-databases/00222/bank.zip'\n",
    "! unzip 'bank.zip'"
   ]
  },
  {
   "cell_type": "code",
   "execution_count": 142,
   "id": "22c80b97",
   "metadata": {},
   "outputs": [],
   "source": [
    "from pyspark.sql import SparkSession\n",
    "from pyspark.sql.types import StructType, StructField, IntegerType, StringType, FloatType\n",
    "\n",
    "spark = SparkSession.builder.master('local[*]').appName('term-deposit-prediction').getOrCreate()\n",
    "df = spark.read.csv('bank.csv', sep= ';', header = True, inferSchema = True)"
   ]
  },
  {
   "cell_type": "code",
   "execution_count": 143,
   "id": "e03df7cf",
   "metadata": {},
   "outputs": [
    {
     "name": "stdout",
     "output_type": "stream",
     "text": [
      "+---+----------+-------+---------+-------+-------+-------+----+\n",
      "|age|job       |marital|education|default|balance|housing|loan|\n",
      "+---+----------+-------+---------+-------+-------+-------+----+\n",
      "|30 |unemployed|married|primary  |no     |1787   |no     |no  |\n",
      "|33 |services  |married|secondary|no     |4789   |yes    |yes |\n",
      "|35 |management|single |tertiary |no     |1350   |yes    |no  |\n",
      "|30 |management|married|tertiary |no     |1476   |yes    |yes |\n",
      "+---+----------+-------+---------+-------+-------+-------+----+\n",
      "only showing top 4 rows\n",
      "\n"
     ]
    }
   ],
   "source": [
    "df.select(df.columns[:8]).show(4, truncate= False)"
   ]
  },
  {
   "cell_type": "code",
   "execution_count": 144,
   "id": "cce4a18c",
   "metadata": {},
   "outputs": [
    {
     "name": "stdout",
     "output_type": "stream",
     "text": [
      "+-------+-----+\n",
      "|deposit|count|\n",
      "+-------+-----+\n",
      "|     no| 4000|\n",
      "|    yes|  521|\n",
      "+-------+-----+\n",
      "\n"
     ]
    }
   ],
   "source": [
    "# Fidning the number of datapoints in each of the classes\n",
    "df= df.withColumnRenamed(\"y\", \"deposit\")\n",
    "df.groupby('deposit').count().show()"
   ]
  },
  {
   "cell_type": "code",
   "execution_count": 145,
   "id": "d394734b",
   "metadata": {},
   "outputs": [
    {
     "name": "stdout",
     "output_type": "stream",
     "text": [
      "+-------+------------------+-------+--------+---------+-------+------------------+-------+----+\n",
      "|summary|               age|    job| marital|education|default|           balance|housing|loan|\n",
      "+-------+------------------+-------+--------+---------+-------+------------------+-------+----+\n",
      "|  count|              4521|   4521|    4521|     4521|   4521|              4521|   4521|4521|\n",
      "|   mean| 41.17009511170095|   null|    null|     null|   null|1422.6578190665782|   null|null|\n",
      "| stddev|10.576210958711263|   null|    null|     null|   null|3009.6381424673395|   null|null|\n",
      "|    min|                19| admin.|divorced|  primary|     no|             -3313|     no|  no|\n",
      "|    max|                87|unknown|  single|  unknown|    yes|             71188|    yes| yes|\n",
      "+-------+------------------+-------+--------+---------+-------+------------------+-------+----+\n",
      "\n"
     ]
    }
   ],
   "source": [
    "# Extracting a subset of the data for finding summary statistics\n",
    "df.select(df.columns[:8]).describe().show()"
   ]
  },
  {
   "cell_type": "code",
   "execution_count": 146,
   "id": "6d8758be",
   "metadata": {},
   "outputs": [
    {
     "data": {
      "text/html": [
       "<div>\n",
       "<style scoped>\n",
       "    .dataframe tbody tr th:only-of-type {\n",
       "        vertical-align: middle;\n",
       "    }\n",
       "\n",
       "    .dataframe tbody tr th {\n",
       "        vertical-align: top;\n",
       "    }\n",
       "\n",
       "    .dataframe thead th {\n",
       "        text-align: right;\n",
       "    }\n",
       "</style>\n",
       "<table border=\"1\" class=\"dataframe\">\n",
       "  <thead>\n",
       "    <tr style=\"text-align: right;\">\n",
       "      <th></th>\n",
       "      <th>0</th>\n",
       "      <th>1</th>\n",
       "      <th>2</th>\n",
       "      <th>3</th>\n",
       "      <th>4</th>\n",
       "    </tr>\n",
       "  </thead>\n",
       "  <tbody>\n",
       "    <tr>\n",
       "      <th>summary</th>\n",
       "      <td>count</td>\n",
       "      <td>mean</td>\n",
       "      <td>stddev</td>\n",
       "      <td>min</td>\n",
       "      <td>max</td>\n",
       "    </tr>\n",
       "    <tr>\n",
       "      <th>age</th>\n",
       "      <td>4521</td>\n",
       "      <td>41.17009511170095</td>\n",
       "      <td>10.576210958711263</td>\n",
       "      <td>19</td>\n",
       "      <td>87</td>\n",
       "    </tr>\n",
       "    <tr>\n",
       "      <th>balance</th>\n",
       "      <td>4521</td>\n",
       "      <td>1422.6578190665782</td>\n",
       "      <td>3009.6381424673395</td>\n",
       "      <td>-3313</td>\n",
       "      <td>71188</td>\n",
       "    </tr>\n",
       "    <tr>\n",
       "      <th>day</th>\n",
       "      <td>4521</td>\n",
       "      <td>15.915284229152842</td>\n",
       "      <td>8.247667327229934</td>\n",
       "      <td>1</td>\n",
       "      <td>31</td>\n",
       "    </tr>\n",
       "    <tr>\n",
       "      <th>duration</th>\n",
       "      <td>4521</td>\n",
       "      <td>263.96129174961294</td>\n",
       "      <td>259.85663262468216</td>\n",
       "      <td>4</td>\n",
       "      <td>3025</td>\n",
       "    </tr>\n",
       "    <tr>\n",
       "      <th>campaign</th>\n",
       "      <td>4521</td>\n",
       "      <td>2.793629727936297</td>\n",
       "      <td>3.1098066601885823</td>\n",
       "      <td>1</td>\n",
       "      <td>50</td>\n",
       "    </tr>\n",
       "    <tr>\n",
       "      <th>pdays</th>\n",
       "      <td>4521</td>\n",
       "      <td>39.766644547666445</td>\n",
       "      <td>100.12112444301656</td>\n",
       "      <td>-1</td>\n",
       "      <td>871</td>\n",
       "    </tr>\n",
       "    <tr>\n",
       "      <th>previous</th>\n",
       "      <td>4521</td>\n",
       "      <td>0.5425790754257908</td>\n",
       "      <td>1.6935623506071211</td>\n",
       "      <td>0</td>\n",
       "      <td>25</td>\n",
       "    </tr>\n",
       "  </tbody>\n",
       "</table>\n",
       "</div>"
      ],
      "text/plain": [
       "              0                   1                   2      3      4\n",
       "summary   count                mean              stddev    min    max\n",
       "age        4521   41.17009511170095  10.576210958711263     19     87\n",
       "balance    4521  1422.6578190665782  3009.6381424673395  -3313  71188\n",
       "day        4521  15.915284229152842   8.247667327229934      1     31\n",
       "duration   4521  263.96129174961294  259.85663262468216      4   3025\n",
       "campaign   4521   2.793629727936297  3.1098066601885823      1     50\n",
       "pdays      4521  39.766644547666445  100.12112444301656     -1    871\n",
       "previous   4521  0.5425790754257908  1.6935623506071211      0     25"
      ]
     },
     "execution_count": 146,
     "metadata": {},
     "output_type": "execute_result"
    }
   ],
   "source": [
    "# create a list which has the names of all the numeric features\n",
    "numeric_features = [t[0] for t in df.dtypes if t[1] == 'int']\n",
    "df.select(numeric_features).describe().toPandas().transpose()"
   ]
  },
  {
   "cell_type": "code",
   "execution_count": 147,
   "id": "58069ae0",
   "metadata": {},
   "outputs": [],
   "source": [
    "# removing the features day and month due to non-relevance\n",
    "df = df.select('age', 'job', 'marital', 'education', 'default', \n",
    "               'balance', 'housing', 'loan', 'contact', 'duration', \n",
    "               'campaign', 'pdays', 'previous', 'poutcome', 'deposit')"
   ]
  },
  {
   "cell_type": "code",
   "execution_count": 148,
   "id": "ce951320",
   "metadata": {},
   "outputs": [
    {
     "data": {
      "text/plain": [
       "[('age', 'int'),\n",
       " ('job', 'string'),\n",
       " ('marital', 'string'),\n",
       " ('education', 'string'),\n",
       " ('default', 'string'),\n",
       " ('balance', 'int'),\n",
       " ('housing', 'string'),\n",
       " ('loan', 'string'),\n",
       " ('contact', 'string'),\n",
       " ('duration', 'int'),\n",
       " ('campaign', 'int'),\n",
       " ('pdays', 'int'),\n",
       " ('previous', 'int'),\n",
       " ('poutcome', 'string'),\n",
       " ('deposit', 'string')]"
      ]
     },
     "execution_count": 148,
     "metadata": {},
     "output_type": "execute_result"
    }
   ],
   "source": [
    "df.dtypes"
   ]
  },
  {
   "cell_type": "code",
   "execution_count": 149,
   "id": "c91de38c",
   "metadata": {},
   "outputs": [],
   "source": [
    "from pyspark.ml.feature import OneHotEncoder, StringIndexer, VectorAssembler\n",
    "\n",
    "stages = []\n",
    "numericCols = [field for (field, dataType) in df.dtypes\n",
    "               if ((dataType == \"int\") & (field != \"deposit\"))]\n",
    "categoricalColumns = [field for (field, dataType) in df.dtypes\n",
    "                   if dataType == \"string\"]\n",
    "categoricalColumns.remove(\"deposit\")\n",
    "\n",
    "for categoricalCol in categoricalColumns:\n",
    "    stringIndexer = StringIndexer(inputCol = categoricalCol, outputCol = categoricalCol + 'Index')\n",
    "    encoder = OneHotEncoder(inputCols=[stringIndexer.getOutputCol()], outputCols=[categoricalCol + \"classVec\"])\n",
    "    stages += [stringIndexer, encoder]\n",
    "\n",
    "label_stringIdx = StringIndexer(inputCol = 'deposit', outputCol = 'label')\n",
    "stages += [label_stringIdx]\n",
    "\n",
    "\n",
    "assemblerInputs = [c + \"classVec\" for c in categoricalColumns] + numericCols\n",
    "assembler = VectorAssembler(inputCols=assemblerInputs, outputCol=\"features\")\n",
    "stages += [assembler]"
   ]
  },
  {
   "cell_type": "code",
   "execution_count": 150,
   "id": "4b00379d",
   "metadata": {},
   "outputs": [
    {
     "name": "stdout",
     "output_type": "stream",
     "text": [
      "Training Dataset Count: 3204\n",
      "Test Dataset Count: 1317\n"
     ]
    }
   ],
   "source": [
    "train, test = df.randomSplit([0.7, 0.3], seed = 2018)\n",
    "print(\"Training Dataset Count: \" + str(train.count()))\n",
    "print(\"Test Dataset Count: \" + str(test.count()))"
   ]
  },
  {
   "cell_type": "code",
   "execution_count": 151,
   "id": "68cb08af",
   "metadata": {},
   "outputs": [
    {
     "name": "stdout",
     "output_type": "stream",
     "text": [
      "+--------------------+-----+----------+\n",
      "|            features|label|prediction|\n",
      "+--------------------+-----+----------+\n",
      "|(30,[10,12,15,16,...|  1.0|       0.0|\n",
      "|(30,[4,12,13,16,1...|  0.0|       0.0|\n",
      "|(30,[10,12,13,16,...|  1.0|       1.0|\n",
      "|(30,[10,12,13,16,...|  0.0|       0.0|\n",
      "|(30,[10,12,13,16,...|  0.0|       0.0|\n",
      "+--------------------+-----+----------+\n",
      "only showing top 5 rows\n",
      "\n"
     ]
    }
   ],
   "source": [
    "from pyspark.ml.classification import LogisticRegression\n",
    "from pyspark.ml import Pipeline\n",
    "\n",
    "lr = LogisticRegression(labelCol=\"label\", featuresCol=\"features\")\n",
    "stages+= [lr]\n",
    "pipeline = Pipeline(stages = stages)\n",
    "pipelineModel = pipeline.fit(train)\n",
    "pred = pipelineModel.transform(test)\n",
    "pred.select(\"features\", \"label\", \"prediction\").show(5)"
   ]
  },
  {
   "cell_type": "code",
   "execution_count": 152,
   "id": "0b114d92",
   "metadata": {},
   "outputs": [
    {
     "name": "stdout",
     "output_type": "stream",
     "text": [
      "Area Under ROC = 0.862333 \n"
     ]
    }
   ],
   "source": [
    "from pyspark.ml.evaluation import BinaryClassificationEvaluator\n",
    "evaluator = BinaryClassificationEvaluator(\n",
    "    labelCol=\"label\", metricName=\"areaUnderROC\")\n",
    "accuracy = evaluator.evaluate(pred)\n",
    "print(\"Area Under ROC = %g \" % (accuracy))"
   ]
  },
  {
   "cell_type": "markdown",
   "id": "f32981f1",
   "metadata": {},
   "source": [
    "## Random Forest Model"
   ]
  },
  {
   "cell_type": "code",
   "execution_count": 153,
   "id": "b203eb8e",
   "metadata": {},
   "outputs": [
    {
     "name": "stdout",
     "output_type": "stream",
     "text": [
      "+--------------------+-----+----------+\n",
      "|            features|label|prediction|\n",
      "+--------------------+-----+----------+\n",
      "|(30,[10,12,15,16,...|  1.0|       0.0|\n",
      "|(30,[4,12,13,16,1...|  0.0|       0.0|\n",
      "|(30,[10,12,13,16,...|  1.0|       0.0|\n",
      "|(30,[10,12,13,16,...|  0.0|       0.0|\n",
      "|(30,[10,12,13,16,...|  0.0|       0.0|\n",
      "+--------------------+-----+----------+\n",
      "only showing top 5 rows\n",
      "\n"
     ]
    }
   ],
   "source": [
    "from pyspark.ml.classification import RandomForestClassifier\n",
    "from pyspark.ml import Pipeline\n",
    "rf = RandomForestClassifier(featuresCol = 'features', labelCol = 'label')\n",
    "stages.remove(stages[-1])\n",
    "stages+= [rf]\n",
    "pipeline = Pipeline(stages = stages)\n",
    "pipelineModel = pipeline.fit(train)\n",
    "pred = pipelineModel.transform(test)\n",
    "pred.select(\"features\", \"label\", \"prediction\").show(5)"
   ]
  },
  {
   "cell_type": "code",
   "execution_count": 154,
   "id": "8b9f9da7",
   "metadata": {},
   "outputs": [
    {
     "name": "stdout",
     "output_type": "stream",
     "text": [
      "Area Under ROC = 0.86742 \n"
     ]
    }
   ],
   "source": [
    "from pyspark.ml.evaluation import BinaryClassificationEvaluator\n",
    "evaluator = BinaryClassificationEvaluator(\n",
    "    labelCol=\"label\", metricName=\"areaUnderROC\")\n",
    "accuracy = evaluator.evaluate(pred)\n",
    "print(\"Area Under ROC = %g \" % (accuracy))"
   ]
  },
  {
   "cell_type": "code",
   "execution_count": 155,
   "id": "195fae3a",
   "metadata": {},
   "outputs": [],
   "source": [
    "from pyspark.ml.tuning import ParamGridBuilder\n",
    "paramGrid = (ParamGridBuilder()\n",
    "    .addGrid(rf.maxDepth, [2, 4, 6])\n",
    "    .addGrid(rf.numTrees, [10, 100])\n",
    "    .build())"
   ]
  },
  {
   "cell_type": "code",
   "execution_count": 156,
   "id": "7996767b",
   "metadata": {},
   "outputs": [],
   "source": [
    "from pyspark.ml.tuning import CrossValidator\n",
    "cv = CrossValidator(estimator=pipeline,\n",
    "    evaluator=evaluator,\n",
    "    estimatorParamMaps=paramGrid,\n",
    "    numFolds=3,\n",
    "    seed=42)\n",
    "cvModel = cv.fit(train)"
   ]
  },
  {
   "cell_type": "code",
   "execution_count": 157,
   "id": "1b739844",
   "metadata": {},
   "outputs": [
    {
     "data": {
      "text/plain": [
       "[({Param(parent='RandomForestClassifier_b77223118c4d', name='maxDepth', doc='Maximum depth of the tree. (>= 0) E.g., depth 0 means 1 leaf node; depth 1 means 1 internal node + 2 leaf nodes.'): 2,\n",
       "   Param(parent='RandomForestClassifier_b77223118c4d', name='numTrees', doc='Number of trees to train (>= 1).'): 10},\n",
       "  0.6456131717826524),\n",
       " ({Param(parent='RandomForestClassifier_b77223118c4d', name='maxDepth', doc='Maximum depth of the tree. (>= 0) E.g., depth 0 means 1 leaf node; depth 1 means 1 internal node + 2 leaf nodes.'): 2,\n",
       "   Param(parent='RandomForestClassifier_b77223118c4d', name='numTrees', doc='Number of trees to train (>= 1).'): 100},\n",
       "  0.8390147890914366),\n",
       " ({Param(parent='RandomForestClassifier_b77223118c4d', name='maxDepth', doc='Maximum depth of the tree. (>= 0) E.g., depth 0 means 1 leaf node; depth 1 means 1 internal node + 2 leaf nodes.'): 4,\n",
       "   Param(parent='RandomForestClassifier_b77223118c4d', name='numTrees', doc='Number of trees to train (>= 1).'): 10},\n",
       "  0.8340064510451268),\n",
       " ({Param(parent='RandomForestClassifier_b77223118c4d', name='maxDepth', doc='Maximum depth of the tree. (>= 0) E.g., depth 0 means 1 leaf node; depth 1 means 1 internal node + 2 leaf nodes.'): 4,\n",
       "   Param(parent='RandomForestClassifier_b77223118c4d', name='numTrees', doc='Number of trees to train (>= 1).'): 100},\n",
       "  0.856124756408414),\n",
       " ({Param(parent='RandomForestClassifier_b77223118c4d', name='maxDepth', doc='Maximum depth of the tree. (>= 0) E.g., depth 0 means 1 leaf node; depth 1 means 1 internal node + 2 leaf nodes.'): 6,\n",
       "   Param(parent='RandomForestClassifier_b77223118c4d', name='numTrees', doc='Number of trees to train (>= 1).'): 10},\n",
       "  0.8493498678607267),\n",
       " ({Param(parent='RandomForestClassifier_b77223118c4d', name='maxDepth', doc='Maximum depth of the tree. (>= 0) E.g., depth 0 means 1 leaf node; depth 1 means 1 internal node + 2 leaf nodes.'): 6,\n",
       "   Param(parent='RandomForestClassifier_b77223118c4d', name='numTrees', doc='Number of trees to train (>= 1).'): 100},\n",
       "  0.865440553397082)]"
      ]
     },
     "execution_count": 157,
     "metadata": {},
     "output_type": "execute_result"
    }
   ],
   "source": [
    "list(zip(cvModel.getEstimatorParamMaps(), cvModel.avgMetrics))"
   ]
  },
  {
   "cell_type": "code",
   "execution_count": null,
   "id": "247979ad",
   "metadata": {},
   "outputs": [],
   "source": []
  }
 ],
 "metadata": {
  "kernelspec": {
   "display_name": "Python 3",
   "language": "python",
   "name": "python3"
  },
  "language_info": {
   "codemirror_mode": {
    "name": "ipython",
    "version": 3
   },
   "file_extension": ".py",
   "mimetype": "text/x-python",
   "name": "python",
   "nbconvert_exporter": "python",
   "pygments_lexer": "ipython3",
   "version": "3.7.10"
  }
 },
 "nbformat": 4,
 "nbformat_minor": 5
}
