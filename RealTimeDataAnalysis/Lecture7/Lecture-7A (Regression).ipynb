{
 "cells": [
  {
   "cell_type": "code",
   "execution_count": 328,
   "id": "26d3676e",
   "metadata": {},
   "outputs": [
    {
     "name": "stdout",
     "output_type": "stream",
     "text": [
      "+----------------------+---------------+--------+---------+-----------------+-----+\n",
      "|neighbourhood_cleansed|      room_type|bedrooms|bathrooms|number_of_reviews|price|\n",
      "+----------------------+---------------+--------+---------+-----------------+-----+\n",
      "|      Western Addition|Entire home/apt|     1.0|      1.0|            180.0|170.0|\n",
      "|        Bernal Heights|Entire home/apt|     2.0|      1.0|            111.0|235.0|\n",
      "|        Haight Ashbury|   Private room|     1.0|      4.0|             17.0| 65.0|\n",
      "|        Haight Ashbury|   Private room|     1.0|      4.0|              8.0| 65.0|\n",
      "|      Western Addition|Entire home/apt|     2.0|      1.5|             27.0|785.0|\n",
      "+----------------------+---------------+--------+---------+-----------------+-----+\n",
      "only showing top 5 rows\n",
      "\n"
     ]
    }
   ],
   "source": [
    "from pyspark.sql import SparkSession\n",
    "spark = SparkSession.builder.master('local[*]')\\\n",
    ".appName('airbnb-prediction').getOrCreate()\n",
    "df = spark.read.parquet('listings.parquet', header = True, inferSchema = True)\n",
    "df.select(\"neighbourhood_cleansed\", \"room_type\", \"bedrooms\", \"bathrooms\",\n",
    " \"number_of_reviews\", \"price\").show(5)"
   ]
  },
  {
   "cell_type": "code",
   "execution_count": 329,
   "id": "75035b4c",
   "metadata": {},
   "outputs": [
    {
     "name": "stdout",
     "output_type": "stream",
     "text": [
      "There are 5780 rows in the training set,\n",
      "and 1366 in the test set\n"
     ]
    }
   ],
   "source": [
    "df= df.select(\"neighbourhood_cleansed\", \"room_type\", \"bedrooms\", \"bathrooms\",\n",
    " \"number_of_reviews\", \"price\")\n",
    "trainDF, testDF = df.randomSplit([.8, .2], seed=42)\n",
    "print(f\"\"\"There are {trainDF.count()} rows in the training set,\n",
    "and {testDF.count()} in the test set\"\"\")"
   ]
  },
  {
   "cell_type": "code",
   "execution_count": 330,
   "id": "8c1ae4bf",
   "metadata": {},
   "outputs": [
    {
     "name": "stdout",
     "output_type": "stream",
     "text": [
      "+--------+--------+-----+\n",
      "|bedrooms|features|price|\n",
      "+--------+--------+-----+\n",
      "|     0.0|   [0.0]| 99.0|\n",
      "|     0.0|   [0.0]| 60.0|\n",
      "|     0.0|   [0.0]|100.0|\n",
      "|     0.0|   [0.0]|110.0|\n",
      "|     0.0|   [0.0]|149.0|\n",
      "|     1.0|   [1.0]|250.0|\n",
      "|     1.0|   [1.0]| 95.0|\n",
      "|     1.0|   [1.0]|130.0|\n",
      "|     1.0|   [1.0]|109.0|\n",
      "|     1.0|   [1.0]|127.0|\n",
      "+--------+--------+-----+\n",
      "only showing top 10 rows\n",
      "\n"
     ]
    }
   ],
   "source": [
    "from pyspark.ml.feature import VectorAssembler\n",
    "vecAssembler = VectorAssembler(inputCols=[\"bedrooms\"], outputCol=\"features\")\n",
    "vecTrainDF = vecAssembler.transform(trainDF)\n",
    "vecTrainDF.select(\"bedrooms\", \"features\", \"price\").show(10)"
   ]
  },
  {
   "cell_type": "code",
   "execution_count": 331,
   "id": "aaeaf094",
   "metadata": {},
   "outputs": [
    {
     "name": "stdout",
     "output_type": "stream",
     "text": [
      "The formula for the linear regression line is\n",
      "price = 121.53*bedrooms + 51.8\n"
     ]
    }
   ],
   "source": [
    "# lr.fit() returns a LinearRegressionModel (lrModel), which is a transformer\n",
    "# In other words, the output of an estimator’s fit() method is a transformer\n",
    "from pyspark.ml.regression import LinearRegression\n",
    "lr = LinearRegression(featuresCol=\"features\", labelCol=\"price\")\n",
    "lrModel = lr.fit(vecTrainDF)\n",
    "m = round(lrModel.coefficients[0], 2)\n",
    "b = round(lrModel.intercept, 2)\n",
    "print(f\"\"\"The formula for the linear regression line is\n",
    "price = {m}*bedrooms + {b}\"\"\")"
   ]
  },
  {
   "cell_type": "code",
   "execution_count": 332,
   "id": "29ee07e4",
   "metadata": {},
   "outputs": [
    {
     "name": "stdout",
     "output_type": "stream",
     "text": [
      "+--------+--------+-----+------------------+\n",
      "|bedrooms|features|price|        prediction|\n",
      "+--------+--------+-----+------------------+\n",
      "|     0.0|   [0.0]|115.0|  51.7988030413165|\n",
      "|     0.0|   [0.0]|199.0|  51.7988030413165|\n",
      "|     1.0|   [1.0]| 95.0|173.33189308801815|\n",
      "|     1.0|   [1.0]| 88.0|173.33189308801815|\n",
      "|     1.0|   [1.0]| 99.0|173.33189308801815|\n",
      "+--------+--------+-----+------------------+\n",
      "only showing top 5 rows\n",
      "\n"
     ]
    }
   ],
   "source": [
    "from pyspark.ml import Pipeline\n",
    "pipeline = Pipeline(stages=[vecAssembler, lr])\n",
    "pipelineModel = pipeline.fit(trainDF)\n",
    "\n",
    "predDF = pipelineModel.transform(testDF)\n",
    "predDF.select(\"bedrooms\", \"features\", \"price\", \"prediction\").show(5)"
   ]
  },
  {
   "cell_type": "code",
   "execution_count": 333,
   "id": "e287e4ce",
   "metadata": {},
   "outputs": [
    {
     "name": "stdout",
     "output_type": "stream",
     "text": [
      "R2 is 0.23959257292844993\n"
     ]
    }
   ],
   "source": [
    "from pyspark.ml.evaluation import RegressionEvaluator\n",
    "r2 = regressionEvaluator.setMetricName(\"r2\").evaluate(predDF)\n",
    "print(f\"R2 is {r2}\")"
   ]
  },
  {
   "cell_type": "code",
   "execution_count": 334,
   "id": "50d523d4",
   "metadata": {},
   "outputs": [],
   "source": [
    "from pyspark.ml.feature import OneHotEncoder, StringIndexer\n",
    "\n",
    "categoricalCols = [field for (field, dataType) in trainDF.dtypes\n",
    "                   if dataType == \"string\"]\n",
    "indexOutputCols = [x + \"Index\" for x in categoricalCols]\n",
    "oheOutputCols = [x + \"OHE\" for x in categoricalCols]\n",
    "\n",
    "stringIndexer = StringIndexer(inputCols=categoricalCols,                       \n",
    "    outputCols=indexOutputCols,\n",
    "    handleInvalid=\"skip\")\n",
    "oheEncoder = OneHotEncoder(inputCols=indexOutputCols,\n",
    "                           outputCols=oheOutputCols)\n",
    "numericCols = [field for (field, dataType) in trainDF.dtypes\n",
    "               if ((dataType == \"double\") & (field != \"price\"))]\n",
    "\n",
    "assemblerInputs = oheOutputCols + numericCols\n",
    "vecAssembler = VectorAssembler(inputCols=assemblerInputs,\n",
    " outputCol=\"features\")"
   ]
  },
  {
   "cell_type": "code",
   "execution_count": 335,
   "id": "c61130ad",
   "metadata": {},
   "outputs": [],
   "source": [
    "from pyspark.ml.feature import RFormula\n",
    "rFormula = RFormula(formula=\"price ~ .\",\n",
    "    featuresCol=\"features\",\n",
    "    labelCol=\"price\",\n",
    "    handleInvalid=\"skip\")"
   ]
  },
  {
   "cell_type": "code",
   "execution_count": 336,
   "id": "4e989326",
   "metadata": {},
   "outputs": [
    {
     "name": "stdout",
     "output_type": "stream",
     "text": [
      "+--------------------+-----+------------------+\n",
      "|            features|price|        prediction|\n",
      "+--------------------+-----+------------------+\n",
      "|(40,[15,35,38,39]...|115.0| 5.219459229122052|\n",
      "|(40,[15,35,38,39]...|199.0|-5.485956453427008|\n",
      "|(40,[15,35,37,38,...| 95.0|113.94354528880599|\n",
      "|(40,[15,35,37,38,...| 88.0|110.37507339462296|\n",
      "|(40,[15,35,37,38,...| 99.0| 104.1897221113724|\n",
      "+--------------------+-----+------------------+\n",
      "only showing top 5 rows\n",
      "\n"
     ]
    }
   ],
   "source": [
    "lr = LinearRegression(labelCol=\"price\", featuresCol=\"features\", )\n",
    "pipeline = Pipeline(stages = [stringIndexer, oheEncoder, vecAssembler, lr])\n",
    "pipelineModel = pipeline.fit(trainDF)\n",
    "predDF = pipelineModel.transform(testDF)\n",
    "predDF.select(\"features\", \"price\", \"prediction\").show(5)"
   ]
  },
  {
   "cell_type": "code",
   "execution_count": 337,
   "id": "a6c7c0c8",
   "metadata": {},
   "outputs": [
    {
     "name": "stdout",
     "output_type": "stream",
     "text": [
      "+--------------------+-----+------------------+\n",
      "|            features|price|        prediction|\n",
      "+--------------------+-----+------------------+\n",
      "|(40,[15,35,38,39]...|115.0| 5.219459229122052|\n",
      "|(40,[15,35,38,39]...|199.0|-5.485956453427008|\n",
      "|(40,[15,35,37,38,...| 95.0|113.94354528880599|\n",
      "|(40,[15,35,37,38,...| 88.0|110.37507339462296|\n",
      "|(40,[15,35,37,38,...| 99.0| 104.1897221113724|\n",
      "+--------------------+-----+------------------+\n",
      "only showing top 5 rows\n",
      "\n"
     ]
    }
   ],
   "source": [
    "# use RFormula\n",
    "lr = LinearRegression(labelCol=\"price\", featuresCol=\"features\", )\n",
    "pipeline = Pipeline(stages = [rFormula, lr])\n",
    "pipelineModel = pipeline.fit(trainDF)\n",
    "predDF = pipelineModel.transform(testDF)\n",
    "predDF.select(\"features\", \"price\", \"prediction\").show(5)"
   ]
  },
  {
   "cell_type": "markdown",
   "id": "b407c68a",
   "metadata": {},
   "source": [
    "## Evaluating Models"
   ]
  },
  {
   "cell_type": "code",
   "execution_count": 338,
   "id": "30545e7a",
   "metadata": {},
   "outputs": [
    {
     "name": "stdout",
     "output_type": "stream",
     "text": [
      "RMSE is 184.4\n"
     ]
    }
   ],
   "source": [
    "from pyspark.ml.evaluation import RegressionEvaluator\n",
    "regressionEvaluator = RegressionEvaluator(\n",
    "    predictionCol=\"prediction\",\n",
    "    labelCol=\"price\",\n",
    "    metricName=\"rmse\")\n",
    "rmse = regressionEvaluator.evaluate(predDF)\n",
    "print(f\"RMSE is {rmse:.1f}\")"
   ]
  },
  {
   "cell_type": "code",
   "execution_count": 339,
   "id": "384e3d1b",
   "metadata": {},
   "outputs": [
    {
     "name": "stdout",
     "output_type": "stream",
     "text": [
      "R2 is 0.2923250512096982\n"
     ]
    }
   ],
   "source": [
    "r2 = regressionEvaluator.setMetricName(\"r2\").evaluate(predDF)\n",
    "print(f\"R2 is {r2}\")"
   ]
  },
  {
   "cell_type": "markdown",
   "id": "cd4d178c",
   "metadata": {},
   "source": [
    "## Exploring Dataset"
   ]
  },
  {
   "cell_type": "code",
   "execution_count": 340,
   "id": "f1ab7726",
   "metadata": {},
   "outputs": [
    {
     "data": {
      "text/plain": [
       "<AxesSubplot:title={'center':'Distribution of Housing Prices'}, ylabel='Frequency'>"
      ]
     },
     "execution_count": 340,
     "metadata": {},
     "output_type": "execute_result"
    },
    {
     "data": {
      "image/png": "[encoded data removed]",
      "text/plain": [
       "<Figure size 432x288 with 1 Axes>"
      ]
     },
     "metadata": {},
     "output_type": "display_data"
    }
   ],
   "source": [
    "df.select(\"price\").sort(\"price\", ascending= False)\\\n",
    ".toPandas().plot\\\n",
    ".hist(bins= 50, title= \"Distribution of Housing Prices\",\n",
    "     color= 'tomato')"
   ]
  },
  {
   "cell_type": "code",
   "execution_count": 341,
   "id": "7570ec1d",
   "metadata": {},
   "outputs": [
    {
     "data": {
      "text/plain": [
       "<AxesSubplot:title={'center':'Logarithmic Distribution of Housing Prices'}, ylabel='Frequency'>"
      ]
     },
     "execution_count": 341,
     "metadata": {},
     "output_type": "execute_result"
    },
    {
     "data": {
      "image/png": "[encoded data removed]",
      "text/plain": [
       "<Figure size 432x288 with 1 Axes>"
      ]
     },
     "metadata": {},
     "output_type": "display_data"
    }
   ],
   "source": [
    "from pyspark.sql.functions import log10, col\n",
    "df.select(\"price\")\\\n",
    ".withColumn(\"price\", log10(col(\"price\")))\\\n",
    ".sort(\"price\", ascending= False)\\\n",
    ".toPandas().plot\\\n",
    ".hist(bins= 50, title= \"Logarithmic Distribution of Housing Prices\", color= 'teal')"
   ]
  },
  {
   "cell_type": "code",
   "execution_count": 342,
   "id": "8bb224da",
   "metadata": {},
   "outputs": [
    {
     "name": "stdout",
     "output_type": "stream",
     "text": [
      "+----------------------+---------------+--------+---------+-----------------+------------------+\n",
      "|neighbourhood_cleansed|      room_type|bedrooms|bathrooms|number_of_reviews|             price|\n",
      "+----------------------+---------------+--------+---------+-----------------+------------------+\n",
      "|               Bayview|Entire home/apt|     0.0|      1.0|              2.0|  1.99563519459755|\n",
      "|               Bayview|Entire home/apt|     0.0|      1.0|              3.0|1.7781512503836436|\n",
      "|               Bayview|Entire home/apt|     0.0|      1.0|             20.0|               2.0|\n",
      "|               Bayview|Entire home/apt|     0.0|      1.0|             39.0| 2.041392685158225|\n",
      "|               Bayview|Entire home/apt|     0.0|      1.0|             95.0| 2.173186268412274|\n",
      "+----------------------+---------------+--------+---------+-----------------+------------------+\n",
      "only showing top 5 rows\n",
      "\n"
     ]
    }
   ],
   "source": [
    "trainDF.withColumn(\"price\", log10(col(\"price\"))).show(5)\n",
    "#trainDF.show(5)"
   ]
  },
  {
   "cell_type": "code",
   "execution_count": 343,
   "id": "e7371f1d",
   "metadata": {},
   "outputs": [
    {
     "name": "stdout",
     "output_type": "stream",
     "text": [
      "+----------------------+---------------+--------+---------+------------------+------------------+\n",
      "|neighbourhood_cleansed|      room_type|bedrooms|bathrooms| number_of_reviews|             price|\n",
      "+----------------------+---------------+--------+---------+------------------+------------------+\n",
      "|               Bayview|Entire home/apt|     0.0|      1.0|0.6931471805599453|  1.99563519459755|\n",
      "|               Bayview|Entire home/apt|     0.0|      1.0|1.0986122886681096|1.7781512503836436|\n",
      "|               Bayview|Entire home/apt|     0.0|      1.0| 2.995732273553991|               2.0|\n",
      "|               Bayview|Entire home/apt|     0.0|      1.0|3.6635616461296463| 2.041392685158225|\n",
      "|               Bayview|Entire home/apt|     0.0|      1.0| 4.553876891600541| 2.173186268412274|\n",
      "+----------------------+---------------+--------+---------+------------------+------------------+\n",
      "only showing top 5 rows\n",
      "\n"
     ]
    }
   ],
   "source": [
    "trainDF.withColumn(\"price\", log10(col(\"price\")))\\\n",
    ".withColumn(\"number_of_reviews\", log(col(\"number_of_reviews\"))).show(5)"
   ]
  },
  {
   "cell_type": "code",
   "execution_count": 344,
   "id": "1df78100",
   "metadata": {},
   "outputs": [],
   "source": [
    "from pyspark.ml.feature import RFormula\n",
    "rFormula = RFormula(formula=\"price ~ .\",\n",
    "    featuresCol=\"features\",\n",
    "    labelCol=\"price\",\n",
    "    handleInvalid=\"skip\")"
   ]
  },
  {
   "cell_type": "code",
   "execution_count": 345,
   "id": "e8692997",
   "metadata": {},
   "outputs": [],
   "source": [
    "trainDF= trainDF.withColumn(\"price\", log10(col(\"price\")))\n",
    "lr = LinearRegression(labelCol=\"price\", featuresCol=\"features\", )\n",
    "pipeline = Pipeline(stages = [rFormula, lr])\n",
    "pipelineModel = pipeline.fit(trainDF)"
   ]
  },
  {
   "cell_type": "code",
   "execution_count": 346,
   "id": "01f83560",
   "metadata": {},
   "outputs": [
    {
     "name": "stdout",
     "output_type": "stream",
     "text": [
      "+--------------------+------------------+------------------+\n",
      "|            features|             price|        prediction|\n",
      "+--------------------+------------------+------------------+\n",
      "|(40,[15,35,38,39]...| 2.060697840353612| 1.903884654822569|\n",
      "|(40,[15,35,38,39]...| 2.298853076409707| 1.899111693969867|\n",
      "|(40,[15,35,37,38,...|1.9777236052888478| 2.052488947194184|\n",
      "|(40,[15,35,37,38,...|1.9444826721501687| 2.050897960243283|\n",
      "|(40,[15,35,37,38,...|  1.99563519459755|2.0481402495283887|\n",
      "+--------------------+------------------+------------------+\n",
      "only showing top 5 rows\n",
      "\n"
     ]
    }
   ],
   "source": [
    "testDF= testDF.withColumn(\"price\", log10(col(\"price\")))\n",
    "predDF = pipelineModel.transform(testDF)\n",
    "predDF.select(\"features\", \"price\", \"prediction\").show(5)"
   ]
  },
  {
   "cell_type": "code",
   "execution_count": 347,
   "id": "50816347",
   "metadata": {},
   "outputs": [
    {
     "name": "stdout",
     "output_type": "stream",
     "text": [
      "R2 is 0.5438922389401064\n"
     ]
    }
   ],
   "source": [
    "r2 = regressionEvaluator.setMetricName(\"r2\").evaluate(predDF)\n",
    "print(f\"R2 is {r2}\")"
   ]
  },
  {
   "cell_type": "code",
   "execution_count": null,
   "id": "d9fd6b81",
   "metadata": {},
   "outputs": [
    {
     "name": "stderr",
     "output_type": "stream",
     "text": [
      "/usr/local/lib/python3.7/site-packages/seaborn/distributions.py:306: UserWarning: Dataset has 0 variance; skipping density estimate.\n",
      "  warnings.warn(msg, UserWarning)\n"
     ]
    }
   ],
   "source": [
    "import pandas as pd\n",
    "import seaborn as sb\n",
    "from matplotlib import pyplot as plt\n",
    "sb.set_style(\"ticks\")\n",
    "sb.pairplot(trainDF.toPandas(), hue= \"room_type\", diag_kind = \"kde\",kind = \"scatter\",palette = \"husl\")\n",
    "plt.show()"
   ]
  },
  {
   "cell_type": "code",
   "execution_count": null,
   "id": "ba9f9f0e",
   "metadata": {},
   "outputs": [],
   "source": [
    "from pyspark.ml.regression import RandomForestRegressor\n",
    "rf = RandomForestRegressor(labelCol=\"price\", maxBins=40, seed=42)\n",
    "\n",
    "trainDF_rf= trainDF\\\n",
    ".withColumn(\"price\", log10(col(\"price\")))\\\n",
    ".withColumn(\"number_of_reviews\", log(col(\"number_of_reviews\"))).dropna()\n",
    "\n",
    "pipeline = Pipeline(stages = [stringIndexer, oheEncoder, vecAssembler, rf])\n",
    "pipelineModel = pipeline.fit(trainDF_rf)\n",
    "\n",
    "testDF_rf= testDF\\\n",
    ".withColumn(\"price\", log10(col(\"price\")))\\\n",
    ".withColumn(\"number_of_reviews\", log(col(\"number_of_reviews\"))).dropna()\n",
    "\n",
    "predDF = pipelineModel.transform(testDF_rf)\n",
    "predDF.select(\"features\", \"price\", \"prediction\").show(5)"
   ]
  },
  {
   "cell_type": "code",
   "execution_count": null,
   "id": "07bd93e4",
   "metadata": {},
   "outputs": [],
   "source": [
    "r2 = regressionEvaluator.setMetricName(\"r2\").evaluate(predDF)\n",
    "print(f\"R2 is {r2}\")"
   ]
  },
  {
   "cell_type": "markdown",
   "id": "810d63db",
   "metadata": {},
   "source": [
    "## Cross Validation"
   ]
  },
  {
   "cell_type": "code",
   "execution_count": null,
   "id": "76a9d336",
   "metadata": {},
   "outputs": [],
   "source": [
    "from pyspark.ml.tuning import ParamGridBuilder\n",
    "paramGrid = (ParamGridBuilder()\n",
    "    .addGrid(rf.maxDepth, [2, 4, 6])\n",
    "    .addGrid(rf.numTrees, [10, 100])\n",
    "    .build())\n",
    "evaluator = RegressionEvaluator(labelCol=\"price\",\n",
    "    predictionCol=\"prediction\",\n",
    "    metricName=\"r2\")"
   ]
  },
  {
   "cell_type": "code",
   "execution_count": null,
   "id": "e9213c29",
   "metadata": {},
   "outputs": [],
   "source": [
    "from pyspark.ml.tuning import CrossValidator\n",
    "cv = CrossValidator(estimator=pipeline,\n",
    " evaluator=evaluator,\n",
    " estimatorParamMaps=paramGrid,\n",
    " numFolds=3,\n",
    " seed=42)\n",
    "cvModel = cv.fit(trainDF_rf)"
   ]
  },
  {
   "cell_type": "code",
   "execution_count": null,
   "id": "c572d805",
   "metadata": {},
   "outputs": [],
   "source": [
    "list(zip(cvModel.getEstimatorParamMaps(), cvModel.avgMetrics))"
   ]
  },
  {
   "cell_type": "code",
   "execution_count": null,
   "id": "6b5ab488",
   "metadata": {},
   "outputs": [],
   "source": []
  },
  {
   "cell_type": "code",
   "execution_count": null,
   "id": "d33d525f",
   "metadata": {},
   "outputs": [],
   "source": []
  }
 ],
 "metadata": {
  "kernelspec": {
   "display_name": "Python 3",
   "language": "python",
   "name": "python3"
  },
  "language_info": {
   "codemirror_mode": {
    "name": "ipython",
    "version": 3
   },
   "file_extension": ".py",
   "mimetype": "text/x-python",
   "name": "python",
   "nbconvert_exporter": "python",
   "pygments_lexer": "ipython3",
   "version": "3.7.10"
  }
 },
 "nbformat": 4,
 "nbformat_minor": 5
}
