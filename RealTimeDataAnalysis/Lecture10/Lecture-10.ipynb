{
 "cells": [
  {
   "cell_type": "code",
   "execution_count": 1,
   "id": "3ccea5e4",
   "metadata": {},
   "outputs": [],
   "source": [
    "import time\n",
    "from pyspark.sql import SparkSession\n",
    "from IPython.display import display, clear_output\n",
    "from pyspark.sql import SparkSession\n",
    "from pyspark.sql import functions as f\n",
    "import pandas as pd\n",
    "\n",
    "pd.options.display.max_columns = None\n",
    "pd.options.display.max_rows = 30\n",
    "pd.options.display.max_colwidth = 150\n",
    "\n",
    "spark = SparkSession \\\n",
    "    .builder \\\n",
    "    .appName(\"Session-10\") \\\n",
    "    .getOrCreate()\n",
    "\n",
    "from pyspark import SparkConf\n",
    "conf = SparkConf().setMaster(\"local[2]\").setAppName(\"Session_10\")\\\n",
    ".set(\"some.conf\", \"to.some.value\")"
   ]
  },
  {
   "cell_type": "code",
   "execution_count": 2,
   "id": "190290b5",
   "metadata": {},
   "outputs": [],
   "source": [
    "import tweepy\n",
    "import json\n",
    "from pathlib import Path\n",
    "\n",
    "ACCESS_TOKEN = \"YOUR OWN TOKEN\"\n",
    "ACCESS_SECRET =  \"YOUR OWN TOKEN\"\n",
    "CONSUMER_KEY =  \"YOUR OWN TOKEN\"\n",
    "CONSUMER_SECRET =  \"YOUR OWN TOKEN\"\n",
    "\n",
    "auth = tweepy.OAuthHandler(CONSUMER_KEY, CONSUMER_SECRET)\n",
    "auth.set_access_token(ACCESS_TOKEN, ACCESS_SECRET)\n",
    "\n",
    "api = tweepy.API(auth)"
   ]
  },
  {
   "cell_type": "code",
   "execution_count": 3,
   "id": "1f78acf8",
   "metadata": {},
   "outputs": [
    {
     "name": "stdout",
     "output_type": "stream",
     "text": [
      "Pune-based @h2epower is developing India’s first totally integrated #hydrogen #fuel cell three-wheeler using PEM fu… https://t.co/15v6CnCudG\n",
      "RT @thequote: There's no shortcut to a place worth going. - Beverly Sills\n",
      "Business As Usual by E P Unny. \n",
      "For more click here: https://t.co/KIuUZguxLB https://t.co/VkeEBEezIQ\n",
      "RT @COVIDNewsByMIB: #IndiaFightsCorona:\n",
      "\n",
      "📍𝗡𝗲𝘄 𝗥𝗲𝗰𝗼𝘃𝗲𝗿𝗶𝗲𝘀 have exceeded 𝗡𝗲𝘄 𝗖𝗮𝘀𝗲𝘀 for the last 25 days \n",
      "\n",
      "☑️Follow #COVIDAppropriateBehaviour…\n",
      "RT @aapkadharam: Dosto, Dalip Sahab💕 ek nek rooh insaan...ek azeem fankaar ke liye aap ki rooh se uthi duaen zaroor bar aayengi 🙏🙏🙏🙏🙏🙏🙏 ji…\n"
     ]
    }
   ],
   "source": [
    "public_tweets = api.home_timeline()\n",
    "for tweet in public_tweets[:5]:\n",
    "    print(tweet.text)\n",
    "    "
   ]
  },
  {
   "cell_type": "code",
   "execution_count": null,
   "id": "738357a3",
   "metadata": {},
   "outputs": [],
   "source": []
  },
  {
   "cell_type": "code",
   "execution_count": 4,
   "id": "28439cb0",
   "metadata": {},
   "outputs": [
    {
     "name": "stdout",
     "output_type": "stream",
     "text": [
      "USAndIndia\n",
      "209413\n",
      "SandhuTaranjitS\n",
      "SecBecerra\n",
      "AmbassadorTai\n",
      "PowerUSAID\n",
      "Surgeon_General\n",
      "DeputySecState\n",
      "PressSec\n",
      "WHNSC\n",
      "USAmbUN\n",
      "JakeSullivan46\n",
      "ClimateEnvoy\n",
      "SecDef\n",
      "POTUS\n",
      "VP\n",
      "SecBlinken\n",
      "WhiteHouse\n",
      "USEmbassyFrance\n",
      "AkashvaniAIR\n",
      "DDIndialive\n",
      "videovolunteers\n"
     ]
    }
   ],
   "source": [
    "# Extract the information for a specific user\n",
    "user = api.get_user('USAndIndia')\n",
    "print(user.screen_name)\n",
    "print(user.followers_count)\n",
    "for friend in user.friends():\n",
    "    print(friend.screen_name)"
   ]
  },
  {
   "cell_type": "code",
   "execution_count": null,
   "id": "6dbc8b60",
   "metadata": {},
   "outputs": [],
   "source": [
    "# Follow each and every follower that follows our account\n",
    "for follower in tweepy.Cursor(api.followers).items():\n",
    "    follower.follow()\n",
    "    "
   ]
  },
  {
   "cell_type": "code",
   "execution_count": 5,
   "id": "3b62246b",
   "metadata": {},
   "outputs": [
    {
     "name": "stdout",
     "output_type": "stream",
     "text": [
      "USAndIndia\n",
      "209413\n"
     ]
    }
   ],
   "source": [
    "usembindia = api.get_user('USAndIndia')\n",
    "print(usembindia.screen_name)\n",
    "print(usembindia.followers_count)\n",
    "usemb_friends= []\n",
    "for friend in usembindia.friends():\n",
    "    usemb_friends.append(friend.screen_name)"
   ]
  },
  {
   "cell_type": "code",
   "execution_count": 10,
   "id": "1f8e0de1",
   "metadata": {},
   "outputs": [
    {
     "name": "stdout",
     "output_type": "stream",
     "text": [
      "3\n",
      "58\n",
      "0\n",
      "1\n",
      "0\n",
      "43\n",
      "5\n",
      "2\n",
      "6\n",
      "4\n",
      "11\n",
      "1\n",
      "4\n",
      "4\n",
      "65\n",
      "0\n",
      "81\n",
      "28\n",
      "29\n",
      "13\n"
     ]
    }
   ],
   "source": [
    "for friend in usembindia.followers():\n",
    "    print(friend.followers_count)"
   ]
  },
  {
   "cell_type": "code",
   "execution_count": 11,
   "id": "828216d9",
   "metadata": {},
   "outputs": [
    {
     "name": "stdout",
     "output_type": "stream",
     "text": [
      "narendramodi\n",
      "narendramodi_in\n",
      "PMOIndia\n",
      "NamoApp\n",
      "pragnik\n"
     ]
    }
   ],
   "source": [
    "for person in api.search_users(\"Narendra Modi\")[:5]:\n",
    "    print(person.screen_name)"
   ]
  },
  {
   "cell_type": "markdown",
   "id": "b1aecce2",
   "metadata": {},
   "source": [
    "### Direct Messaging"
   ]
  },
  {
   "cell_type": "code",
   "execution_count": null,
   "id": "8db6b380",
   "metadata": {},
   "outputs": [],
   "source": [
    "api.send_direct_message()"
   ]
  },
  {
   "cell_type": "markdown",
   "id": "a3d86bc7",
   "metadata": {},
   "source": [
    "### Follower operations"
   ]
  },
  {
   "cell_type": "code",
   "execution_count": null,
   "id": "f3139556",
   "metadata": {},
   "outputs": [],
   "source": [
    "# to follow a given profile\n",
    "api.create_friendship(\"TensorFlow\")"
   ]
  },
  {
   "cell_type": "code",
   "execution_count": null,
   "id": "e24dd964",
   "metadata": {},
   "outputs": [],
   "source": [
    "# to follow or unfollow a given profile\n",
    "api.destroy_friendship(\"TensorFlow\")"
   ]
  },
  {
   "cell_type": "code",
   "execution_count": null,
   "id": "f11cd534",
   "metadata": {},
   "outputs": [],
   "source": [
    "api.followers_ids(\"TensorFlow\")[:3]"
   ]
  },
  {
   "cell_type": "code",
   "execution_count": null,
   "id": "bee9f306",
   "metadata": {},
   "outputs": [],
   "source": [
    "api.trends_available()"
   ]
  },
  {
   "cell_type": "code",
   "execution_count": null,
   "id": "5a26eade",
   "metadata": {},
   "outputs": [],
   "source": []
  },
  {
   "cell_type": "markdown",
   "id": "bf92fddb",
   "metadata": {},
   "source": [
    "### Real Time Twitter Streaming"
   ]
  },
  {
   "cell_type": "code",
   "execution_count": 12,
   "id": "db7985e0",
   "metadata": {},
   "outputs": [],
   "source": [
    "import json\n",
    "from pathlib import Path\n",
    "\n",
    "public_tweets = api.home_timeline()\n",
    "for tweet in public_tweets:\n",
    "    base= Path(\"twitter-logs\")\n",
    "    jsonpath = base / (tweet.id_str + \".json\")\n",
    "    base.mkdir(exist_ok=True)\n",
    "    jsonpath.write_text(json.dumps(tweet._json))"
   ]
  },
  {
   "cell_type": "code",
   "execution_count": 13,
   "id": "65ce7b66",
   "metadata": {},
   "outputs": [],
   "source": [
    "IN_PATH = \"./twitter-logs/\"\n",
    "OUT_PATH = \"\"\n",
    "timestampformat = \"EEE MMM dd HH:mm:ss zzzz yyyy\"\n",
    "\n",
    "spark = SparkSession.builder.appName(\"Twitter-Streaming\").getOrCreate()\n",
    "static= spark.read.json(IN_PATH)\n",
    "schema = static.limit(100).schema\n",
    "streaming = spark.readStream.schema(schema).option(\"maxFilesPerTrigger\", 10)\\\n",
    ".json(\"./twitter-logs/\")"
   ]
  },
  {
   "cell_type": "code",
   "execution_count": 14,
   "id": "32e784ff",
   "metadata": {},
   "outputs": [
    {
     "name": "stdout",
     "output_type": "stream",
     "text": [
      "root\n",
      " |-- contributors: string (nullable = true)\n",
      " |-- coordinates: string (nullable = true)\n",
      " |-- created_at: string (nullable = true)\n",
      " |-- entities: struct (nullable = true)\n",
      " |    |-- hashtags: array (nullable = true)\n",
      " |    |    |-- element: struct (containsNull = true)\n",
      " |    |    |    |-- indices: array (nullable = true)\n",
      " |    |    |    |    |-- element: long (containsNull = true)\n",
      " |    |    |    |-- text: string (nullable = true)\n",
      " |    |-- media: array (nullable = true)\n",
      " |    |    |-- element: struct (containsNull = true)\n",
      " |    |    |    |-- display_url: string (nullable = true)\n",
      " |    |    |    |-- expanded_url: string (nullable = true)\n",
      " |    |    |    |-- id: long (nullable = true)\n",
      " |    |    |    |-- id_str: string (nullable = true)\n",
      " |    |    |    |-- indices: array (nullable = true)\n",
      " |    |    |    |    |-- element: long (containsNull = true)\n",
      " |    |    |    |-- media_url: string (nullable = true)\n",
      " |    |    |    |-- media_url_https: string (nullable = true)\n",
      " |    |    |    |-- sizes: struct (nullable = true)\n",
      " |    |    |    |    |-- large: struct (nullable = true)\n",
      " |    |    |    |    |    |-- h: long (nullable = true)\n",
      " |    |    |    |    |    |-- resize: string (nullable = true)\n",
      " |    |    |    |    |    |-- w: long (nullable = true)\n",
      " |    |    |    |    |-- medium: struct (nullable = true)\n",
      " |    |    |    |    |    |-- h: long (nullable = true)\n",
      " |    |    |    |    |    |-- resize: string (nullable = true)\n",
      " |    |    |    |    |    |-- w: long (nullable = true)\n",
      " |    |    |    |    |-- small: struct (nullable = true)\n",
      " |    |    |    |    |    |-- h: long (nullable = true)\n",
      " |    |    |    |    |    |-- resize: string (nullable = true)\n",
      " |    |    |    |    |    |-- w: long (nullable = true)\n",
      " |    |    |    |    |-- thumb: struct (nullable = true)\n",
      " |    |    |    |    |    |-- h: long (nullable = true)\n",
      " |    |    |    |    |    |-- resize: string (nullable = true)\n",
      " |    |    |    |    |    |-- w: long (nullable = true)\n",
      " |    |    |    |-- type: string (nullable = true)\n",
      " |    |    |    |-- url: string (nullable = true)\n",
      " |    |-- symbols: array (nullable = true)\n",
      " |    |    |-- element: string (containsNull = true)\n",
      " |    |-- urls: array (nullable = true)\n",
      " |    |    |-- element: struct (containsNull = true)\n",
      " |    |    |    |-- display_url: string (nullable = true)\n",
      " |    |    |    |-- expanded_url: string (nullable = true)\n",
      " |    |    |    |-- indices: array (nullable = true)\n",
      " |    |    |    |    |-- element: long (containsNull = true)\n",
      " |    |    |    |-- url: string (nullable = true)\n",
      " |    |-- user_mentions: array (nullable = true)\n",
      " |    |    |-- element: struct (containsNull = true)\n",
      " |    |    |    |-- id: long (nullable = true)\n",
      " |    |    |    |-- id_str: string (nullable = true)\n",
      " |    |    |    |-- indices: array (nullable = true)\n",
      " |    |    |    |    |-- element: long (containsNull = true)\n",
      " |    |    |    |-- name: string (nullable = true)\n",
      " |    |    |    |-- screen_name: string (nullable = true)\n",
      " |-- extended_entities: struct (nullable = true)\n",
      " |    |-- media: array (nullable = true)\n",
      " |    |    |-- element: struct (containsNull = true)\n",
      " |    |    |    |-- additional_media_info: struct (nullable = true)\n",
      " |    |    |    |    |-- description: string (nullable = true)\n",
      " |    |    |    |    |-- embeddable: boolean (nullable = true)\n",
      " |    |    |    |    |-- monetizable: boolean (nullable = true)\n",
      " |    |    |    |    |-- title: string (nullable = true)\n",
      " |    |    |    |-- display_url: string (nullable = true)\n",
      " |    |    |    |-- expanded_url: string (nullable = true)\n",
      " |    |    |    |-- id: long (nullable = true)\n",
      " |    |    |    |-- id_str: string (nullable = true)\n",
      " |    |    |    |-- indices: array (nullable = true)\n",
      " |    |    |    |    |-- element: long (containsNull = true)\n",
      " |    |    |    |-- media_url: string (nullable = true)\n",
      " |    |    |    |-- media_url_https: string (nullable = true)\n",
      " |    |    |    |-- sizes: struct (nullable = true)\n",
      " |    |    |    |    |-- large: struct (nullable = true)\n",
      " |    |    |    |    |    |-- h: long (nullable = true)\n",
      " |    |    |    |    |    |-- resize: string (nullable = true)\n",
      " |    |    |    |    |    |-- w: long (nullable = true)\n",
      " |    |    |    |    |-- medium: struct (nullable = true)\n",
      " |    |    |    |    |    |-- h: long (nullable = true)\n",
      " |    |    |    |    |    |-- resize: string (nullable = true)\n",
      " |    |    |    |    |    |-- w: long (nullable = true)\n",
      " |    |    |    |    |-- small: struct (nullable = true)\n",
      " |    |    |    |    |    |-- h: long (nullable = true)\n",
      " |    |    |    |    |    |-- resize: string (nullable = true)\n",
      " |    |    |    |    |    |-- w: long (nullable = true)\n",
      " |    |    |    |    |-- thumb: struct (nullable = true)\n",
      " |    |    |    |    |    |-- h: long (nullable = true)\n",
      " |    |    |    |    |    |-- resize: string (nullable = true)\n",
      " |    |    |    |    |    |-- w: long (nullable = true)\n",
      " |    |    |    |-- type: string (nullable = true)\n",
      " |    |    |    |-- url: string (nullable = true)\n",
      " |    |    |    |-- video_info: struct (nullable = true)\n",
      " |    |    |    |    |-- aspect_ratio: array (nullable = true)\n",
      " |    |    |    |    |    |-- element: long (containsNull = true)\n",
      " |    |    |    |    |-- duration_millis: long (nullable = true)\n",
      " |    |    |    |    |-- variants: array (nullable = true)\n",
      " |    |    |    |    |    |-- element: struct (containsNull = true)\n",
      " |    |    |    |    |    |    |-- bitrate: long (nullable = true)\n",
      " |    |    |    |    |    |    |-- content_type: string (nullable = true)\n",
      " |    |    |    |    |    |    |-- url: string (nullable = true)\n",
      " |-- favorite_count: long (nullable = true)\n",
      " |-- favorited: boolean (nullable = true)\n",
      " |-- geo: string (nullable = true)\n",
      " |-- id: long (nullable = true)\n",
      " |-- id_str: string (nullable = true)\n",
      " |-- in_reply_to_screen_name: string (nullable = true)\n",
      " |-- in_reply_to_status_id: string (nullable = true)\n",
      " |-- in_reply_to_status_id_str: string (nullable = true)\n",
      " |-- in_reply_to_user_id: string (nullable = true)\n",
      " |-- in_reply_to_user_id_str: string (nullable = true)\n",
      " |-- is_quote_status: boolean (nullable = true)\n",
      " |-- lang: string (nullable = true)\n",
      " |-- place: string (nullable = true)\n",
      " |-- possibly_sensitive: boolean (nullable = true)\n",
      " |-- possibly_sensitive_appealable: boolean (nullable = true)\n",
      " |-- quoted_status_id: long (nullable = true)\n",
      " |-- quoted_status_id_str: string (nullable = true)\n",
      " |-- retweet_count: long (nullable = true)\n",
      " |-- retweeted: boolean (nullable = true)\n",
      " |-- retweeted_status: struct (nullable = true)\n",
      " |    |-- contributors: string (nullable = true)\n",
      " |    |-- coordinates: string (nullable = true)\n",
      " |    |-- created_at: string (nullable = true)\n",
      " |    |-- entities: struct (nullable = true)\n",
      " |    |    |-- hashtags: array (nullable = true)\n",
      " |    |    |    |-- element: struct (containsNull = true)\n",
      " |    |    |    |    |-- indices: array (nullable = true)\n",
      " |    |    |    |    |    |-- element: long (containsNull = true)\n",
      " |    |    |    |    |-- text: string (nullable = true)\n",
      " |    |    |-- symbols: array (nullable = true)\n",
      " |    |    |    |-- element: string (containsNull = true)\n",
      " |    |    |-- urls: array (nullable = true)\n",
      " |    |    |    |-- element: struct (containsNull = true)\n",
      " |    |    |    |    |-- display_url: string (nullable = true)\n",
      " |    |    |    |    |-- expanded_url: string (nullable = true)\n",
      " |    |    |    |    |-- indices: array (nullable = true)\n",
      " |    |    |    |    |    |-- element: long (containsNull = true)\n",
      " |    |    |    |    |-- url: string (nullable = true)\n",
      " |    |    |-- user_mentions: array (nullable = true)\n",
      " |    |    |    |-- element: string (containsNull = true)\n",
      " |    |-- favorite_count: long (nullable = true)\n",
      " |    |-- favorited: boolean (nullable = true)\n",
      " |    |-- geo: string (nullable = true)\n",
      " |    |-- id: long (nullable = true)\n",
      " |    |-- id_str: string (nullable = true)\n",
      " |    |-- in_reply_to_screen_name: string (nullable = true)\n",
      " |    |-- in_reply_to_status_id: string (nullable = true)\n",
      " |    |-- in_reply_to_status_id_str: string (nullable = true)\n",
      " |    |-- in_reply_to_user_id: string (nullable = true)\n",
      " |    |-- in_reply_to_user_id_str: string (nullable = true)\n",
      " |    |-- is_quote_status: boolean (nullable = true)\n",
      " |    |-- lang: string (nullable = true)\n",
      " |    |-- place: string (nullable = true)\n",
      " |    |-- possibly_sensitive: boolean (nullable = true)\n",
      " |    |-- possibly_sensitive_appealable: boolean (nullable = true)\n",
      " |    |-- quoted_status: struct (nullable = true)\n",
      " |    |    |-- contributors: string (nullable = true)\n",
      " |    |    |-- coordinates: string (nullable = true)\n",
      " |    |    |-- created_at: string (nullable = true)\n",
      " |    |    |-- entities: struct (nullable = true)\n",
      " |    |    |    |-- hashtags: array (nullable = true)\n",
      " |    |    |    |    |-- element: string (containsNull = true)\n",
      " |    |    |    |-- symbols: array (nullable = true)\n",
      " |    |    |    |    |-- element: string (containsNull = true)\n",
      " |    |    |    |-- urls: array (nullable = true)\n",
      " |    |    |    |    |-- element: struct (containsNull = true)\n",
      " |    |    |    |    |    |-- display_url: string (nullable = true)\n",
      " |    |    |    |    |    |-- expanded_url: string (nullable = true)\n",
      " |    |    |    |    |    |-- indices: array (nullable = true)\n",
      " |    |    |    |    |    |    |-- element: long (containsNull = true)\n",
      " |    |    |    |    |    |-- url: string (nullable = true)\n",
      " |    |    |    |-- user_mentions: array (nullable = true)\n",
      " |    |    |    |    |-- element: string (containsNull = true)\n",
      " |    |    |-- favorite_count: long (nullable = true)\n",
      " |    |    |-- favorited: boolean (nullable = true)\n",
      " |    |    |-- geo: string (nullable = true)\n",
      " |    |    |-- id: long (nullable = true)\n",
      " |    |    |-- id_str: string (nullable = true)\n",
      " |    |    |-- in_reply_to_screen_name: string (nullable = true)\n",
      " |    |    |-- in_reply_to_status_id: string (nullable = true)\n",
      " |    |    |-- in_reply_to_status_id_str: string (nullable = true)\n",
      " |    |    |-- in_reply_to_user_id: string (nullable = true)\n",
      " |    |    |-- in_reply_to_user_id_str: string (nullable = true)\n",
      " |    |    |-- is_quote_status: boolean (nullable = true)\n",
      " |    |    |-- lang: string (nullable = true)\n",
      " |    |    |-- place: string (nullable = true)\n",
      " |    |    |-- possibly_sensitive: boolean (nullable = true)\n",
      " |    |    |-- possibly_sensitive_appealable: boolean (nullable = true)\n",
      " |    |    |-- retweet_count: long (nullable = true)\n",
      " |    |    |-- retweeted: boolean (nullable = true)\n",
      " |    |    |-- source: string (nullable = true)\n",
      " |    |    |-- text: string (nullable = true)\n",
      " |    |    |-- truncated: boolean (nullable = true)\n",
      " |    |    |-- user: struct (nullable = true)\n",
      " |    |    |    |-- contributors_enabled: boolean (nullable = true)\n",
      " |    |    |    |-- created_at: string (nullable = true)\n",
      " |    |    |    |-- default_profile: boolean (nullable = true)\n",
      " |    |    |    |-- default_profile_image: boolean (nullable = true)\n",
      " |    |    |    |-- description: string (nullable = true)\n",
      " |    |    |    |-- entities: struct (nullable = true)\n",
      " |    |    |    |    |-- description: struct (nullable = true)\n",
      " |    |    |    |    |    |-- urls: array (nullable = true)\n",
      " |    |    |    |    |    |    |-- element: string (containsNull = true)\n",
      " |    |    |    |    |-- url: struct (nullable = true)\n",
      " |    |    |    |    |    |-- urls: array (nullable = true)\n",
      " |    |    |    |    |    |    |-- element: struct (containsNull = true)\n",
      " |    |    |    |    |    |    |    |-- display_url: string (nullable = true)\n",
      " |    |    |    |    |    |    |    |-- expanded_url: string (nullable = true)\n",
      " |    |    |    |    |    |    |    |-- indices: array (nullable = true)\n",
      " |    |    |    |    |    |    |    |    |-- element: long (containsNull = true)\n",
      " |    |    |    |    |    |    |    |-- url: string (nullable = true)\n",
      " |    |    |    |-- favourites_count: long (nullable = true)\n",
      " |    |    |    |-- follow_request_sent: boolean (nullable = true)\n",
      " |    |    |    |-- followers_count: long (nullable = true)\n",
      " |    |    |    |-- following: boolean (nullable = true)\n",
      " |    |    |    |-- friends_count: long (nullable = true)\n",
      " |    |    |    |-- geo_enabled: boolean (nullable = true)\n",
      " |    |    |    |-- has_extended_profile: boolean (nullable = true)\n",
      " |    |    |    |-- id: long (nullable = true)\n",
      " |    |    |    |-- id_str: string (nullable = true)\n",
      " |    |    |    |-- is_translation_enabled: boolean (nullable = true)\n",
      " |    |    |    |-- is_translator: boolean (nullable = true)\n",
      " |    |    |    |-- lang: string (nullable = true)\n",
      " |    |    |    |-- listed_count: long (nullable = true)\n",
      " |    |    |    |-- location: string (nullable = true)\n",
      " |    |    |    |-- name: string (nullable = true)\n",
      " |    |    |    |-- notifications: boolean (nullable = true)\n",
      " |    |    |    |-- profile_background_color: string (nullable = true)\n",
      " |    |    |    |-- profile_background_image_url: string (nullable = true)\n",
      " |    |    |    |-- profile_background_image_url_https: string (nullable = true)\n",
      " |    |    |    |-- profile_background_tile: boolean (nullable = true)\n",
      " |    |    |    |-- profile_banner_url: string (nullable = true)\n",
      " |    |    |    |-- profile_image_url: string (nullable = true)\n",
      " |    |    |    |-- profile_image_url_https: string (nullable = true)\n",
      " |    |    |    |-- profile_link_color: string (nullable = true)\n",
      " |    |    |    |-- profile_sidebar_border_color: string (nullable = true)\n",
      " |    |    |    |-- profile_sidebar_fill_color: string (nullable = true)\n",
      " |    |    |    |-- profile_text_color: string (nullable = true)\n",
      " |    |    |    |-- profile_use_background_image: boolean (nullable = true)\n",
      " |    |    |    |-- protected: boolean (nullable = true)\n",
      " |    |    |    |-- screen_name: string (nullable = true)\n",
      " |    |    |    |-- statuses_count: long (nullable = true)\n",
      " |    |    |    |-- time_zone: string (nullable = true)\n",
      " |    |    |    |-- translator_type: string (nullable = true)\n",
      " |    |    |    |-- url: string (nullable = true)\n",
      " |    |    |    |-- utc_offset: string (nullable = true)\n",
      " |    |    |    |-- verified: boolean (nullable = true)\n",
      " |    |    |    |-- withheld_in_countries: array (nullable = true)\n",
      " |    |    |    |    |-- element: string (containsNull = true)\n",
      " |    |-- quoted_status_id: long (nullable = true)\n",
      " |    |-- quoted_status_id_str: string (nullable = true)\n",
      " |    |-- retweet_count: long (nullable = true)\n",
      " |    |-- retweeted: boolean (nullable = true)\n",
      " |    |-- source: string (nullable = true)\n",
      " |    |-- text: string (nullable = true)\n",
      " |    |-- truncated: boolean (nullable = true)\n",
      " |    |-- user: struct (nullable = true)\n",
      " |    |    |-- contributors_enabled: boolean (nullable = true)\n",
      " |    |    |-- created_at: string (nullable = true)\n",
      " |    |    |-- default_profile: boolean (nullable = true)\n",
      " |    |    |-- default_profile_image: boolean (nullable = true)\n",
      " |    |    |-- description: string (nullable = true)\n",
      " |    |    |-- entities: struct (nullable = true)\n",
      " |    |    |    |-- description: struct (nullable = true)\n",
      " |    |    |    |    |-- urls: array (nullable = true)\n",
      " |    |    |    |    |    |-- element: struct (containsNull = true)\n",
      " |    |    |    |    |    |    |-- display_url: string (nullable = true)\n",
      " |    |    |    |    |    |    |-- expanded_url: string (nullable = true)\n",
      " |    |    |    |    |    |    |-- indices: array (nullable = true)\n",
      " |    |    |    |    |    |    |    |-- element: long (containsNull = true)\n",
      " |    |    |    |    |    |    |-- url: string (nullable = true)\n",
      " |    |    |    |-- url: struct (nullable = true)\n",
      " |    |    |    |    |-- urls: array (nullable = true)\n",
      " |    |    |    |    |    |-- element: struct (containsNull = true)\n",
      " |    |    |    |    |    |    |-- display_url: string (nullable = true)\n",
      " |    |    |    |    |    |    |-- expanded_url: string (nullable = true)\n",
      " |    |    |    |    |    |    |-- indices: array (nullable = true)\n",
      " |    |    |    |    |    |    |    |-- element: long (containsNull = true)\n",
      " |    |    |    |    |    |    |-- url: string (nullable = true)\n",
      " |    |    |-- favourites_count: long (nullable = true)\n",
      " |    |    |-- follow_request_sent: boolean (nullable = true)\n",
      " |    |    |-- followers_count: long (nullable = true)\n",
      " |    |    |-- following: boolean (nullable = true)\n",
      " |    |    |-- friends_count: long (nullable = true)\n",
      " |    |    |-- geo_enabled: boolean (nullable = true)\n",
      " |    |    |-- has_extended_profile: boolean (nullable = true)\n",
      " |    |    |-- id: long (nullable = true)\n",
      " |    |    |-- id_str: string (nullable = true)\n",
      " |    |    |-- is_translation_enabled: boolean (nullable = true)\n",
      " |    |    |-- is_translator: boolean (nullable = true)\n",
      " |    |    |-- lang: string (nullable = true)\n",
      " |    |    |-- listed_count: long (nullable = true)\n",
      " |    |    |-- location: string (nullable = true)\n",
      " |    |    |-- name: string (nullable = true)\n",
      " |    |    |-- notifications: boolean (nullable = true)\n",
      " |    |    |-- profile_background_color: string (nullable = true)\n",
      " |    |    |-- profile_background_image_url: string (nullable = true)\n",
      " |    |    |-- profile_background_image_url_https: string (nullable = true)\n",
      " |    |    |-- profile_background_tile: boolean (nullable = true)\n",
      " |    |    |-- profile_banner_url: string (nullable = true)\n",
      " |    |    |-- profile_image_url: string (nullable = true)\n",
      " |    |    |-- profile_image_url_https: string (nullable = true)\n",
      " |    |    |-- profile_link_color: string (nullable = true)\n",
      " |    |    |-- profile_sidebar_border_color: string (nullable = true)\n",
      " |    |    |-- profile_sidebar_fill_color: string (nullable = true)\n",
      " |    |    |-- profile_text_color: string (nullable = true)\n",
      " |    |    |-- profile_use_background_image: boolean (nullable = true)\n",
      " |    |    |-- protected: boolean (nullable = true)\n",
      " |    |    |-- screen_name: string (nullable = true)\n",
      " |    |    |-- statuses_count: long (nullable = true)\n",
      " |    |    |-- time_zone: string (nullable = true)\n",
      " |    |    |-- translator_type: string (nullable = true)\n",
      " |    |    |-- url: string (nullable = true)\n",
      " |    |    |-- utc_offset: string (nullable = true)\n",
      " |    |    |-- verified: boolean (nullable = true)\n",
      " |    |    |-- withheld_in_countries: array (nullable = true)\n",
      " |    |    |    |-- element: string (containsNull = true)\n",
      " |-- source: string (nullable = true)\n",
      " |-- text: string (nullable = true)\n",
      " |-- truncated: boolean (nullable = true)\n",
      " |-- user: struct (nullable = true)\n",
      " |    |-- contributors_enabled: boolean (nullable = true)\n",
      " |    |-- created_at: string (nullable = true)\n",
      " |    |-- default_profile: boolean (nullable = true)\n",
      " |    |-- default_profile_image: boolean (nullable = true)\n",
      " |    |-- description: string (nullable = true)\n",
      " |    |-- entities: struct (nullable = true)\n",
      " |    |    |-- description: struct (nullable = true)\n",
      " |    |    |    |-- urls: array (nullable = true)\n",
      " |    |    |    |    |-- element: struct (containsNull = true)\n",
      " |    |    |    |    |    |-- display_url: string (nullable = true)\n",
      " |    |    |    |    |    |-- expanded_url: string (nullable = true)\n",
      " |    |    |    |    |    |-- indices: array (nullable = true)\n",
      " |    |    |    |    |    |    |-- element: long (containsNull = true)\n",
      " |    |    |    |    |    |-- url: string (nullable = true)\n",
      " |    |    |-- url: struct (nullable = true)\n",
      " |    |    |    |-- urls: array (nullable = true)\n",
      " |    |    |    |    |-- element: struct (containsNull = true)\n",
      " |    |    |    |    |    |-- display_url: string (nullable = true)\n",
      " |    |    |    |    |    |-- expanded_url: string (nullable = true)\n",
      " |    |    |    |    |    |-- indices: array (nullable = true)\n",
      " |    |    |    |    |    |    |-- element: long (containsNull = true)\n",
      " |    |    |    |    |    |-- url: string (nullable = true)\n",
      " |    |-- favourites_count: long (nullable = true)\n",
      " |    |-- follow_request_sent: boolean (nullable = true)\n",
      " |    |-- followers_count: long (nullable = true)\n",
      " |    |-- following: boolean (nullable = true)\n",
      " |    |-- friends_count: long (nullable = true)\n",
      " |    |-- geo_enabled: boolean (nullable = true)\n",
      " |    |-- has_extended_profile: boolean (nullable = true)\n",
      " |    |-- id: long (nullable = true)\n",
      " |    |-- id_str: string (nullable = true)\n",
      " |    |-- is_translation_enabled: boolean (nullable = true)\n",
      " |    |-- is_translator: boolean (nullable = true)\n",
      " |    |-- lang: string (nullable = true)\n",
      " |    |-- listed_count: long (nullable = true)\n",
      " |    |-- location: string (nullable = true)\n",
      " |    |-- name: string (nullable = true)\n",
      " |    |-- notifications: boolean (nullable = true)\n",
      " |    |-- profile_background_color: string (nullable = true)\n",
      " |    |-- profile_background_image_url: string (nullable = true)\n",
      " |    |-- profile_background_image_url_https: string (nullable = true)\n",
      " |    |-- profile_background_tile: boolean (nullable = true)\n",
      " |    |-- profile_banner_url: string (nullable = true)\n",
      " |    |-- profile_image_url: string (nullable = true)\n",
      " |    |-- profile_image_url_https: string (nullable = true)\n",
      " |    |-- profile_link_color: string (nullable = true)\n",
      " |    |-- profile_sidebar_border_color: string (nullable = true)\n",
      " |    |-- profile_sidebar_fill_color: string (nullable = true)\n",
      " |    |-- profile_text_color: string (nullable = true)\n",
      " |    |-- profile_use_background_image: boolean (nullable = true)\n",
      " |    |-- protected: boolean (nullable = true)\n",
      " |    |-- screen_name: string (nullable = true)\n",
      " |    |-- statuses_count: long (nullable = true)\n",
      " |    |-- time_zone: string (nullable = true)\n",
      " |    |-- translator_type: string (nullable = true)\n",
      " |    |-- url: string (nullable = true)\n",
      " |    |-- utc_offset: string (nullable = true)\n",
      " |    |-- verified: boolean (nullable = true)\n",
      " |    |-- withheld_in_countries: array (nullable = true)\n",
      " |    |    |-- element: string (containsNull = true)\n",
      "\n"
     ]
    }
   ],
   "source": [
    "static.printSchema()"
   ]
  },
  {
   "cell_type": "code",
   "execution_count": null,
   "id": "c039cdc4",
   "metadata": {},
   "outputs": [],
   "source": [
    "# examining various counts of tweets grouped by user\n",
    "tweet_counts = streaming.groupBy(\"user\").count()\n",
    "\n",
    "tweet_query = tweet_counts.writeStream.queryName(\"tweet_counts\")\\\n",
    ".format(\"memory\").outputMode(\"complete\")\\\n",
    ".start()"
   ]
  },
  {
   "cell_type": "code",
   "execution_count": 33,
   "id": "581a8384",
   "metadata": {},
   "outputs": [
    {
     "name": "stdout",
     "output_type": "stream",
     "text": [
      "+--------------------+-----+\n",
      "|                user|count|\n",
      "+--------------------+-----+\n",
      "|{false, Sun Apr 0...|    1|\n",
      "|{false, Sat Oct 3...|    1|\n",
      "|{false, Mon Mar 0...|    1|\n",
      "|{false, Tue Feb 1...|    1|\n",
      "|{false, Wed Apr 2...|    2|\n",
      "|{false, Fri Feb 1...|    1|\n",
      "|{false, Fri Aug 2...|    3|\n",
      "+--------------------+-----+\n",
      "\n"
     ]
    }
   ],
   "source": [
    "spark.sql(\"SELECT * FROM tweet_counts\").show()"
   ]
  },
  {
   "cell_type": "code",
   "execution_count": 19,
   "id": "48a261d2",
   "metadata": {},
   "outputs": [],
   "source": [
    "selection_query = streaming\\\n",
    ".select(\"user\", \"user.favourites_count\", \"user.followers_count\", \n",
    "        \"user.friends_count\", \"user.statuses_count\")\\\n",
    ".writeStream\\\n",
    ".queryName(\"tweet_metrics\")\\\n",
    ".format(\"memory\")\\\n",
    ".outputMode(\"append\")\\\n",
    ".start()"
   ]
  },
  {
   "cell_type": "code",
   "execution_count": 20,
   "id": "5d44ab1b",
   "metadata": {},
   "outputs": [
    {
     "name": "stdout",
     "output_type": "stream",
     "text": [
      "+--------------------+----------------+---------------+-------------+--------------+\n",
      "|                user|favourites_count|followers_count|friends_count|statuses_count|\n",
      "+--------------------+----------------+---------------+-------------+--------------+\n",
      "|{false, Sat Oct 3...|             219|         338337|          305|         38742|\n",
      "|{false, Tue Feb 1...|             525|         804194|         2006|         78242|\n",
      "|{false, Sun Apr 0...|            1164|       18835049|         1036|        341412|\n",
      "|{false, Wed Apr 2...|            2929|        8084424|          132|        899825|\n",
      "|{false, Mon Mar 0...|            3998|         212584|         1389|         69542|\n",
      "|{false, Wed Apr 2...|            2929|        8084424|          132|        899825|\n",
      "|{false, Fri Aug 2...|              88|          94766|          130|        198564|\n",
      "|{false, Fri Aug 2...|              88|          94766|          130|        198564|\n",
      "|{false, Fri Aug 2...|              88|          94766|          130|        198564|\n",
      "|{false, Fri Feb 1...|             153|        6979140|          211|        379819|\n",
      "|{false, Tue Aug 2...|            7228|         243128|          660|         16091|\n",
      "|{false, Fri May 0...|               0|       15645033|           15|        818754|\n",
      "|{false, Sun Apr 0...|            1164|       18835049|         1036|        341412|\n",
      "|{false, Wed May 1...|             409|        3952143|           44|        516645|\n",
      "|{false, Mon Feb 0...|            4445|        5705881|          248|        880101|\n",
      "|{false, Thu Jan 2...|               4|       10063639|          377|        675016|\n",
      "|{false, Thu May 1...|            1404|         180117|          844|         90388|\n",
      "|{false, Fri Feb 1...|             153|        6979140|          211|        379819|\n",
      "|{false, Fri Aug 2...|              88|          94766|          130|        198564|\n",
      "|{false, Fri Aug 2...|              88|          94766|          130|        198564|\n",
      "+--------------------+----------------+---------------+-------------+--------------+\n",
      "only showing top 20 rows\n",
      "\n"
     ]
    }
   ],
   "source": [
    "spark.sql(\"SELECT * FROM tweet_metrics\").show()"
   ]
  },
  {
   "cell_type": "code",
   "execution_count": 23,
   "id": "f6987015",
   "metadata": {},
   "outputs": [],
   "source": [
    "selection_query = streaming\\\n",
    ".select(\"user.id\", \"user.favourites_count\", \"user.followers_count\", \n",
    "        \"user.friends_count\", \"user.statuses_count\")\\\n",
    ".writeStream\\\n",
    ".queryName(\"tweet_metrics_agg\")\\\n",
    ".format(\"memory\")\\\n",
    ".outputMode(\"append\")\\\n",
    ".start()"
   ]
  },
  {
   "cell_type": "code",
   "execution_count": 24,
   "id": "af5e4926",
   "metadata": {},
   "outputs": [
    {
     "name": "stdout",
     "output_type": "stream",
     "text": [
      "+---------+----------------+---------------+-------------+--------------+\n",
      "|id       |favourites_count|followers_count|friends_count|statuses_count|\n",
      "+---------+----------------+---------------+-------------+--------------+\n",
      "|86478153 |219             |338337         |305          |38742         |\n",
      "|21114659 |525             |804194         |2006         |78242         |\n",
      "|3108351  |1164            |18835049       |1036         |341412        |\n",
      "|36327407 |2929            |8084424        |132          |899825        |\n",
      "|22545453 |3998            |212584         |1389         |69542         |\n",
      "|36327407 |2929            |8084424        |132          |899825        |\n",
      "|180748385|88              |94766          |130          |198564        |\n",
      "|180748385|88              |94766          |130          |198564        |\n",
      "|180748385|88              |94766          |130          |198564        |\n",
      "|20751449 |153             |6979140        |211          |379819        |\n",
      "|68746721 |7228            |243128         |660          |16091         |\n",
      "|37034483 |0               |15645033       |15           |818754        |\n",
      "|3108351  |1164            |18835049       |1036         |341412        |\n",
      "|39743812 |409             |3952143        |44           |516645        |\n",
      "|19897138 |4445            |5705881        |248          |880101        |\n",
      "|240649814|4               |10063639       |377          |675016        |\n",
      "|39922594 |1404            |180117         |844          |90388         |\n",
      "|20751449 |153             |6979140        |211          |379819        |\n",
      "|180748385|88              |94766          |130          |198564        |\n",
      "|180748385|88              |94766          |130          |198564        |\n",
      "+---------+----------------+---------------+-------------+--------------+\n",
      "only showing top 20 rows\n",
      "\n"
     ]
    }
   ],
   "source": [
    "spark.sql(\"SELECT * FROM tweet_metrics_agg\").show(truncate= False)"
   ]
  },
  {
   "cell_type": "code",
   "execution_count": 41,
   "id": "71ed32f2",
   "metadata": {},
   "outputs": [],
   "source": [
    "selection_query = streaming\\\n",
    ".select(\"user.id\", \"user.favourites_count\", \"user.followers_count\", \n",
    "        \"user.friends_count\", \"user.statuses_count\")\\\n",
    ".groupBy(\"id\").count()"
   ]
  },
  {
   "cell_type": "code",
   "execution_count": 43,
   "id": "c0d62bd2",
   "metadata": {},
   "outputs": [
    {
     "data": {
      "text/plain": [
       "<pyspark.sql.streaming.StreamingQuery at 0x12fd2bad0>"
      ]
     },
     "execution_count": 43,
     "metadata": {},
     "output_type": "execute_result"
    }
   ],
   "source": [
    "selection_query\\\n",
    ".writeStream\\\n",
    ".queryName(\"tweet_metrics_avg\")\\\n",
    ".format(\"memory\")\\\n",
    ".outputMode(\"complete\")\\\n",
    ".start()"
   ]
  },
  {
   "cell_type": "code",
   "execution_count": 44,
   "id": "0c6264e6",
   "metadata": {},
   "outputs": [
    {
     "name": "stdout",
     "output_type": "stream",
     "text": [
      "+----------+-----+\n",
      "|id        |count|\n",
      "+----------+-----+\n",
      "|22545453  |1    |\n",
      "|39922594  |1    |\n",
      "|37034483  |5    |\n",
      "|43855487  |3    |\n",
      "|134758540 |1    |\n",
      "|22763833  |3    |\n",
      "|240649814 |1    |\n",
      "|68746721  |1    |\n",
      "|3108351   |2    |\n",
      "|1191912552|2    |\n",
      "|86478153  |1    |\n",
      "|180748385 |6    |\n",
      "|36327407  |2    |\n",
      "|19897138  |2    |\n",
      "|21114659  |1    |\n",
      "|39743812  |1    |\n",
      "|920488039 |2    |\n",
      "|20751449  |2    |\n",
      "|38647512  |2    |\n",
      "|48008938  |1    |\n",
      "+----------+-----+\n",
      "\n"
     ]
    }
   ],
   "source": [
    "spark.sql(\"SELECT * FROM tweet_metrics_avg\").show(truncate= False)"
   ]
  },
  {
   "cell_type": "code",
   "execution_count": 25,
   "id": "8ba55b47",
   "metadata": {},
   "outputs": [
    {
     "data": {
      "text/plain": [
       "[<pyspark.sql.streaming.StreamingQuery at 0x12fd2b7d0>,\n",
       " <pyspark.sql.streaming.StreamingQuery at 0x12fc5d610>]"
      ]
     },
     "execution_count": 25,
     "metadata": {},
     "output_type": "execute_result"
    }
   ],
   "source": [
    "# Examine the streaming queries which are active\n",
    "spark.streams.active"
   ]
  },
  {
   "cell_type": "code",
   "execution_count": 26,
   "id": "e92c63d0",
   "metadata": {},
   "outputs": [],
   "source": [
    "selection_query = streaming\\\n",
    ".select(\"user\", \"retweet_count\", \"lang\", \"created_at\")\\\n",
    ".writeStream\\\n",
    ".queryName(\"selection_query_\")\\\n",
    ".format(\"memory\")\\\n",
    ".outputMode(\"append\")\\\n",
    ".start()"
   ]
  },
  {
   "cell_type": "code",
   "execution_count": 27,
   "id": "4699ea0a",
   "metadata": {},
   "outputs": [
    {
     "name": "stdout",
     "output_type": "stream",
     "text": [
      "+--------------------+-------------+----+--------------------+\n",
      "|                user|retweet_count|lang|          created_at|\n",
      "+--------------------+-------------+----+--------------------+\n",
      "|{false, Sat Oct 3...|            0|  en|Sun Jun 06 23:50:...|\n",
      "|{false, Tue Feb 1...|            5|  en|Sun Jun 06 23:39:...|\n",
      "|{false, Sun Apr 0...|            8|  en|Sun Jun 06 23:45:...|\n",
      "|{false, Wed Apr 2...|            0|  en|Sun Jun 06 23:40:...|\n",
      "|{false, Mon Mar 0...|            1|  en|Sun Jun 06 23:39:...|\n",
      "|{false, Wed Apr 2...|            2|  en|Sun Jun 06 23:50:...|\n",
      "|{false, Fri Aug 2...|            0|  en|Sun Jun 06 23:45:...|\n",
      "|{false, Fri Aug 2...|            0|  en|Sun Jun 06 23:50:...|\n",
      "|{false, Fri Aug 2...|            0|  en|Sun Jun 06 23:40:...|\n",
      "|{false, Fri Feb 1...|            0|  en|Sun Jun 06 23:50:...|\n",
      "|{false, Tue Aug 2...|            8|  en|Sun Jun 06 23:27:...|\n",
      "|{false, Fri May 0...|            3|  en|Sun Jun 06 23:30:...|\n",
      "|{false, Sun Apr 0...|           12|  en|Sun Jun 06 23:30:...|\n",
      "|{false, Wed May 1...|            1|  en|Sun Jun 06 23:30:...|\n",
      "|{false, Mon Feb 0...|            2|  en|Sun Jun 06 23:30:...|\n",
      "|{false, Thu Jan 2...|            0|  en|Sun Jun 06 23:30:...|\n",
      "|{false, Thu May 1...|            2|  en|Sun Jun 06 23:30:...|\n",
      "|{false, Fri Feb 1...|            6|  en|Sun Jun 06 23:30:...|\n",
      "|{false, Fri Aug 2...|            0|  en|Sun Jun 06 23:35:...|\n",
      "|{false, Fri Aug 2...|            0|  en|Sun Jun 06 23:30:...|\n",
      "+--------------------+-------------+----+--------------------+\n",
      "only showing top 20 rows\n",
      "\n"
     ]
    }
   ],
   "source": [
    "spark.sql(\"SELECT * FROM selection_query_\").show()"
   ]
  },
  {
   "cell_type": "markdown",
   "id": "7a3cfaae",
   "metadata": {},
   "source": [
    "### Caching"
   ]
  },
  {
   "cell_type": "code",
   "execution_count": null,
   "id": "1ab9e707",
   "metadata": {},
   "outputs": [],
   "source": [
    "start= time.time()\n",
    "sales = spark.read.csv('online-retail-dataset.csv', header= True, inferSchema= True)\n",
    "sales_country= sales.groupBy(\"Country\").count().collect()\n",
    "sales_customer= sales.groupBy(\"CustomerID\").count().collect()\n",
    "sales_invoice= sales.groupBy(\"InvoiceNo\").count().collect()\n",
    "end= time.time()\n",
    "print(\"total time elapsed: \", end-start, \"seconds\")"
   ]
  },
  {
   "cell_type": "code",
   "execution_count": null,
   "id": "98c30c8a",
   "metadata": {},
   "outputs": [],
   "source": [
    "sales.cache()\n",
    "sales.count()\n",
    "start= time.time()\n",
    "sales_country= sales.groupBy(\"Country\").count().collect()\n",
    "sales_customer= sales.groupBy(\"CustomerID\").count().collect()\n",
    "sales_invoice= sales.groupBy(\"InvoiceNo\").count().collect()\n",
    "end= time.time()\n",
    "print(\"total time elapsed: \", end-start, \"seconds\")"
   ]
  },
  {
   "cell_type": "code",
   "execution_count": null,
   "id": "38202040",
   "metadata": {},
   "outputs": [],
   "source": [
    "?sales.persist"
   ]
  },
  {
   "cell_type": "code",
   "execution_count": null,
   "id": "16acdf90",
   "metadata": {},
   "outputs": [],
   "source": [
    "from pyspark.storagelevel import StorageLevel\n",
    "sales.persist(storageLevel= StorageLevel.DISK_ONLY)\n",
    "sales.count()"
   ]
  },
  {
   "cell_type": "markdown",
   "id": "0306443c",
   "metadata": {},
   "source": [
    "### Twitter Default Streaming "
   ]
  },
  {
   "cell_type": "code",
   "execution_count": null,
   "id": "26f8eb11",
   "metadata": {},
   "outputs": [],
   "source": [
    "import json\n",
    "import tweepy\n",
    "\n",
    "class MyStreamListener(tweepy.StreamListener):\n",
    "    def __init__(self, api):\n",
    "        self.api = api\n",
    "        self.me = api.me()\n",
    "\n",
    "    def on_status(self, tweet):\n",
    "        print(f\"{tweet.user.name}:{tweet.text}\")\n",
    "\n",
    "    def on_error(self, status):\n",
    "        print(\"Error detected\")\n",
    "\n",
    "# Authenticate to Twitter\n",
    "auth = tweepy.OAuthHandler(CONSUMER_KEY, CONSUMER_SECRET)\n",
    "auth.set_access_token(ACCESS_TOKEN, ACCESS_SECRET)\n",
    "\n",
    "# Create API object\n",
    "api = tweepy.API(auth, wait_on_rate_limit=True,\n",
    "    wait_on_rate_limit_notify=True)\n",
    "\n",
    "tweets_listener = MyStreamListener(api)\n",
    "stream = tweepy.Stream(api.auth, tweets_listener)\n",
    "stream.filter(track=[\"Covid-19\"], languages=[\"en\"])"
   ]
  },
  {
   "cell_type": "code",
   "execution_count": null,
   "id": "7cd1c18e",
   "metadata": {},
   "outputs": [],
   "source": []
  }
 ],
 "metadata": {
  "kernelspec": {
   "display_name": "Python 3",
   "language": "python",
   "name": "python3"
  },
  "language_info": {
   "codemirror_mode": {
    "name": "ipython",
    "version": 3
   },
   "file_extension": ".py",
   "mimetype": "text/x-python",
   "name": "python",
   "nbconvert_exporter": "python",
   "pygments_lexer": "ipython3",
   "version": "3.8.8"
  },
  "toc": {
   "base_numbering": 1,
   "nav_menu": {},
   "number_sections": true,
   "sideBar": true,
   "skip_h1_title": false,
   "title_cell": "Table of Contents",
   "title_sidebar": "Contents",
   "toc_cell": false,
   "toc_position": {},
   "toc_section_display": true,
   "toc_window_display": false
  },
  "varInspector": {
   "cols": {
    "lenName": 16,
    "lenType": 16,
    "lenVar": 40
   },
   "kernels_config": {
    "python": {
     "delete_cmd_postfix": "",
     "delete_cmd_prefix": "del ",
     "library": "var_list.py",
     "varRefreshCmd": "print(var_dic_list())"
    },
    "r": {
     "delete_cmd_postfix": ") ",
     "delete_cmd_prefix": "rm(",
     "library": "var_list.r",
     "varRefreshCmd": "cat(var_dic_list()) "
    }
   },
   "types_to_exclude": [
    "module",
    "function",
    "builtin_function_or_method",
    "instance",
    "_Feature"
   ],
   "window_display": false
  }
 },
 "nbformat": 4,
 "nbformat_minor": 5
}
