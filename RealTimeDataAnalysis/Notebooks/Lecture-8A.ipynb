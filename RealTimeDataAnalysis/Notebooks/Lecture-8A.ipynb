{
 "cells": [
  {
   "cell_type": "code",
   "execution_count": 74,
   "id": "acbf74ee",
   "metadata": {},
   "outputs": [],
   "source": [
    "def extracting_training_test_data(data_path):\n",
    "    from pandas import read_csv\n",
    "    \n",
    "    train_path= data_path+ \"train.csv\"\n",
    "    test_path= data_path+ \"test.csv\"\n",
    "    train= read_csv(train_path)\n",
    "    test= read_csv(test_path)\n",
    "    features= list(train.iloc[51695, :].values)\n",
    "    train= train.drop([51695], axis= 0)\n",
    "    train.columns= features\n",
    "    features.remove(\"target\")\n",
    "    test.columns= features\n",
    "    return(train, test)"
   ]
  },
  {
   "cell_type": "code",
   "execution_count": 75,
   "id": "310908d9",
   "metadata": {},
   "outputs": [],
   "source": [
    "%%capture\n",
    "data_path= \"../data_path/\"\n",
    "train, test= extracting_training_test_data(data_path)"
   ]
  },
  {
   "cell_type": "code",
   "execution_count": 76,
   "id": "5e3643fb",
   "metadata": {},
   "outputs": [
    {
     "data": {
      "text/plain": [
       "array(['Class_2', 'Class_8', 'Class_6', 'Class_3', 'Class_7', 'Class_4',\n",
       "       'Class_5', 'Class_9', 'Class_1'], dtype=object)"
      ]
     },
     "execution_count": 76,
     "metadata": {},
     "output_type": "execute_result"
    }
   ],
   "source": [
    "train.iloc[:, -1].unique()"
   ]
  },
  {
   "cell_type": "code",
   "execution_count": 77,
   "id": "60a71b48",
   "metadata": {},
   "outputs": [
    {
     "data": {
      "text/plain": [
       "array([1, 7, 5, 2, 6, 3, 4, 8, 0])"
      ]
     },
     "execution_count": 77,
     "metadata": {},
     "output_type": "execute_result"
    }
   ],
   "source": [
    "# it's easy enough to encode the classes without an extra module\n",
    "train['target'] = [x[-1] for x in train['target']]\n",
    "train['target'] = train['target'].astype(int) - 1\n",
    "train.target.unique()"
   ]
  },
  {
   "cell_type": "code",
   "execution_count": 44,
   "id": "55392aa8",
   "metadata": {},
   "outputs": [],
   "source": [
    "from sklearn.model_selection import train_test_split\n",
    "# slice features and classes from df\n",
    "X = train.iloc[:, 1:94].values.astype(float)\n",
    "y = train.iloc[:, 94].values.astype(float)\n",
    "X_train, X_test, y_train, y_test = train_test_split(X, y, test_size = 0.2, random_state = 0)"
   ]
  },
  {
   "cell_type": "code",
   "execution_count": 45,
   "id": "e2931d16",
   "metadata": {},
   "outputs": [],
   "source": [
    "from sklearn.preprocessing import StandardScaler\n",
    "\n",
    "# scale features\n",
    "sc = StandardScaler()\n",
    "X = sc.fit_transform(X)\n",
    "X_train = sc.fit_transform(X_train)\n",
    "X_test = sc.fit_transform(X_test)"
   ]
  },
  {
   "cell_type": "code",
   "execution_count": 89,
   "id": "c1b4cc1f",
   "metadata": {},
   "outputs": [],
   "source": [
    "from tensorflow.keras.models import Sequential\n",
    "from tensorflow.keras.layers import Dense\n",
    "\n",
    "def classifier():\n",
    "    classifier = Sequential()\n",
    "    classifier.add(Dense(units = 200, input_dim = 93))\n",
    "    classifier.add(Dense(units = 50))\n",
    "    classifier.add(Dense(units = 9, activation = 'softmax'))\n",
    "    classifier.compile(optimizer = 'sgd', \n",
    "                       loss = 'sparse_categorical_crossentropy', metrics = ['accuracy'])\n",
    "    return classifier"
   ]
  },
  {
   "cell_type": "code",
   "execution_count": 90,
   "id": "a50add82",
   "metadata": {},
   "outputs": [
    {
     "name": "stdout",
     "output_type": "stream",
     "text": [
      "Epoch 1/10\n",
      "50/50 [==============================] - 7s 9ms/step - loss: 2.0707 - accuracy: 0.3390 - val_loss: 1.2668 - val_accuracy: 0.6197\n",
      "Epoch 2/10\n",
      "50/50 [==============================] - 0s 4ms/step - loss: 1.1840 - accuracy: 0.6401 - val_loss: 1.0421 - val_accuracy: 0.6747\n",
      "Epoch 3/10\n",
      "50/50 [==============================] - 0s 4ms/step - loss: 1.0066 - accuracy: 0.6845 - val_loss: 0.9469 - val_accuracy: 0.6940\n",
      "Epoch 4/10\n",
      "50/50 [==============================] - 0s 4ms/step - loss: 0.9132 - accuracy: 0.7051 - val_loss: 0.8929 - val_accuracy: 0.7057\n",
      "Epoch 5/10\n",
      "50/50 [==============================] - 0s 3ms/step - loss: 0.8674 - accuracy: 0.7139 - val_loss: 0.8569 - val_accuracy: 0.7142\n",
      "Epoch 6/10\n",
      "50/50 [==============================] - 0s 4ms/step - loss: 0.8399 - accuracy: 0.7167 - val_loss: 0.8308 - val_accuracy: 0.7198\n",
      "Epoch 7/10\n",
      "50/50 [==============================] - 0s 3ms/step - loss: 0.8071 - accuracy: 0.7219 - val_loss: 0.8107 - val_accuracy: 0.7212\n",
      "Epoch 8/10\n",
      "50/50 [==============================] - 0s 3ms/step - loss: 0.7915 - accuracy: 0.7270 - val_loss: 0.7950 - val_accuracy: 0.7245\n",
      "Epoch 9/10\n",
      "50/50 [==============================] - 0s 4ms/step - loss: 0.7861 - accuracy: 0.7243 - val_loss: 0.7821 - val_accuracy: 0.7264\n",
      "Epoch 10/10\n",
      "50/50 [==============================] - 0s 4ms/step - loss: 0.7629 - accuracy: 0.7307 - val_loss: 0.7711 - val_accuracy: 0.7284\n"
     ]
    }
   ],
   "source": [
    "classifier = classifier()\n",
    "history = classifier.fit(X_train, y_train, \n",
    "                         validation_data=(X_test,y_test), \n",
    "                         epochs=10, batch_size=1000)"
   ]
  },
  {
   "cell_type": "code",
   "execution_count": 91,
   "id": "c07ef1f4",
   "metadata": {},
   "outputs": [
    {
     "data": {
      "image/png": "[encoded data removed]",
      "text/plain": [
       "<Figure size 1152x432 with 2 Axes>"
      ]
     },
     "metadata": {
      "needs_background": "light"
     },
     "output_type": "display_data"
    }
   ],
   "source": [
    "%matplotlib inline\n",
    "import matplotlib.pyplot as plt\n",
    "import seaborn as sns\n",
    "\n",
    "def plots(acc, val_acc, loss, val_loss):\n",
    "    fig, (ax1, ax2) = plt.subplots(ncols=2, sharey=True)\n",
    "\n",
    "    # plot accuracy\n",
    "    ax1.plot(acc, label='Training')\n",
    "    if val_acc is not None:\n",
    "        ax1.plot(val_acc, label='Validation')\n",
    "\n",
    "    ax1.set_xlabel('Epoch')\n",
    "    ax1.set_title('Model Accuracy')\n",
    "    ax1.legend(loc='upper left')\n",
    "    ax1.set_ylim([0,1.2])\n",
    "\n",
    "    # plot loss\n",
    "    ax2.plot(loss, label='Training')\n",
    "    if val_loss is not None:\n",
    "        ax2.plot(val_loss, label='Validation')\n",
    "\n",
    "    ax2.set_xlabel('Epoch')\n",
    "    ax2.set_title('Model Loss')\n",
    "    ax2.legend(loc='upper right')\n",
    "    ax2.set_ylim([0,1.2])\n",
    "\n",
    "    sns.despine()\n",
    "    sns.set_style(\"white\")\n",
    "\n",
    "\n",
    "    plt.show()\n",
    "\n",
    "plt.rcParams[\"figure.figsize\"] = (16,6)\n",
    "plots(history.history[\"accuracy\"],history.history['val_accuracy'],\n",
    "      history.history[\"loss\"],history.history['val_loss'])"
   ]
  },
  {
   "cell_type": "code",
   "execution_count": 88,
   "id": "d7927316",
   "metadata": {},
   "outputs": [
    {
     "name": "stdout",
     "output_type": "stream",
     "text": [
      "Epoch 1/10\n",
      "50/50 [==============================] - 1s 9ms/step - loss: 2.2095 - accuracy: 0.2796 - val_loss: 1.3212 - val_accuracy: 0.6182\n",
      "Epoch 2/10\n",
      "50/50 [==============================] - 0s 6ms/step - loss: 1.2439 - accuracy: 0.6377 - val_loss: 1.0857 - val_accuracy: 0.6822\n",
      "Epoch 3/10\n",
      "50/50 [==============================] - 0s 5ms/step - loss: 1.0551 - accuracy: 0.6848 - val_loss: 0.9826 - val_accuracy: 0.7008\n",
      "Epoch 4/10\n",
      "50/50 [==============================] - 0s 5ms/step - loss: 0.9625 - accuracy: 0.7005 - val_loss: 0.9226 - val_accuracy: 0.7094\n",
      "Epoch 5/10\n",
      "50/50 [==============================] - 0s 5ms/step - loss: 0.9072 - accuracy: 0.7147 - val_loss: 0.8828 - val_accuracy: 0.7149\n",
      "Epoch 6/10\n",
      "50/50 [==============================] - 0s 5ms/step - loss: 0.8636 - accuracy: 0.7203 - val_loss: 0.8541 - val_accuracy: 0.7192\n",
      "Epoch 7/10\n",
      "50/50 [==============================] - 0s 5ms/step - loss: 0.8348 - accuracy: 0.7227 - val_loss: 0.8321 - val_accuracy: 0.7224\n",
      "Epoch 8/10\n",
      "50/50 [==============================] - 0s 5ms/step - loss: 0.8185 - accuracy: 0.7256 - val_loss: 0.8152 - val_accuracy: 0.7254\n",
      "Epoch 9/10\n",
      "50/50 [==============================] - 0s 8ms/step - loss: 0.8048 - accuracy: 0.7280 - val_loss: 0.8013 - val_accuracy: 0.7270\n",
      "Epoch 10/10\n",
      "50/50 [==============================] - 0s 7ms/step - loss: 0.7902 - accuracy: 0.7296 - val_loss: 0.7896 - val_accuracy: 0.7284\n"
     ]
    }
   ],
   "source": [
    "from tensorflow.keras.models import Sequential\n",
    "from tensorflow.keras.layers import Dense, BatchNormalization\n",
    "\n",
    "def classifier():\n",
    "    classifier = Sequential()\n",
    "    classifier.add(Dense(units = 200, input_dim = 93))\n",
    "    classifier.add(BatchNormalization())\n",
    "    classifier.add(Dense(units = 50))\n",
    "    classifier.add(BatchNormalization())\n",
    "    classifier.add(Dense(units = 9, activation = 'softmax'))\n",
    "    classifier.compile(optimizer = 'sgd', \n",
    "                       loss = 'sparse_categorical_crossentropy', \n",
    "                       metrics = ['accuracy'])\n",
    "    return classifier\n",
    "\n",
    "classifier = classifier()\n",
    "history = classifier.fit(X_train, y_train, \n",
    "                         validation_data=(X_test,y_test), \n",
    "                         epochs=10, batch_size=1000)"
   ]
  },
  {
   "cell_type": "code",
   "execution_count": 80,
   "id": "d517cb25",
   "metadata": {},
   "outputs": [],
   "source": [
    "from tensorflow.keras.models import Sequential\n",
    "from tensorflow.keras.layers import Dense\n",
    "\n",
    "def classifier():\n",
    "    classifier = Sequential()\n",
    "    classifier.add(Dense(units = 200, kernel_initializer = 'uniform', \n",
    "                         activation = 'relu', input_dim = 93))\n",
    "    classifier.add(Dense(units = 50, kernel_initializer = 'uniform', \n",
    "                         activation = 'relu'))\n",
    "    classifier.add(Dense(units = 9, kernel_initializer = 'uniform', \n",
    "                         activation = 'softmax'))\n",
    "    classifier.compile(optimizer = 'rmsprop', \n",
    "                       loss = 'sparse_categorical_crossentropy', metrics = ['accuracy'])\n",
    "    return classifier"
   ]
  },
  {
   "cell_type": "code",
   "execution_count": 81,
   "id": "77bb6bcf",
   "metadata": {},
   "outputs": [
    {
     "name": "stdout",
     "output_type": "stream",
     "text": [
      "Epoch 1/10\n",
      "50/50 [==============================] - 1s 6ms/step - loss: 1.6801 - accuracy: 0.5262 - val_loss: 0.9043 - val_accuracy: 0.6745\n",
      "Epoch 2/10\n",
      "50/50 [==============================] - 0s 3ms/step - loss: 0.8347 - accuracy: 0.7066 - val_loss: 0.7004 - val_accuracy: 0.7418\n",
      "Epoch 3/10\n",
      "50/50 [==============================] - 0s 3ms/step - loss: 0.6721 - accuracy: 0.7482 - val_loss: 0.6336 - val_accuracy: 0.7548\n",
      "Epoch 4/10\n",
      "50/50 [==============================] - 0s 4ms/step - loss: 0.6239 - accuracy: 0.7624 - val_loss: 0.6061 - val_accuracy: 0.7667\n",
      "Epoch 5/10\n",
      "50/50 [==============================] - 0s 5ms/step - loss: 0.5948 - accuracy: 0.7708 - val_loss: 0.5899 - val_accuracy: 0.7669\n",
      "Epoch 6/10\n",
      "50/50 [==============================] - 0s 4ms/step - loss: 0.5695 - accuracy: 0.7770 - val_loss: 0.5792 - val_accuracy: 0.7740\n",
      "Epoch 7/10\n",
      "50/50 [==============================] - 0s 4ms/step - loss: 0.5609 - accuracy: 0.7801 - val_loss: 0.5796 - val_accuracy: 0.7696\n",
      "Epoch 8/10\n",
      "50/50 [==============================] - 0s 3ms/step - loss: 0.5500 - accuracy: 0.7839 - val_loss: 0.5649 - val_accuracy: 0.7785\n",
      "Epoch 9/10\n",
      "50/50 [==============================] - 0s 3ms/step - loss: 0.5433 - accuracy: 0.7879 - val_loss: 0.5623 - val_accuracy: 0.7771\n",
      "Epoch 10/10\n",
      "50/50 [==============================] - 0s 3ms/step - loss: 0.5308 - accuracy: 0.7897 - val_loss: 0.5529 - val_accuracy: 0.7835\n"
     ]
    }
   ],
   "source": [
    "classifier = classifier()\n",
    "history = classifier.fit(X_train, y_train, \n",
    "                         validation_data=(X_test,y_test), \n",
    "                         epochs=10, batch_size=1000)"
   ]
  },
  {
   "cell_type": "code",
   "execution_count": 58,
   "id": "0da9e3ab",
   "metadata": {},
   "outputs": [
    {
     "data": {
      "image/png": "[encoded data removed]",
      "text/plain": [
       "<Figure size 1152x432 with 2 Axes>"
      ]
     },
     "metadata": {
      "needs_background": "light"
     },
     "output_type": "display_data"
    }
   ],
   "source": [
    "%matplotlib inline\n",
    "import matplotlib.pyplot as plt\n",
    "import seaborn as sns\n",
    "\n",
    "def plots(acc, val_acc, loss, val_loss):\n",
    "    fig, (ax1, ax2) = plt.subplots(ncols=2, sharey=True)\n",
    "\n",
    "    # plot accuracy\n",
    "    ax1.plot(acc, label='Training')\n",
    "    if val_acc is not None:\n",
    "        ax1.plot(val_acc, label='Validation')\n",
    "\n",
    "    ax1.set_xlabel('Epoch')\n",
    "    ax1.set_title('Model Accuracy')\n",
    "    ax1.legend(loc='upper left')\n",
    "    ax1.set_ylim([0,1.2])\n",
    "\n",
    "    # plot loss\n",
    "    ax2.plot(loss, label='Training')\n",
    "    if val_loss is not None:\n",
    "        ax2.plot(val_loss, label='Validation')\n",
    "\n",
    "    ax2.set_xlabel('Epoch')\n",
    "    ax2.set_title('Model Loss')\n",
    "    ax2.legend(loc='upper right')\n",
    "    ax2.set_ylim([0,1.2])\n",
    "\n",
    "    sns.despine()\n",
    "    sns.set_style(\"white\")\n",
    "\n",
    "\n",
    "    plt.show()\n",
    "\n",
    "plt.rcParams[\"figure.figsize\"] = (16,6)\n",
    "plots(history.history[\"accuracy\"],history.history['val_accuracy'],\n",
    "      history.history[\"loss\"],history.history['val_loss'])"
   ]
  },
  {
   "cell_type": "code",
   "execution_count": 112,
   "id": "9d8860bb",
   "metadata": {},
   "outputs": [],
   "source": [
    "from tensorflow.keras.models import Sequential\n",
    "from tensorflow.keras.layers import Dense\n",
    "\n",
    "def classifier():\n",
    "    classifier = Sequential()\n",
    "    classifier.add(Dense(units = 200, kernel_initializer = 'uniform', activation = 'relu', input_dim = 93))\n",
    "    classifier.add(Dense(units = 175, kernel_initializer = 'uniform', activation = 'relu'))\n",
    "    classifier.add(Dense(units = 150, kernel_initializer = 'uniform', activation = 'relu'))\n",
    "    classifier.add(Dense(units = 75, kernel_initializer = 'uniform', activation = 'relu'))\n",
    "    classifier.add(Dense(units = 25, kernel_initializer = 'uniform', activation = 'relu'))\n",
    "    classifier.add(Dense(units = 9, kernel_initializer = 'uniform', activation = 'softmax'))\n",
    "    classifier.compile(optimizer = 'rmsprop', loss = 'sparse_categorical_crossentropy', metrics = ['accuracy'])\n",
    "    return classifier"
   ]
  },
  {
   "cell_type": "code",
   "execution_count": 113,
   "id": "f52f8f31",
   "metadata": {},
   "outputs": [
    {
     "name": "stdout",
     "output_type": "stream",
     "text": [
      "Epoch 1/100\n",
      "50/50 [==============================] - 2s 19ms/step - loss: 1.8078 - accuracy: 0.2945 - val_loss: 1.0718 - val_accuracy: 0.6214\n",
      "Epoch 2/100\n",
      "50/50 [==============================] - 0s 7ms/step - loss: 0.9808 - accuracy: 0.6415 - val_loss: 0.8453 - val_accuracy: 0.6867\n",
      "Epoch 3/100\n",
      "50/50 [==============================] - 0s 7ms/step - loss: 0.8089 - accuracy: 0.6974 - val_loss: 0.8172 - val_accuracy: 0.6966\n",
      "Epoch 4/100\n",
      "50/50 [==============================] - 0s 7ms/step - loss: 0.7523 - accuracy: 0.7064 - val_loss: 0.7296 - val_accuracy: 0.7153\n",
      "Epoch 5/100\n",
      "50/50 [==============================] - 0s 7ms/step - loss: 0.7199 - accuracy: 0.7172 - val_loss: 0.7689 - val_accuracy: 0.7119\n",
      "Epoch 6/100\n",
      "50/50 [==============================] - 0s 7ms/step - loss: 0.7014 - accuracy: 0.7236 - val_loss: 0.7201 - val_accuracy: 0.7222\n",
      "Epoch 7/100\n",
      "50/50 [==============================] - 0s 7ms/step - loss: 0.6815 - accuracy: 0.7305 - val_loss: 0.7319 - val_accuracy: 0.7196\n",
      "Epoch 8/100\n",
      "50/50 [==============================] - 0s 7ms/step - loss: 0.6637 - accuracy: 0.7407 - val_loss: 0.6673 - val_accuracy: 0.7395\n",
      "Epoch 9/100\n",
      "50/50 [==============================] - 0s 8ms/step - loss: 0.6409 - accuracy: 0.7524 - val_loss: 0.6453 - val_accuracy: 0.7452\n",
      "Epoch 10/100\n",
      "50/50 [==============================] - 0s 8ms/step - loss: 0.6259 - accuracy: 0.7591 - val_loss: 0.6323 - val_accuracy: 0.7536\n",
      "Epoch 11/100\n",
      "50/50 [==============================] - 0s 7ms/step - loss: 0.6175 - accuracy: 0.7613 - val_loss: 0.6428 - val_accuracy: 0.7554\n",
      "Epoch 12/100\n",
      "50/50 [==============================] - 0s 7ms/step - loss: 0.6056 - accuracy: 0.7639 - val_loss: 0.6259 - val_accuracy: 0.7529\n",
      "Epoch 13/100\n",
      "50/50 [==============================] - 0s 7ms/step - loss: 0.6005 - accuracy: 0.7738 - val_loss: 0.6137 - val_accuracy: 0.7626\n",
      "Epoch 14/100\n",
      "50/50 [==============================] - 0s 7ms/step - loss: 0.5947 - accuracy: 0.7676 - val_loss: 0.6315 - val_accuracy: 0.7616\n",
      "Epoch 15/100\n",
      "50/50 [==============================] - 0s 7ms/step - loss: 0.5822 - accuracy: 0.7753 - val_loss: 0.6239 - val_accuracy: 0.7630\n"
     ]
    }
   ],
   "source": [
    "from keras.callbacks import EarlyStopping\n",
    "\n",
    "classifier_es = classifier()\n",
    "early_stop = EarlyStopping(monitor='val_loss',\n",
    "                              min_delta=0,\n",
    "                              patience=2,\n",
    "                              verbose=0, mode='auto')\n",
    "\n",
    "history_es = classifier_es.fit(X_train, y_train, validation_data=(X_test,y_test), \n",
    "                               epochs=100, batch_size=1000, callbacks=[early_stop])"
   ]
  },
  {
   "cell_type": "code",
   "execution_count": 64,
   "id": "3298e2ac",
   "metadata": {},
   "outputs": [
    {
     "name": "stdout",
     "output_type": "stream",
     "text": [
      "CPU times: user 40 s, sys: 13.7 s, total: 53.6 s\n",
      "Wall time: 13.8 s\n",
      "Accuracy: 57.79% (14.78%)\n"
     ]
    }
   ],
   "source": [
    "from keras.wrappers.scikit_learn import KerasClassifier\n",
    "from sklearn.model_selection import KFold, cross_val_score\n",
    "\n",
    "# build estimator, making model compatible with sklearn modules\n",
    "estimator = KerasClassifier(build_fn=classifier, epochs=5, batch_size=1000, verbose=0)\n",
    "\n",
    "kfold = KFold(n_splits=5, shuffle=True, random_state=1)\n",
    "%time results = cross_val_score(estimator, X, y, cv=kfold, scoring='accuracy')\n",
    "print(\"Accuracy: %.2f%% (%.2f%%)\" % (results.mean()*100, results.std()*100))"
   ]
  },
  {
   "cell_type": "code",
   "execution_count": 109,
   "id": "1346c374",
   "metadata": {},
   "outputs": [],
   "source": [
    "from tensorflow.keras.models import Sequential\n",
    "from tensorflow.keras.layers import Dense\n",
    "model = Sequential()\n",
    "model.add(Dense(3, input_shape=(3,), activation=\"relu\"))\n",
    "model.add(Dense(1))"
   ]
  },
  {
   "cell_type": "code",
   "execution_count": 110,
   "id": "6c8eace1",
   "metadata": {},
   "outputs": [
    {
     "name": "stdout",
     "output_type": "stream",
     "text": [
      "Model: \"sequential_30\"\n",
      "_________________________________________________________________\n",
      "Layer (type)                 Output Shape              Param #   \n",
      "=================================================================\n",
      "dense_169 (Dense)            (None, 3)                 12        \n",
      "_________________________________________________________________\n",
      "dense_170 (Dense)            (None, 1)                 4         \n",
      "=================================================================\n",
      "Total params: 16\n",
      "Trainable params: 16\n",
      "Non-trainable params: 0\n",
      "_________________________________________________________________\n"
     ]
    }
   ],
   "source": [
    "model.summary()"
   ]
  },
  {
   "cell_type": "code",
   "execution_count": 111,
   "id": "d4c8fff5",
   "metadata": {},
   "outputs": [
    {
     "data": {
      "text/plain": [
       "16"
      ]
     },
     "execution_count": 111,
     "metadata": {},
     "output_type": "execute_result"
    }
   ],
   "source": [
    "model.count_params()"
   ]
  },
  {
   "cell_type": "code",
   "execution_count": null,
   "id": "4d7e5b5d",
   "metadata": {},
   "outputs": [],
   "source": []
  }
 ],
 "metadata": {
  "kernelspec": {
   "display_name": "Python 3",
   "language": "python",
   "name": "python3"
  },
  "language_info": {
   "codemirror_mode": {
    "name": "ipython",
    "version": 3
   },
   "file_extension": ".py",
   "mimetype": "text/x-python",
   "name": "python",
   "nbconvert_exporter": "python",
   "pygments_lexer": "ipython3",
   "version": "3.9.4"
  },
  "toc": {
   "base_numbering": 1,
   "nav_menu": {},
   "number_sections": true,
   "sideBar": true,
   "skip_h1_title": false,
   "title_cell": "Table of Contents",
   "title_sidebar": "Contents",
   "toc_cell": false,
   "toc_position": {},
   "toc_section_display": true,
   "toc_window_display": false
  }
 },
 "nbformat": 4,
 "nbformat_minor": 5
}
