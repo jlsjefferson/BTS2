{
 "cells": [
  {
   "cell_type": "code",
   "execution_count": 1,
   "id": "computational-directory",
   "metadata": {},
   "outputs": [],
   "source": [
    "import os\n",
    "\n",
    "import findspark\n",
    "import pyspark\n",
    "import time\n",
    "from operator import add"
   ]
  },
  {
   "cell_type": "code",
   "execution_count": 2,
   "id": "southwest-disclosure",
   "metadata": {},
   "outputs": [],
   "source": [
    "from pyspark import SparkConf\n",
    "from pyspark import SparkContext\n",
    "\n",
    "conf = SparkConf()\n",
    "conf.setMaster(\"local\")\n",
    "conf.setAppName(\"spark-basic\")\n",
    "sc = SparkContext(conf = conf)#Start the environment/context."
   ]
  },
  {
   "cell_type": "markdown",
   "id": "breeding-essence",
   "metadata": {},
   "source": [
    "# Another Exercise!¶\n",
    "\n",
    "Let's code a shopping list! We will have a list of elements like this:\n",
    "\n",
    "x = sc.parallelize([[\"Apple\",3,0.2],[\"Pear\",5,0.35],[\"Milk\",2,1.1],[\"Apple\",3,0.2]])\n",
    "\n",
    "Where the first element of each list is the product, the second the number of unit we bought and the third the unit price.\n",
    "\n",
    "We want to have the list of how much we have spent in each product (ordered), and the total amount of money we have spent.\n",
    "\n",
    "(Optional) If we buy more than 10 products of the same type, we have a 10% discount of the final price"
   ]
  },
  {
   "cell_type": "code",
   "execution_count": 7,
   "id": "premium-complement",
   "metadata": {},
   "outputs": [
    {
     "data": {
      "text/plain": [
       "[('Milk', 2.2), ('Pear', 1.75), ('Apple', 1.2000000000000002)]"
      ]
     },
     "execution_count": 7,
     "metadata": {},
     "output_type": "execute_result"
    }
   ],
   "source": [
    "x = sc.parallelize([[\"Apple\",3,0.2],[\"Pear\",5,0.35],[\"Milk\",2,1.1],[\"Apple\",3,0.2]])\n",
    "rdd = x.map(lambda x:(x[0], x[1]*x[2])).reduceByKey(add)\n",
    "rdd.sortBy(lambda x: x[1], False).collect()"
   ]
  },
  {
   "cell_type": "markdown",
   "id": "cleared-water",
   "metadata": {},
   "source": [
    "# Last one...\n",
    "Replicate the last exercise, but the structure of the data is different. We have one object with products and prices. On the other hand, we have one list of the following form:\n",
    "\n",
    "x = sc.parallelize([[\"Maria\",\"Apple\",1],[\"Maria\",\"Pear\",2],[\"Pau\",\"Milk\",4],[\"Laura\",\"Apple\",3]])\n",
    "\n",
    "We want to know how much each of the have spent in total."
   ]
  },
  {
   "cell_type": "code",
   "execution_count": 93,
   "id": "rational-marker",
   "metadata": {},
   "outputs": [
    {
     "data": {
      "text/plain": [
       "[('Apple', 0.2), ('Pear', 0.35), ('Milk', 1.1)]"
      ]
     },
     "execution_count": 93,
     "metadata": {},
     "output_type": "execute_result"
    }
   ],
   "source": [
    "y = sc.parallelize([[\"Apple\",3,0.2],[\"Pear\",5,0.35],[\"Milk\",2,1.1],[\"Apple\",3,0.2]])\n",
    "y=y.map(lambda x: (x[0],x[2])).distinct()\n",
    "#y = y.map(lambda x: [x[0],x[2]]\n",
    "y.collect()"
   ]
  },
  {
   "cell_type": "code",
   "execution_count": 51,
   "id": "incorporated-journey",
   "metadata": {},
   "outputs": [],
   "source": [
    "#y=y.groupByKey().map(lambda x: [x[0],min(x[1])])\n",
    "#y.collect()"
   ]
  },
  {
   "cell_type": "code",
   "execution_count": 94,
   "id": "prostate-motion",
   "metadata": {},
   "outputs": [
    {
     "data": {
      "text/plain": [
       "[('Apple', (('Maria', 1), 0.2)),\n",
       " ('Apple', (('Laura', 3), 0.2)),\n",
       " ('Milk', (('Pau', 4), 1.1)),\n",
       " ('Pear', (('Maria', 2), 0.35))]"
      ]
     },
     "execution_count": 94,
     "metadata": {},
     "output_type": "execute_result"
    }
   ],
   "source": [
    "x = sc.parallelize([[\"Maria\",\"Apple\",1],[\"Maria\",\"Pear\",2],[\"Pau\",\"Milk\",4],[\"Laura\",\"Apple\",3]])\n",
    "z = x.map(lambda x:(x[1],(x[0],x[2]))).join(y)\n",
    "z.collect()"
   ]
  },
  {
   "cell_type": "code",
   "execution_count": 95,
   "id": "conventional-legislation",
   "metadata": {},
   "outputs": [
    {
     "data": {
      "text/plain": [
       "[('Maria', 'Apple', 0.2),\n",
       " ('Laura', 'Apple', 0.6),\n",
       " ('Pau', 'Milk', 4.4),\n",
       " ('Maria', 'Pear', 0.7)]"
      ]
     },
     "execution_count": 95,
     "metadata": {},
     "output_type": "execute_result"
    }
   ],
   "source": [
    "z=z.map(lambda x:(x[1][0][0],x[0],round((x[1][0][1] * x[1][1]),2)))\n",
    "z.collect()"
   ]
  },
  {
   "cell_type": "code",
   "execution_count": 96,
   "id": "alternative-curtis",
   "metadata": {},
   "outputs": [
    {
     "data": {
      "text/plain": [
       "[('Pau', 4.4), ('Maria', 0.8999999999999999), ('Laura', 0.6)]"
      ]
     },
     "execution_count": 96,
     "metadata": {},
     "output_type": "execute_result"
    }
   ],
   "source": [
    "from operator import add\n",
    "#z.map(lambda x:(x[0],x[2])).reduceByKey(lambda x,y:x+y).collect()\n",
    "z.map(lambda x:(x[0],x[2])).reduceByKey(add).collect()"
   ]
  },
  {
   "cell_type": "markdown",
   "id": "secondary-evening",
   "metadata": {},
   "source": [
    "# Exercise"
   ]
  },
  {
   "cell_type": "markdown",
   "id": "criminal-accused",
   "metadata": {},
   "source": [
    "- A proposal of a MapReduce process and its implementation in Pyspark. Doesn't have to be really complex. Think about the example we worked with last week (counting words), and create something similar.\n",
    "\n",
    "\n",
    "Read a Barcelona match plays file and determine if Messi or Griezman appeared the most on the game. "
   ]
  },
  {
   "cell_type": "code",
   "execution_count": 15,
   "id": "pointed-ideal",
   "metadata": {},
   "outputs": [],
   "source": [
    "rdd=sc.textFile('en-vivo.txt')"
   ]
  },
  {
   "cell_type": "code",
   "execution_count": 16,
   "id": "tropical-royalty",
   "metadata": {},
   "outputs": [],
   "source": [
    "def lenguajes_map(x):\n",
    "    if \"Messi\" in x: \n",
    "        return (\"Count\",(1,0))\n",
    "    elif \"Griezman\" in x: \n",
    "        return (\"Count\", (0,1))\n",
    "    else:\n",
    "        return (\"Count\",(0,0))"
   ]
  },
  {
   "cell_type": "code",
   "execution_count": 17,
   "id": "steady-newark",
   "metadata": {},
   "outputs": [
    {
     "data": {
      "text/plain": [
       "[('Count', (0, 0)),\n",
       " ('Count', (0, 0)),\n",
       " ('Count', (0, 0)),\n",
       " ('Count', (0, 0)),\n",
       " ('Count', (0, 0))]"
      ]
     },
     "execution_count": 17,
     "metadata": {},
     "output_type": "execute_result"
    }
   ],
   "source": [
    "rdd.map(lenguajes_map).take(5)"
   ]
  },
  {
   "cell_type": "code",
   "execution_count": 18,
   "id": "stone-specialist",
   "metadata": {},
   "outputs": [
    {
     "data": {
      "text/plain": [
       "[('Count', (7, 11))]"
      ]
     },
     "execution_count": 18,
     "metadata": {},
     "output_type": "execute_result"
    }
   ],
   "source": [
    "rdd.map(lenguajes_map).reduceByKey(lambda x,y:(x[0]+y[0], x[1]+y[1])).collect()"
   ]
  },
  {
   "cell_type": "code",
   "execution_count": null,
   "id": "entire-education",
   "metadata": {},
   "outputs": [],
   "source": []
  }
 ],
 "metadata": {
  "kernelspec": {
   "display_name": "Python 3",
   "language": "python",
   "name": "python3"
  },
  "language_info": {
   "codemirror_mode": {
    "name": "ipython",
    "version": 3
   },
   "file_extension": ".py",
   "mimetype": "text/x-python",
   "name": "python",
   "nbconvert_exporter": "python",
   "pygments_lexer": "ipython3",
   "version": "3.8.8"
  }
 },
 "nbformat": 4,
 "nbformat_minor": 5
}
