{
 "cells": [
  {
   "cell_type": "code",
   "execution_count": 1,
   "id": "ecdb0b22",
   "metadata": {},
   "outputs": [],
   "source": [
    "## imports\n",
    "\n",
    "import spacy\n",
    "import pandas as pd\n",
    "import numpy as np\n",
    "import os\n",
    "from tqdm import tqdm \n",
    "from sklearn.feature_extraction.text import TfidfVectorizer, CountVectorizer\n",
    "from sklearn import preprocessing\n",
    "from sklearn.preprocessing import LabelEncoder\n",
    "from sklearn.model_selection import train_test_split\n",
    "from sklearn.linear_model import LogisticRegression\n",
    "from sklearn.metrics import confusion_matrix\n",
    "from sklearn import metrics\n",
    "from sklearn.metrics import plot_confusion_matrix\n",
    "from sklearn.svm import SVC\n",
    "from sklearn import preprocessing, decomposition\n",
    "from sklearn.metrics import precision_recall_fscore_support\n",
    "from sklearn.metrics import classification_report\n",
    "import re"
   ]
  },
  {
   "cell_type": "markdown",
   "id": "d748e44a",
   "metadata": {},
   "source": [
    "# Question  2 : Data preparation"
   ]
  },
  {
   "cell_type": "code",
   "execution_count": 2,
   "id": "58d46cfa",
   "metadata": {},
   "outputs": [
    {
     "name": "stderr",
     "output_type": "stream",
     "text": [
      "100%|██████████| 12500/12500 [00:00<00:00, 51702.18it/s]\n"
     ]
    }
   ],
   "source": [
    "posPath='aclImdb/train/pos'\n",
    "arr = []\n",
    "for filename in tqdm(os.listdir(posPath)):\n",
    "    path= os.path.join(posPath,filename)\n",
    "    with open(path) as f:\n",
    "        review = f.readlines()\n",
    "        arr.append(review)\n",
    "        \n",
    "posArr = np.array(arr)\n",
    "posArr = np.insert(posArr, 1, 1, axis=1)"
   ]
  },
  {
   "cell_type": "code",
   "execution_count": 3,
   "id": "8b79ccbd",
   "metadata": {},
   "outputs": [
    {
     "name": "stderr",
     "output_type": "stream",
     "text": [
      "100%|██████████| 12500/12500 [00:00<00:00, 53264.79it/s]\n"
     ]
    }
   ],
   "source": [
    "negPath='aclImdb/train/neg'\n",
    "arr = []\n",
    "for filename in tqdm(os.listdir(negPath)):\n",
    "    #print(filename)\n",
    "    #path='imdb/train/neg/0_3.txt'\n",
    "    path= os.path.join(negPath,filename)\n",
    "    with open(path) as f:\n",
    "        review = f.readlines()\n",
    "        arr.append(review)\n",
    "\n",
    "negArr = np.array(arr)\n",
    "negArr = np.insert(negArr, 1, 0, axis=1)"
   ]
  },
  {
   "cell_type": "code",
   "execution_count": 4,
   "id": "509681a1",
   "metadata": {},
   "outputs": [
    {
     "name": "stdout",
     "output_type": "stream",
     "text": [
      "(12500, 2)\n",
      "(12500, 2)\n"
     ]
    }
   ],
   "source": [
    "print(posArr.shape)\n",
    "print(negArr.shape)"
   ]
  },
  {
   "cell_type": "markdown",
   "id": "d328a63a",
   "metadata": {},
   "source": [
    "#### 2 .1 Prepare the data so it can be the input for a machine learning model (samples, target)"
   ]
  },
  {
   "cell_type": "code",
   "execution_count": 5,
   "id": "d0bc31cf",
   "metadata": {},
   "outputs": [
    {
     "name": "stdout",
     "output_type": "stream",
     "text": [
      "                                              review label\n",
      "0  \"My Left Foot\" is a pretty impressive film tha...     1\n",
      "1  Along with \"King of the Rocket Men\", this was ...     1\n",
      "                                              review label\n",
      "0  This is one of the worst-written movies I've e...     0\n",
      "1  Wow, here it finally is; the action \"movie\" wi...     0\n"
     ]
    },
    {
     "data": {
      "text/html": [
       "<div>\n",
       "<style scoped>\n",
       "    .dataframe tbody tr th:only-of-type {\n",
       "        vertical-align: middle;\n",
       "    }\n",
       "\n",
       "    .dataframe tbody tr th {\n",
       "        vertical-align: top;\n",
       "    }\n",
       "\n",
       "    .dataframe thead th {\n",
       "        text-align: right;\n",
       "    }\n",
       "</style>\n",
       "<table border=\"1\" class=\"dataframe\">\n",
       "  <thead>\n",
       "    <tr style=\"text-align: right;\">\n",
       "      <th></th>\n",
       "      <th>review</th>\n",
       "      <th>label</th>\n",
       "    </tr>\n",
       "  </thead>\n",
       "  <tbody>\n",
       "    <tr>\n",
       "      <th>0</th>\n",
       "      <td>\"My Left Foot\" is a pretty impressive film tha...</td>\n",
       "      <td>1</td>\n",
       "    </tr>\n",
       "    <tr>\n",
       "      <th>1</th>\n",
       "      <td>Along with \"King of the Rocket Men\", this was ...</td>\n",
       "      <td>1</td>\n",
       "    </tr>\n",
       "    <tr>\n",
       "      <th>2</th>\n",
       "      <td>As an adult I really did enjoy this one. I wat...</td>\n",
       "      <td>1</td>\n",
       "    </tr>\n",
       "    <tr>\n",
       "      <th>3</th>\n",
       "      <td>really excellent movie, one of the best i've s...</td>\n",
       "      <td>1</td>\n",
       "    </tr>\n",
       "    <tr>\n",
       "      <th>4</th>\n",
       "      <td>Ah, clichés, clichés, clichés; They're a main ...</td>\n",
       "      <td>1</td>\n",
       "    </tr>\n",
       "  </tbody>\n",
       "</table>\n",
       "</div>"
      ],
      "text/plain": [
       "                                              review label\n",
       "0  \"My Left Foot\" is a pretty impressive film tha...     1\n",
       "1  Along with \"King of the Rocket Men\", this was ...     1\n",
       "2  As an adult I really did enjoy this one. I wat...     1\n",
       "3  really excellent movie, one of the best i've s...     1\n",
       "4  Ah, clichés, clichés, clichés; They're a main ...     1"
      ]
     },
     "execution_count": 5,
     "metadata": {},
     "output_type": "execute_result"
    }
   ],
   "source": [
    "# we will join both dataframes\n",
    "df1 = pd.DataFrame(data = posArr, columns = ['review','label'])\n",
    "df2 = pd.DataFrame(data = negArr, columns = ['review','label'])\n",
    "reviews_df = df1.append(df2)\n",
    "print(df1.head(2))\n",
    "print(df2.head(2))\n",
    "reviews_df.head()"
   ]
  },
  {
   "cell_type": "code",
   "execution_count": 6,
   "id": "07f2e6e8",
   "metadata": {},
   "outputs": [
    {
     "data": {
      "text/html": [
       "<div>\n",
       "<style scoped>\n",
       "    .dataframe tbody tr th:only-of-type {\n",
       "        vertical-align: middle;\n",
       "    }\n",
       "\n",
       "    .dataframe tbody tr th {\n",
       "        vertical-align: top;\n",
       "    }\n",
       "\n",
       "    .dataframe thead th {\n",
       "        text-align: right;\n",
       "    }\n",
       "</style>\n",
       "<table border=\"1\" class=\"dataframe\">\n",
       "  <thead>\n",
       "    <tr style=\"text-align: right;\">\n",
       "      <th></th>\n",
       "      <th>review</th>\n",
       "    </tr>\n",
       "    <tr>\n",
       "      <th>label</th>\n",
       "      <th></th>\n",
       "    </tr>\n",
       "  </thead>\n",
       "  <tbody>\n",
       "    <tr>\n",
       "      <th>0</th>\n",
       "      <td>12500</td>\n",
       "    </tr>\n",
       "    <tr>\n",
       "      <th>1</th>\n",
       "      <td>12500</td>\n",
       "    </tr>\n",
       "  </tbody>\n",
       "</table>\n",
       "</div>"
      ],
      "text/plain": [
       "       review\n",
       "label        \n",
       "0       12500\n",
       "1       12500"
      ]
     },
     "execution_count": 6,
     "metadata": {},
     "output_type": "execute_result"
    }
   ],
   "source": [
    "reviews_df.groupby('label').count()"
   ]
  },
  {
   "cell_type": "markdown",
   "id": "18304065",
   "metadata": {},
   "source": [
    " #### 2.2 Clean and preprocess the text "
   ]
  },
  {
   "cell_type": "code",
   "execution_count": 7,
   "id": "1dd08029",
   "metadata": {},
   "outputs": [
    {
     "data": {
      "text/html": [
       "<div>\n",
       "<style scoped>\n",
       "    .dataframe tbody tr th:only-of-type {\n",
       "        vertical-align: middle;\n",
       "    }\n",
       "\n",
       "    .dataframe tbody tr th {\n",
       "        vertical-align: top;\n",
       "    }\n",
       "\n",
       "    .dataframe thead th {\n",
       "        text-align: right;\n",
       "    }\n",
       "</style>\n",
       "<table border=\"1\" class=\"dataframe\">\n",
       "  <thead>\n",
       "    <tr style=\"text-align: right;\">\n",
       "      <th></th>\n",
       "      <th>review</th>\n",
       "      <th>label</th>\n",
       "    </tr>\n",
       "  </thead>\n",
       "  <tbody>\n",
       "    <tr>\n",
       "      <th>0</th>\n",
       "      <td>my left foot is a pretty impressive film that...</td>\n",
       "      <td>1</td>\n",
       "    </tr>\n",
       "    <tr>\n",
       "      <th>1</th>\n",
       "      <td>along with king of the rocket men this was sti...</td>\n",
       "      <td>1</td>\n",
       "    </tr>\n",
       "    <tr>\n",
       "      <th>2</th>\n",
       "      <td>as an adult i really did enjoy this one i watc...</td>\n",
       "      <td>1</td>\n",
       "    </tr>\n",
       "    <tr>\n",
       "      <th>3</th>\n",
       "      <td>really excellent movie one of the best i ve se...</td>\n",
       "      <td>1</td>\n",
       "    </tr>\n",
       "    <tr>\n",
       "      <th>4</th>\n",
       "      <td>ah clichés clichés clichés they re a main part...</td>\n",
       "      <td>1</td>\n",
       "    </tr>\n",
       "  </tbody>\n",
       "</table>\n",
       "</div>"
      ],
      "text/plain": [
       "                                              review label\n",
       "0   my left foot is a pretty impressive film that...     1\n",
       "1  along with king of the rocket men this was sti...     1\n",
       "2  as an adult i really did enjoy this one i watc...     1\n",
       "3  really excellent movie one of the best i ve se...     1\n",
       "4  ah clichés clichés clichés they re a main part...     1"
      ]
     },
     "execution_count": 7,
     "metadata": {},
     "output_type": "execute_result"
    }
   ],
   "source": [
    "def pre_process(text):\n",
    "    # lowercase\n",
    "    text = text.lower()\n",
    "    # tags\n",
    "    text = re.sub('&lt;/?.*?&gt;',' &lt;&gt; ',text)\n",
    "    # special characters and digits\n",
    "    text=re.sub('(\\\\d|\\\\W)+',' ',text)\n",
    "    \n",
    "    return text\n",
    "\n",
    "reviews_df['review'] = reviews_df['review'].apply(lambda x:pre_process(x))\n",
    "reviews_df.head()"
   ]
  },
  {
   "cell_type": "markdown",
   "id": "b01b2d69",
   "metadata": {},
   "source": [
    "# 3 Train a machine learning classifier capable of predicting the sentiment of a review\n",
    "#### 3.1 Preprocessing & Machine Learning ( three approuches was tried)"
   ]
  },
  {
   "cell_type": "markdown",
   "id": "195b275a",
   "metadata": {},
   "source": [
    "##### 3.1.2 simple TF-IDF (Term Frequency - Inverse Document Frequency) followed by a simple Logistic Regression."
   ]
  },
  {
   "cell_type": "code",
   "execution_count": 8,
   "id": "8f5b6d60",
   "metadata": {},
   "outputs": [],
   "source": [
    "# FIRST: we split the data\n",
    "x = reviews_df.review\n",
    "y = reviews_df.label\n",
    "xtrain, xvalid, ytrain, yvalid = train_test_split(x, y, \n",
    "                                                  stratify=y, \n",
    "                                                  random_state=42, \n",
    "                                                  test_size=0.3, shuffle=True)"
   ]
  },
  {
   "cell_type": "code",
   "execution_count": 9,
   "id": "dc790c2c",
   "metadata": {},
   "outputs": [],
   "source": [
    "# SECOND: Transform reviews to TFIDF - vectorizer\n",
    "tfv = TfidfVectorizer(min_df=3,  max_features=None, \n",
    "            strip_accents='unicode', analyzer='word',token_pattern=r'\\w{1,}',\n",
    "            ngram_range=(1, 3), use_idf=1,smooth_idf=1,sublinear_tf=1,\n",
    "            stop_words = 'english')\n",
    "\n",
    "# THIRD : Fitting TF-IDF to both training and validation data sets.\n",
    "tfv.fit(list(xtrain) + list(xvalid))\n",
    "xtrain_tfv =  tfv.transform(xtrain) \n",
    "xvalid_tfv = tfv.transform(xvalid)"
   ]
  },
  {
   "cell_type": "code",
   "execution_count": 10,
   "id": "75ab114e",
   "metadata": {},
   "outputs": [
    {
     "name": "stdout",
     "output_type": "stream",
     "text": [
      "Accuracy Score; 0.8784\n",
      "              precision    recall  f1-score   support\n",
      "\n",
      "           0       0.89      0.86      0.88      3750\n",
      "           1       0.86      0.90      0.88      3750\n",
      "\n",
      "    accuracy                           0.88      7500\n",
      "   macro avg       0.88      0.88      0.88      7500\n",
      "weighted avg       0.88      0.88      0.88      7500\n",
      "\n"
     ]
    },
    {
     "data": {
      "image/png": "[encoded data removed]",
      "text/plain": [
       "<Figure size 432x288 with 2 Axes>"
      ]
     },
     "metadata": {
      "needs_background": "light"
     },
     "output_type": "display_data"
    }
   ],
   "source": [
    "# FOURTH : Fitting a simple Logistic Regression on TFIDF\n",
    "clf_lr = LogisticRegression(C=1.0) # initiate model instance\n",
    "clf_lr.fit(xtrain_tfv, ytrain) # fit model \n",
    "\n",
    "\n",
    "# FIFTH : evaluate model performance \n",
    "print('Accuracy Score;',clf_lr.score(xvalid_tfv,yvalid))\n",
    "confusion_matrix(yvalid, clf_lr.predict(xvalid_tfv))\n",
    "plot_confusion_matrix(clf_lr, xvalid_tfv, yvalid) \n",
    "print(classification_report(yvalid, clf_lr.predict(xvalid_tfv)))"
   ]
  },
  {
   "cell_type": "markdown",
   "id": "840c2bbd",
   "metadata": {
    "collapsed": true
   },
   "source": [
    "##### 3.1.3 using word counts as features ( CountVectorizer) followed by a simple Logistic Regression."
   ]
  },
  {
   "cell_type": "code",
   "execution_count": 11,
   "id": "c7f8d712",
   "metadata": {},
   "outputs": [
    {
     "name": "stdout",
     "output_type": "stream",
     "text": [
      "Accuracy Score; 0.8756\n",
      "              precision    recall  f1-score   support\n",
      "\n",
      "           0       0.88      0.87      0.87      3750\n",
      "           1       0.87      0.89      0.88      3750\n",
      "\n",
      "    accuracy                           0.88      7500\n",
      "   macro avg       0.88      0.88      0.88      7500\n",
      "weighted avg       0.88      0.88      0.88      7500\n",
      "\n"
     ]
    },
    {
     "data": {
      "image/png": "[encoded data removed]",
      "text/plain": [
       "<Figure size 432x288 with 2 Axes>"
      ]
     },
     "metadata": {
      "needs_background": "light"
     },
     "output_type": "display_data"
    }
   ],
   "source": [
    "# FIRST : initaite CountVectorizer\n",
    "ctv = CountVectorizer(analyzer='word',token_pattern=r'\\w{1,}',\n",
    "            ngram_range=(1, 3), stop_words = 'english')\n",
    "\n",
    "# SECOND : Fitting Count Vectorizer to both training and validation sets\n",
    "ctv.fit(list(xtrain) + list(xvalid))\n",
    "xtrain_ctv =  ctv.transform(xtrain) \n",
    "xvalid_ctv = ctv.transform(xvalid)\n",
    "\n",
    "#THIRD : Fitting a simple Logistic Regression on Counts\n",
    "clf_lr2 = LogisticRegression(C=1.0 , max_iter = 200)\n",
    "clf_lr2.fit(xtrain_ctv, ytrain)\n",
    "\n",
    "# FIFTH : evaluate model performance \n",
    "print('Accuracy Score;',clf_lr2.score(xvalid_ctv,yvalid))\n",
    "confusion_matrix(yvalid, clf_lr2.predict(xvalid_ctv))\n",
    "plot_confusion_matrix(clf_lr2, xvalid_ctv, yvalid) \n",
    "print(classification_report(yvalid, clf_lr2.predict(xvalid_ctv)))"
   ]
  },
  {
   "cell_type": "markdown",
   "id": "0b7d1425",
   "metadata": {},
   "source": [
    "##### 3.1.4 SVMs using the TF-IDF using Singular Value Decomposition ( to incraese performance)"
   ]
  },
  {
   "cell_type": "code",
   "execution_count": 12,
   "id": "bd9291b5",
   "metadata": {},
   "outputs": [
    {
     "name": "stdout",
     "output_type": "stream",
     "text": [
      "Accuracy Score; 0.8689333333333333\n",
      "              precision    recall  f1-score   support\n",
      "\n",
      "           0       0.85      0.89      0.87      3750\n",
      "           1       0.88      0.85      0.87      3750\n",
      "\n",
      "    accuracy                           0.87      7500\n",
      "   macro avg       0.87      0.87      0.87      7500\n",
      "weighted avg       0.87      0.87      0.87      7500\n",
      "\n"
     ]
    },
    {
     "data": {
      "image/png": "[encoded data removed]",
      "text/plain": [
       "<Figure size 432x288 with 2 Axes>"
      ]
     },
     "metadata": {
      "needs_background": "light"
     },
     "output_type": "display_data"
    }
   ],
   "source": [
    "# FIRST : Apply SVD, I chose 150 components. we reduse to enhance performance. \n",
    "svd = decomposition.TruncatedSVD(n_components=150)\n",
    "svd.fit(xtrain_tfv)\n",
    "xtrain_svd = svd.transform(xtrain_tfv)\n",
    "xvalid_svd = svd.transform(xvalid_tfv)\n",
    "\n",
    "# SECOND : Scale the data obtained from SVD. Renaming variable to reuse without scaling.\n",
    "scl = preprocessing.StandardScaler()\n",
    "scl.fit(xtrain_svd)\n",
    "xtrain_svd_scl = scl.transform(xtrain_svd)\n",
    "xvalid_svd_scl = scl.transform(xvalid_svd)\n",
    "\n",
    "# THIRD : Fitting a simple SVM\n",
    "clf_svd = SVC(C=1.0, probability=True) \n",
    "clf_svd.fit(xtrain_svd_scl, ytrain)\n",
    "\n",
    "## FOURTH: evaluate model performance \n",
    "print('Accuracy Score;',clf_svd.score(xvalid_svd_scl,yvalid))\n",
    "confusion_matrix(yvalid, clf_svd.predict(xvalid_svd_scl))\n",
    "plot_confusion_matrix(clf_svd, xvalid_svd_scl, yvalid) \n",
    "print(classification_report(yvalid, clf_svd.predict(xvalid_svd_scl)))"
   ]
  },
  {
   "cell_type": "markdown",
   "id": "7280353e",
   "metadata": {},
   "source": [
    "# 4.Evaluate your model extracting precision, recall and f1 "
   ]
  },
  {
   "cell_type": "markdown",
   "id": "d77ce9bd",
   "metadata": {},
   "source": [
    "all the model have been evaluated in the previous step."
   ]
  },
  {
   "cell_type": "markdown",
   "id": "5bec560c",
   "metadata": {},
   "source": [
    "# 5.how the prediction of your model for one review"
   ]
  },
  {
   "cell_type": "code",
   "execution_count": 13,
   "id": "46433f3c",
   "metadata": {},
   "outputs": [
    {
     "name": "stdout",
     "output_type": "stream",
     "text": [
      "vonnegut s words are best experienced on paper the tales he weaves are gossemar silken strands of words and expressions that are not easily translated into a world of marilyn manson or jerry bruckheimer explosions his words have been treated well once before in the remarkable slaughterhouse br br mother night is probably one of the three novels vonnegut has written i could take to a desert island along with slaughterhouse and bluebeard br br the film version deserves a but the books are so permanently part of my interior landscape that i just can t do it some of the scenes left out of the film are part of my memory \n",
      "1\n"
     ]
    }
   ],
   "source": [
    "index = 4348\n",
    "print(xvalid[index])\n",
    "print(yvalid[index])"
   ]
  },
  {
   "cell_type": "code",
   "execution_count": 14,
   "id": "63b8dfa6",
   "metadata": {},
   "outputs": [
    {
     "name": "stdout",
     "output_type": "stream",
     "text": [
      "['1']\n"
     ]
    }
   ],
   "source": [
    "print(clf_lr.predict(xvalid_tfv[index])) # prediction according to linear regression TF-IDF "
   ]
  },
  {
   "cell_type": "code",
   "execution_count": 15,
   "id": "a710cca9",
   "metadata": {},
   "outputs": [
    {
     "name": "stdout",
     "output_type": "stream",
     "text": [
      "['1']\n"
     ]
    }
   ],
   "source": [
    "print(clf_lr2.predict(xvalid_ctv[index]))  # prediction according to linear regression CountVectorizer "
   ]
  },
  {
   "cell_type": "code",
   "execution_count": 16,
   "id": "1fbfa128",
   "metadata": {},
   "outputs": [
    {
     "name": "stdout",
     "output_type": "stream",
     "text": [
      "['0']\n"
     ]
    }
   ],
   "source": [
    "print(clf_svd.predict(xvalid_svd_scl[index].reshape(1, -1)))  # prediction according to SVM "
   ]
  },
  {
   "cell_type": "markdown",
   "id": "957d8048",
   "metadata": {},
   "source": [
    "# 6. Can you extract general topics from this corpus of texts? (Optional)\n",
    "#### Latend Dirichlet Allocation"
   ]
  },
  {
   "cell_type": "code",
   "execution_count": 17,
   "id": "feaa1291",
   "metadata": {},
   "outputs": [
    {
     "name": "stderr",
     "output_type": "stream",
     "text": [
      "100%|██████████| 25000/25000 [09:11<00:00, 45.31it/s]\n"
     ]
    }
   ],
   "source": [
    "from sklearn.decomposition import LatentDirichletAllocation\n",
    "# !python -m spacy download en_core_web_sm\n",
    "nlp = spacy.load('en_core_web_sm')  # load spacy model\n",
    "\n",
    "\n",
    "# define function to tokenize\n",
    "def spacy_tokenizer(sentence):\n",
    "    return [word.lemma_ for word in nlp(sentence) if not (word.like_num or word.is_stop or word.is_punct or word.is_space or len(word)==1)]\n",
    "\n",
    "\n",
    "# toknize the words and remove stop words \n",
    "vectorizer = CountVectorizer(tokenizer = spacy_tokenizer, min_df=2)\n",
    "data_vectorized = vectorizer.fit_transform(tqdm(reviews_df.review))"
   ]
  },
  {
   "cell_type": "code",
   "execution_count": 18,
   "id": "86bb09a3",
   "metadata": {},
   "outputs": [
    {
     "data": {
      "text/plain": [
       "<AxesSubplot:ylabel='word'>"
      ]
     },
     "execution_count": 18,
     "metadata": {},
     "output_type": "execute_result"
    },
    {
     "data": {
      "image/png": "[encoded data removed]",
      "text/plain": [
       "<Figure size 432x288 with 1 Axes>"
      ]
     },
     "metadata": {
      "needs_background": "light"
     },
     "output_type": "display_data"
    }
   ],
   "source": [
    "# most frequent words\n",
    "word_count = pd.DataFrame({'word': vectorizer.get_feature_names(), 'count': np.asarray(data_vectorized.sum(axis=0))[0]})\n",
    "word_count.sort_values('count', ascending=False).set_index('word')[:20].sort_values('count', ascending=True).plot(kind='barh')"
   ]
  },
  {
   "cell_type": "code",
   "execution_count": 19,
   "id": "c8c2fca8",
   "metadata": {},
   "outputs": [
    {
     "data": {
      "text/plain": [
       "LatentDirichletAllocation(n_components=50, random_state=0)"
      ]
     },
     "execution_count": 19,
     "metadata": {},
     "output_type": "execute_result"
    }
   ],
   "source": [
    "# initaite Latent Dirichlet Allocation\n",
    "lda = LatentDirichletAllocation(n_components=50, random_state=0)\n",
    "# fit LDA to the data\n",
    "lda.fit(data_vectorized)"
   ]
  },
  {
   "cell_type": "code",
   "execution_count": 20,
   "id": "b42211cd",
   "metadata": {},
   "outputs": [
    {
     "name": "stdout",
     "output_type": "stream",
     "text": [
      "\n",
      "Topic #0: br good film like time go play great know work man think love story little find end people movie scene want life year come get\n",
      "\n",
      "Topic #1: film hardy stan silent laurel star davy lou br comedy grace studio ollie buster marion slapstick role chaplin taylor mary scene shepherd warner mgm gag\n",
      "\n",
      "Topic #2: movie action good game film fight great story scene character like original time play art fan martial see watch fu well kung sequence plot lot\n",
      "\n",
      "Topic #3: br film play man character story action like time scene good seagal way know star find peter set get bakshi david cagney fall lead role\n",
      "\n",
      "Topic #4: ben br film gay canadian parker park arthur metal brosnan sport south stone zizek kubrick baseball grey canada brother pierce chaplin barrymore owl day example\n",
      "\n",
      "Topic #5: br life film love movie like people man way feel character woman new real come good think find watch live time story want girl work\n",
      "\n",
      "Topic #6: man western stewart br play film town good james get character story kill rob roy time john hero gun take woman look come role jimmy\n",
      "\n",
      "Topic #7: film jack play good br role great scene oscar dance time fred performance prince matthau astaire work actor flynn scott george simon movie felix get\n",
      "\n",
      "Topic #8: br film story tarzan movie werewolf wife jane dentist kill man like go killer good see scene people time play come try crocodile make know\n",
      "\n",
      "Topic #9: movie funny comedy laugh great good joke humor like hilarious br love time fun enjoy scene see watch eddie think actor moment cast funniest lot\n",
      "\n",
      "Topic #10: br book version novel read film story character good time adaptation jane see play love find watch year like look series work scene well know\n",
      "\n",
      "Topic #11: film br people character like time see documentary point life scene way director find think work feel make know story watch take want interesting come\n",
      "\n",
      "Topic #12: br film lugosi young man horror stanwyck story good anna barbara karloff play dr woman great house find wife old work star get ray bela\n",
      "\n",
      "Topic #13: br movie like go people scene know bad character thing guy kill end get don try come time think point way man happen woman start\n",
      "\n",
      "Topic #14: movie film love story see br great watch good time performance life character beautiful wonderful think like feel year actor people enjoy real find play\n",
      "\n",
      "Topic #15: murder black killer crime film police white br brad pitt detective serial early cop case criminal movie scene family perry blake mystery officer man play\n",
      "\n",
      "Topic #16: film br time scene man like work release director good find take cinema year way set new early camera later make use great come cut\n",
      "\n",
      "Topic #17: br film edie song character girl spike think life like cell flavia woman book young convent world man end live leave new big old little\n",
      "\n",
      "Topic #18: br film musical good great song movie star story number dance time play role cinderella cast performance stage like sing work music love luke oscar\n",
      "\n",
      "Topic #19: br tony shakespeare good branagh like hamlet pacino play character series season story al television great sarah soprano show think see carla love work gundam\n",
      "\n",
      "Topic #20: film br play character good performance john role bruce actor story like man movie work lee sandler look adam see great caine think time director\n",
      "\n",
      "Topic #21: king hitler nazi german people br germany stephen war story good evil like life family victor american pet film movie character norman ariel find louis\n",
      "\n",
      "Topic #22: br steve character old family nancy like scooby draw movie doo go christmas blob joe year grinch big play way new martin get role young\n",
      "\n",
      "Topic #23: character plot story movie film end script interesting little like good way go bad dialogue slow action minute lack long feel time work half care\n",
      "\n",
      "Topic #24: batman like br film character star look series good original new robin animate fan falk joker streisand comic_strip episode villain great west come cast voice\n",
      "\n",
      "Topic #25: vampire freddy welle nightmare van film modesty lady like dracula movie eva street orson series elm plot secret damme good dream house agent shanghai michael\n",
      "\n",
      "Topic #26: film br good noir richard role play performance thriller actor cage davis character man harry like widmark cast street howard time eastwood find work get\n",
      "\n",
      "Topic #27: church god christian jesus people religion religious chris christ movie priest believe life love year time world like show way say see christianity burton think\n",
      "\n",
      "Topic #28: film family life br house man like find love daughter old tom go little year way time get good thing comedy dan young wife end\n",
      "\n",
      "Topic #29: br story good superman kelly time year like match old show get try girl take life play team tell tv win man guy love come\n",
      "\n",
      "Topic #30: br film father son woman man story life family husband play good like mother time wife young character movie way scene love old de take\n",
      "\n",
      "Topic #31: episode series season tv watch character good great show br fi sci like time actor get television star love fan new dvd go trek air\n",
      "\n",
      "Topic #32: movie film like war time world look thing see find effect monster watch br come know human man alien think good space kid earth year\n",
      "\n",
      "Topic #33: film br story character like time good life director watch work plot movie performance see lincoln great actor viewer find scene end interesting feel way\n",
      "\n",
      "Topic #34: movie br bad like watch good film think see time don look thing know get go ve people well want actor character plot acting didn\n",
      "\n",
      "Topic #35: david good play film robert taylor hudson role stack sirk performance bacall kyle stone marie malone scene friend sharon buffalo anne wind love susan oscar\n",
      "\n",
      "Topic #36: keaton girl br woman come world soccer streisand iran san francisco football movie omen match song sandra year holme young cup try barbra film iranian\n",
      "\n",
      "Topic #37: br film character time like work scene play director story world good american look come give performance war point year feel make audience life go\n",
      "\n",
      "Topic #38: film charlie anime gandhi good marie kapoor spock kirk time father french movie story come anil like khan go mccoy madonna see dog love play\n",
      "\n",
      "Topic #39: film br movie good year michael time great like andy child know music old love song watch play little young character see muppet jackson video\n",
      "\n",
      "Topic #40: jackie good character chan like play russell br great soap duke cast ryan actor sally watch eric jessica role simpson field opera movie scene kurt\n",
      "\n",
      "Topic #41: film movie like great people way art good time make br well life look music show director story work character watch piece spielberg ted cinema\n",
      "\n",
      "Topic #42: band rock music like film drug good song roll time melt bat movie br people hip look play concert high hop record documentary album scene\n",
      "\n",
      "Topic #43: br movie columbo time like film soldier story surf character people black day rambo action good stallone world history know think wave sport fight take\n",
      "\n",
      "Topic #44: br like good character play time kate mary movie love emma titanic school look dick mr family work tracy old comedy think black young jack\n",
      "\n",
      "Topic #45: sam stooge larry homeless bush pokemon george alan short curly randy like uncle clooney arkin moe br try ash film joe love pimlico shemp go\n",
      "\n",
      "Topic #46: br movie story bug good like character play ant life swedish power see little get love ve puerto film action watch parson cassidy ghost danish\n",
      "\n",
      "Topic #47: br zombie film kid cartoon like disney watch good movie think child animation see santa year old little great christmas original look time don bad\n",
      "\n",
      "Topic #48: film horror good scene gore like br look killer pretty kill house scary blood girl slasher plot budget flick director bad woman night time little\n",
      "\n",
      "Topic #49: movie people life film victoria young play queen friend albert br world new good doc love time know great year like character way show live\n",
      "\n"
     ]
    }
   ],
   "source": [
    "# print top topics \n",
    "\n",
    "def print_top_words(model, vectorizer, n_top_words):\n",
    "    feature_names = vectorizer.get_feature_names()\n",
    "    for topic_idx, topic in enumerate(model.components_):\n",
    "        message = \"\\nTopic #%d: \" % topic_idx\n",
    "        message += \" \".join([feature_names[i]\n",
    "                             for i in topic.argsort()[:-n_top_words - 1:-1]])\n",
    "        print(message)\n",
    "    print()\n",
    "print_top_words(lda, vectorizer, n_top_words=25)"
   ]
  },
  {
   "cell_type": "markdown",
   "id": "f0d4af87",
   "metadata": {},
   "source": [
    "# 7. Answer the following questions:"
   ]
  },
  {
   "cell_type": "markdown",
   "id": "ef84b911",
   "metadata": {},
   "source": [
    "#### 7.1 Have you observed any limitations in this dataset? "
   ]
  },
  {
   "cell_type": "code",
   "execution_count": 21,
   "id": "476b00b7",
   "metadata": {},
   "outputs": [],
   "source": [
    "# this database is very well balanced. "
   ]
  },
  {
   "cell_type": "markdown",
   "id": "a8a5c724",
   "metadata": {},
   "source": [
    "#### 7.2 What other techniques or methods that you haven’t used could you apply in any of the stages of the NLP pipeline to improve the performance of the model?  "
   ]
  },
  {
   "cell_type": "code",
   "execution_count": 22,
   "id": "8e4dbbe5",
   "metadata": {},
   "outputs": [],
   "source": [
    "# we can use deep learning to learn the needed features from the text. "
   ]
  },
  {
   "cell_type": "markdown",
   "id": "9255a61b",
   "metadata": {},
   "source": [
    "#### 7.3 In case you haven’t answered question 6, what technique could you use if you wanted to extract topics from the corpus of texts?  "
   ]
  },
  {
   "cell_type": "code",
   "execution_count": 23,
   "id": "f4e09d5a",
   "metadata": {},
   "outputs": [],
   "source": [
    "# question 6 was answered "
   ]
  },
  {
   "cell_type": "code",
   "execution_count": null,
   "id": "30306ffe",
   "metadata": {},
   "outputs": [],
   "source": []
  },
  {
   "cell_type": "markdown",
   "id": "f9500af6",
   "metadata": {},
   "source": [
    "Sources \n",
    "https://www.kaggle.com/abhishek/approaching-almost-any-nlp-problem-on-kaggle\n",
    "https://www.kaggle.com/danielwolffram/topic-modeling-finding-related-articles"
   ]
  }
 ],
 "metadata": {
  "kernelspec": {
   "display_name": "Python 3",
   "language": "python",
   "name": "python3"
  },
  "language_info": {
   "codemirror_mode": {
    "name": "ipython",
    "version": 3
   },
   "file_extension": ".py",
   "mimetype": "text/x-python",
   "name": "python",
   "nbconvert_exporter": "python",
   "pygments_lexer": "ipython3",
   "version": "3.8.5"
  },
  "toc": {
   "base_numbering": 1,
   "nav_menu": {},
   "number_sections": true,
   "sideBar": true,
   "skip_h1_title": false,
   "title_cell": "Table of Contents",
   "title_sidebar": "Contents",
   "toc_cell": false,
   "toc_position": {},
   "toc_section_display": true,
   "toc_window_display": true
  }
 },
 "nbformat": 4,
 "nbformat_minor": 5
}
