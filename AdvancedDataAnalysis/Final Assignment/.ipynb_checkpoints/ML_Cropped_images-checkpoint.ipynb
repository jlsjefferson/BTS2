{
 "cells": [
  {
   "cell_type": "code",
   "execution_count": 1,
   "id": "irish-economics",
   "metadata": {},
   "outputs": [],
   "source": [
    "import os\n",
    "import urllib.request\n",
    "import cv2\n",
    "import pandas as pd\n",
    "import numpy as np\n",
    "from tqdm import tqdm\n",
    "import seaborn as sns\n",
    "from sklearn.metrics import confusion_matrix  , classification_report ,accuracy_score\n",
    "import matplotlib.pyplot as plt\n",
    "import pandas as pd \n",
    "from sklearn import metrics\n",
    "\n",
    "from sklearn.metrics import roc_curve , roc_auc_score\n",
    "from sklearn.metrics import auc"
   ]
  },
  {
   "cell_type": "markdown",
   "id": "rough-usage",
   "metadata": {},
   "source": [
    "Until now we have: \n",
    "   - 208 Cataracts. 175 from previous set and 33 from latest set \n",
    "   - 322 Healthy. 200 from previous set and 122 from latest set"
   ]
  },
  {
   "cell_type": "code",
   "execution_count": null,
   "id": "6e0f27a0",
   "metadata": {},
   "outputs": [],
   "source": [
    "!pwd\n",
    "!ls"
   ]
  },
  {
   "cell_type": "code",
   "execution_count": 2,
   "id": "equipped-physiology",
   "metadata": {},
   "outputs": [],
   "source": [
    "path = '/home/jovyan/work/Datasets/UNHAS'\n",
    "\n",
    "# path = 'Datasets\\\\UNHAS'\n",
    "filename='UnhasImagesCataractsCropped.csv'\n",
    "filename2='UnhasImagesHealthyCropped.csv'\n",
    "csv_path=os.path.join(path,filename)\n",
    "csv_path2=os.path.join(path,filename2)\n",
    "df_cataracts = pd.read_csv(csv_path)\n",
    "df_healthy = pd.read_csv(csv_path2)"
   ]
  },
  {
   "cell_type": "code",
   "execution_count": null,
   "id": "southern-combine",
   "metadata": {},
   "outputs": [],
   "source": [
    "print(df_cataracts.head())\n",
    "print(df_healthy.head())"
   ]
  },
  {
   "cell_type": "code",
   "execution_count": 3,
   "id": "comprehensive-consequence",
   "metadata": {},
   "outputs": [
    {
     "name": "stderr",
     "output_type": "stream",
     "text": [
      "100%|██████████| 207/207 [00:01<00:00, 177.17it/s]\n"
     ]
    }
   ],
   "source": [
    "#Reading cataract images\n",
    "cat_images = []\n",
    "noread = []\n",
    "path_cat_images=os.path.join(path,'UnhasImagesCataractsCropped')\n",
    "file_names = df_cataracts.filename\n",
    "row=100\n",
    "col=100\n",
    "\n",
    "for image_name in tqdm(file_names):\n",
    "    try:\n",
    "        image = cv2.imread(os.path.join(path_cat_images,image_name))\n",
    "        image = cv2.resize(image,(row,col))\n",
    "        cat_images.append(image)\n",
    "    except:\n",
    "        noread.append(image_name)\n",
    "        continue\n",
    "\n",
    "cat_images = np.array(cat_images)\n",
    "noread = np.array(noread)"
   ]
  },
  {
   "cell_type": "code",
   "execution_count": 4,
   "id": "fresh-montreal",
   "metadata": {},
   "outputs": [
    {
     "data": {
      "text/plain": [
       "(205, 100, 100, 3)"
      ]
     },
     "execution_count": 4,
     "metadata": {},
     "output_type": "execute_result"
    }
   ],
   "source": [
    "cat_images.shape"
   ]
  },
  {
   "cell_type": "code",
   "execution_count": 5,
   "id": "further-devil",
   "metadata": {},
   "outputs": [
    {
     "name": "stderr",
     "output_type": "stream",
     "text": [
      "100%|██████████| 322/322 [00:03<00:00, 106.88it/s]\n"
     ]
    }
   ],
   "source": [
    "#Reading healthy images\n",
    "healthy_images = []\n",
    "noread = []\n",
    "path_cat_images=os.path.join(path,'UnhasImagesHealthyCropped')\n",
    "file_names = df_healthy.filename\n",
    "\n",
    "for image_name in tqdm(file_names):\n",
    "    try:\n",
    "        image = cv2.imread(os.path.join(path_cat_images,image_name))\n",
    "        image = cv2.resize(image,(row,col))\n",
    "        healthy_images.append(image)\n",
    "    except:\n",
    "        noread.append(image_name)\n",
    "        continue\n",
    "        \n",
    "healthy_images = np.array(healthy_images)\n",
    "noread = np.array(noread)"
   ]
  },
  {
   "cell_type": "code",
   "execution_count": 6,
   "id": "golden-jacket",
   "metadata": {
    "scrolled": true
   },
   "outputs": [
    {
     "data": {
      "text/plain": [
       "(322, 100, 100, 3)"
      ]
     },
     "execution_count": 6,
     "metadata": {},
     "output_type": "execute_result"
    }
   ],
   "source": [
    "healthy_images.shape"
   ]
  },
  {
   "cell_type": "markdown",
   "id": "centered-county",
   "metadata": {},
   "source": [
    "# Prepare Data for Machine Learning\n"
   ]
  },
  {
   "cell_type": "code",
   "execution_count": null,
   "id": "sitting-bride",
   "metadata": {},
   "outputs": [],
   "source": [
    "cat_images.shape"
   ]
  },
  {
   "cell_type": "code",
   "execution_count": 7,
   "id": "equipped-father",
   "metadata": {},
   "outputs": [],
   "source": [
    "import matplotlib.pyplot as plt\n",
    "import pandas as pd \n",
    "\n",
    "\n",
    "images = []\n",
    "labels = []\n",
    "\n",
    "for i , d in enumerate(cat_images):\n",
    "    images.append(d)\n",
    "    labels.append(1)\n",
    "for i , d in enumerate(healthy_images):\n",
    "    images.append(d)\n",
    "    labels.append(0)  \n",
    "    \n",
    "Images = np.array(images)\n",
    "Labels = np.array(labels)"
   ]
  },
  {
   "cell_type": "code",
   "execution_count": null,
   "id": "civic-absence",
   "metadata": {},
   "outputs": [],
   "source": [
    "import random \n",
    "for i in range(3):\n",
    "    n = random.randint(0, len(labels))\n",
    "    plt.imshow(images[n])\n",
    "    print(labels[n])\n",
    "    plt.show()\n",
    "    "
   ]
  },
  {
   "cell_type": "code",
   "execution_count": 8,
   "id": "suited-waters",
   "metadata": {},
   "outputs": [
    {
     "data": {
      "text/plain": [
       "0    213\n",
       "1    140\n",
       "dtype: int64"
      ]
     },
     "execution_count": 8,
     "metadata": {},
     "output_type": "execute_result"
    }
   ],
   "source": [
    "from sklearn.model_selection import train_test_split\n",
    "\n",
    "unbalanced_X_train, unbalanced_X_test, unbalanced_y_train, unbalanced_y_test = train_test_split(Images, Labels, test_size=0.33, shuffle = True, random_state = 1)\n",
    "\n",
    "pd.DataFrame(unbalanced_y_train).value_counts()"
   ]
  },
  {
   "cell_type": "code",
   "execution_count": 9,
   "id": "employed-maximum",
   "metadata": {},
   "outputs": [
    {
     "data": {
      "text/plain": [
       "0    109\n",
       "1     65\n",
       "dtype: int64"
      ]
     },
     "execution_count": 9,
     "metadata": {},
     "output_type": "execute_result"
    }
   ],
   "source": [
    "pd.DataFrame(unbalanced_y_test).value_counts()"
   ]
  },
  {
   "cell_type": "markdown",
   "id": "ac1006ed",
   "metadata": {},
   "source": [
    "# Oversampling"
   ]
  },
  {
   "cell_type": "markdown",
   "id": "6ba24176",
   "metadata": {
    "heading_collapsed": true
   },
   "source": [
    "## Data Augmentation"
   ]
  },
  {
   "cell_type": "code",
   "execution_count": 11,
   "id": "3ee8190e",
   "metadata": {
    "hidden": true
   },
   "outputs": [],
   "source": [
    "from keras.preprocessing.image import ImageDataGenerator,img_to_array"
   ]
  },
  {
   "cell_type": "markdown",
   "id": "5c6b8775",
   "metadata": {
    "heading_collapsed": true,
    "hidden": true
   },
   "source": [
    "### Top quality images"
   ]
  },
  {
   "cell_type": "code",
   "execution_count": null,
   "id": "76dfa92e",
   "metadata": {
    "hidden": true
   },
   "outputs": [],
   "source": [
    "from PIL import Image\n",
    "from PIL import ImageFilter\n",
    "#Take the first 23 images with highest quality\n",
    "filelist = df_cataracts.sort_values(by=['filesize(KB)'], ascending=False)['filename'][:8].tolist()"
   ]
  },
  {
   "cell_type": "code",
   "execution_count": null,
   "id": "503c0899",
   "metadata": {
    "hidden": true
   },
   "outputs": [],
   "source": [
    "#filelist\n",
    "for imagefile in filelist:\n",
    "    print(imagefile)"
   ]
  },
  {
   "cell_type": "code",
   "execution_count": null,
   "id": "7fab07d3",
   "metadata": {
    "hidden": true
   },
   "outputs": [],
   "source": [
    "path = '/home/jovyan/work/Datasets/UNHAS/UnhasImagesCataractsCropped'\n",
    "filepath=os.path.join(path,filelist[2])\n",
    "#filepath\n",
    "im=Image.open(filepath)"
   ]
  },
  {
   "cell_type": "code",
   "execution_count": null,
   "id": "dab7ed02",
   "metadata": {
    "hidden": true
   },
   "outputs": [],
   "source": [
    "im"
   ]
  },
  {
   "cell_type": "code",
   "execution_count": null,
   "id": "eaa9e287",
   "metadata": {
    "hidden": true
   },
   "outputs": [],
   "source": [
    "R, G, B = im.split()\n",
    "new_image = Image.merge(\"RGB\", (B, G, R))\n",
    "new_image"
   ]
  },
  {
   "cell_type": "code",
   "execution_count": null,
   "id": "788ad33b",
   "metadata": {
    "hidden": true
   },
   "outputs": [],
   "source": [
    "r, g, b = im.split()\n",
    "im_blur=new_image.filter(ImageFilter.GaussianBlur)\n",
    "im_unsharp=new_image.filter(ImageFilter.UnsharpMask)"
   ]
  },
  {
   "cell_type": "code",
   "execution_count": null,
   "id": "c9d848a9",
   "metadata": {
    "hidden": true
   },
   "outputs": [],
   "source": [
    "im_unsharp"
   ]
  },
  {
   "cell_type": "code",
   "execution_count": null,
   "id": "2915e880",
   "metadata": {
    "hidden": true
   },
   "outputs": [],
   "source": [
    "im_blur"
   ]
  },
  {
   "cell_type": "code",
   "execution_count": null,
   "id": "c8182c76",
   "metadata": {
    "hidden": true
   },
   "outputs": [],
   "source": []
  },
  {
   "cell_type": "markdown",
   "id": "1ad6baf5",
   "metadata": {
    "hidden": true
   },
   "source": [
    "width_shift_range=[-200,200]\n",
    "\n",
    "height_shift_range=0.5\n",
    "\n",
    "horizontal_flip=True, vertical_flip=False\n",
    "\n",
    "rotation_range=90\n",
    "\n",
    "brightness_range=[0.2,1.0]\n",
    "\n",
    "zoom_range=[0.5,1.0]"
   ]
  },
  {
   "cell_type": "code",
   "execution_count": null,
   "id": "3e3e02f1",
   "metadata": {
    "hidden": true
   },
   "outputs": [],
   "source": [
    "datagen = ImageDataGenerator(\n",
    "    zoom_range=0.2,\n",
    "    horizontal_flip=True,\n",
    "    vertical_flip=False,\n",
    "    width_shift_range=0.2,\n",
    "    height_shift_range=0.2)"
   ]
  },
  {
   "cell_type": "code",
   "execution_count": null,
   "id": "8869cc7c",
   "metadata": {
    "hidden": true
   },
   "outputs": [],
   "source": [
    "#filelist\n",
    "images=[]\n",
    "for imagefile in filelist:\n",
    "    print(imagefile)\n",
    "    path = '/home/jovyan/work/Datasets/UNHAS/UnhasImagesCataractsCropped'\n",
    "    filepath=os.path.join(path,imagefile)\n",
    "    img = cv2.imread(filepath)\n",
    "    img = cv2.resize(img[..., ::-1],(100,100))\n",
    "    images.append(img)\n",
    "    \n",
    "images = np.array(images)\n",
    "    "
   ]
  },
  {
   "cell_type": "code",
   "execution_count": null,
   "id": "ed96dfdb",
   "metadata": {
    "hidden": true
   },
   "outputs": [],
   "source": [
    "images.shape"
   ]
  },
  {
   "cell_type": "code",
   "execution_count": null,
   "id": "67da2954",
   "metadata": {
    "hidden": true
   },
   "outputs": [],
   "source": [
    "x = img_to_array(im)\n",
    "x = x.reshape((1,) + x.shape)\n",
    "x.shape"
   ]
  },
  {
   "cell_type": "code",
   "execution_count": null,
   "id": "f2997dff",
   "metadata": {
    "hidden": true
   },
   "outputs": [],
   "source": [
    "#it = datagen.flow(x, batch_size=1)\n",
    "it = datagen.flow(images, batch_size=1)"
   ]
  },
  {
   "cell_type": "code",
   "execution_count": null,
   "id": "a35f7764",
   "metadata": {
    "hidden": true
   },
   "outputs": [],
   "source": [
    "print(it.batch_index)\n",
    "it.total_batches_seen\n",
    "#it.batch_size"
   ]
  },
  {
   "cell_type": "code",
   "execution_count": null,
   "id": "6f30d487",
   "metadata": {
    "hidden": true
   },
   "outputs": [],
   "source": [
    "it.total_batches_seen\n",
    "newimg = it.next()\n",
    "plt.imshow(newimg[0].astype('uint8'))\n",
    "#The empty areas are filled by default with nearest pixel values. "
   ]
  },
  {
   "cell_type": "code",
   "execution_count": null,
   "id": "27e7dcce",
   "metadata": {
    "hidden": true
   },
   "outputs": [],
   "source": [
    "it.x[0].shape\n",
    "plt.imshow(it.x[2].astype('uint8'))"
   ]
  },
  {
   "cell_type": "code",
   "execution_count": null,
   "id": "b0fca2bc",
   "metadata": {
    "hidden": true
   },
   "outputs": [],
   "source": [
    "it.next()\n",
    "it.batch_size\n",
    "it.x.shape"
   ]
  },
  {
   "cell_type": "code",
   "execution_count": null,
   "id": "930e0b32",
   "metadata": {
    "hidden": true
   },
   "outputs": [],
   "source": [
    "aug_images=[]\n",
    "for i in range(9):\n",
    "    # define subplot\n",
    "    plt.subplot(330 + 1 + i)\n",
    "    # generate batch of images\n",
    "    batch = it.next()\n",
    "    # convert to unsigned integers for viewing\n",
    "    image = batch[0].astype('uint8')\n",
    "    # plot raw pixel data\n",
    "    aug_images.append(image)\n",
    "    plt.imshow(image)"
   ]
  },
  {
   "cell_type": "markdown",
   "id": "d13c5df4",
   "metadata": {
    "heading_collapsed": true,
    "hidden": true
   },
   "source": [
    "### Random Separate Train/Test"
   ]
  },
  {
   "cell_type": "code",
   "execution_count": 12,
   "id": "9ad6e57a",
   "metadata": {
    "hidden": true
   },
   "outputs": [],
   "source": [
    "datagen = ImageDataGenerator(\n",
    "    zoom_range=0.2,\n",
    "    horizontal_flip=True,\n",
    "    vertical_flip=False,\n",
    "    width_shift_range=0.2,\n",
    "    height_shift_range=0.2)"
   ]
  },
  {
   "cell_type": "code",
   "execution_count": 13,
   "id": "93b08035",
   "metadata": {
    "hidden": true
   },
   "outputs": [
    {
     "name": "stdout",
     "output_type": "stream",
     "text": [
      "[128, 287, 280, 325, 279, 145, 219, 134]\n",
      "(72, 100, 100, 3)\n",
      "(72,)\n"
     ]
    }
   ],
   "source": [
    "#Applying oversampling to train data by iamge augmentation \n",
    "from random import sample\n",
    "temp = []\n",
    "for idx, label in enumerate(unbalanced_y_train):\n",
    "    #rint(label)\n",
    "    if label == 1:\n",
    "        temp.append(idx)\n",
    "        \n",
    "#print(temp)\n",
    "temp = sample(temp, 8)\n",
    "print(temp)\n",
    "\n",
    "aug_images=[]\n",
    "aug_labels=[]\n",
    "for idx in temp:\n",
    "    #print(unbalanced_X_train[idx].shape)\n",
    "    img = unbalanced_X_train[idx]\n",
    "    img = img.reshape((1,) + img.shape)\n",
    "    it = datagen.flow(img, batch_size=1)\n",
    "    \n",
    "    for i in range(9):\n",
    "        # generate batch of images\n",
    "        batch = it.next()\n",
    "        # convert to unsigned integers for viewing\n",
    "        image = batch[0].astype('uint8')\n",
    "        aug_images.append(image)\n",
    "    \n",
    "aug_images = np.array(aug_images)\n",
    "aug_labels = np.ones(aug_images.shape[0],dtype=int)\n",
    "print(aug_images.shape)\n",
    "print(aug_labels.shape)"
   ]
  },
  {
   "cell_type": "code",
   "execution_count": 14,
   "id": "2692fbb5",
   "metadata": {
    "hidden": true
   },
   "outputs": [
    {
     "data": {
      "text/plain": [
       "0    213\n",
       "1    212\n",
       "dtype: int64"
      ]
     },
     "execution_count": 14,
     "metadata": {},
     "output_type": "execute_result"
    }
   ],
   "source": [
    "X_train = np.concatenate((unbalanced_X_train,aug_images),axis=0)\n",
    "y_train = np.concatenate((unbalanced_y_train,aug_labels),axis=0)\n",
    "#np.ones(X_train.shape[0])\n",
    "pd.DataFrame(y_train).value_counts()"
   ]
  },
  {
   "cell_type": "code",
   "execution_count": 15,
   "id": "f5ad6b37",
   "metadata": {
    "hidden": true
   },
   "outputs": [
    {
     "name": "stdout",
     "output_type": "stream",
     "text": [
      "[165, 26, 140, 115, 90]\n",
      "(45, 100, 100, 3)\n",
      "(45,)\n"
     ]
    }
   ],
   "source": [
    "#Applying oversampling to test data by iamge augmentation \n",
    "from random import sample\n",
    "temp = []\n",
    "for idx, label in enumerate(unbalanced_y_test):\n",
    "    #rint(label)\n",
    "    if label == 1:\n",
    "        temp.append(idx)\n",
    "        \n",
    "#print(temp)\n",
    "temp = sample(temp, 5)\n",
    "print(temp)\n",
    "\n",
    "aug_images=[]\n",
    "aug_labels=[]\n",
    "for idx in temp:\n",
    "    #print(unbalanced_X_test[idx].shape)\n",
    "    img = unbalanced_X_test[idx]\n",
    "    img = img.reshape((1,) + img.shape)\n",
    "    it = datagen.flow(img, batch_size=1)\n",
    "    \n",
    "    for i in range(9):\n",
    "        # generate batch of images\n",
    "        batch = it.next()\n",
    "        # convert to unsigned integers for viewing\n",
    "        image = batch[0].astype('uint8')\n",
    "        aug_images.append(image)\n",
    "    \n",
    "aug_images = np.array(aug_images)\n",
    "aug_labels = np.ones(aug_images.shape[0],dtype=int)\n",
    "print(aug_images.shape)\n",
    "print(aug_labels.shape)"
   ]
  },
  {
   "cell_type": "code",
   "execution_count": 16,
   "id": "96acc85a",
   "metadata": {
    "hidden": true
   },
   "outputs": [
    {
     "data": {
      "text/plain": [
       "1    110\n",
       "0    109\n",
       "dtype: int64"
      ]
     },
     "execution_count": 16,
     "metadata": {},
     "output_type": "execute_result"
    }
   ],
   "source": [
    "X_test = np.concatenate((unbalanced_X_test,aug_images),axis=0)\n",
    "y_test = np.concatenate((unbalanced_y_test,aug_labels),axis=0)\n",
    "#np.ones(X_train.shape[0])\n",
    "pd.DataFrame(y_test).value_counts()"
   ]
  },
  {
   "cell_type": "markdown",
   "id": "6ed39d95",
   "metadata": {
    "heading_collapsed": true
   },
   "source": [
    "## SMOTE"
   ]
  },
  {
   "cell_type": "code",
   "execution_count": null,
   "id": "19769c28",
   "metadata": {
    "hidden": true
   },
   "outputs": [],
   "source": [
    "unbalanced_X_train.shape\n",
    "X = unbalanced_X_train.reshape(353, -1)"
   ]
  },
  {
   "cell_type": "code",
   "execution_count": null,
   "id": "334693f1",
   "metadata": {
    "hidden": true
   },
   "outputs": [],
   "source": [
    "from imblearn.over_sampling import SMOTE\n",
    "sm = SMOTE(random_state=42)\n",
    "X_smote, y_smote = sm.fit_resample(X, unbalanced_y_train)"
   ]
  },
  {
   "cell_type": "code",
   "execution_count": null,
   "id": "c4fd8d07",
   "metadata": {
    "hidden": true
   },
   "outputs": [],
   "source": [
    "X_train = X_smote.reshape(424, 100,100,3)\n",
    "y_train = y_smote"
   ]
  },
  {
   "cell_type": "code",
   "execution_count": null,
   "id": "531602cb",
   "metadata": {
    "hidden": true
   },
   "outputs": [],
   "source": [
    "print(X_train.shape)\n",
    "print(y_train.shape)"
   ]
  },
  {
   "cell_type": "code",
   "execution_count": null,
   "id": "8690ef1c",
   "metadata": {
    "hidden": true
   },
   "outputs": [],
   "source": [
    "pd.DataFrame(y_train).value_counts()"
   ]
  },
  {
   "cell_type": "code",
   "execution_count": null,
   "id": "8aa1bfb0",
   "metadata": {
    "hidden": true
   },
   "outputs": [],
   "source": [
    "#-------------From image 356, \n",
    "plt.imshow(X_smote[356])"
   ]
  },
  {
   "cell_type": "code",
   "execution_count": null,
   "id": "09666b93",
   "metadata": {
    "hidden": true
   },
   "outputs": [],
   "source": [
    "unbalanced_X_test.shape"
   ]
  },
  {
   "cell_type": "code",
   "execution_count": null,
   "id": "9a4b7b9a",
   "metadata": {
    "hidden": true
   },
   "outputs": [],
   "source": [
    "X = unbalanced_X_test.reshape(175, -1)\n",
    "X.shape"
   ]
  },
  {
   "cell_type": "code",
   "execution_count": null,
   "id": "1c8fa9b9",
   "metadata": {
    "hidden": true
   },
   "outputs": [],
   "source": [
    "X_test_smote, y_test_smote = sm.fit_resample(X, unbalanced_y_test)"
   ]
  },
  {
   "cell_type": "code",
   "execution_count": null,
   "id": "112950bd",
   "metadata": {
    "hidden": true
   },
   "outputs": [],
   "source": [
    "X_test = X_test_smote.reshape(220, 100,100,3)\n",
    "y_test = y_test_smote\n",
    "print(X_test.shape)\n",
    "print(y_test.shape)"
   ]
  },
  {
   "cell_type": "code",
   "execution_count": null,
   "id": "5af70909",
   "metadata": {
    "hidden": true
   },
   "outputs": [],
   "source": [
    "pd.DataFrame(y_test).value_counts()"
   ]
  },
  {
   "cell_type": "markdown",
   "id": "fd892184",
   "metadata": {
    "hidden": true
   },
   "source": [
    "-------------------------------------------"
   ]
  },
  {
   "cell_type": "markdown",
   "id": "ac9ee51a",
   "metadata": {
    "heading_collapsed": true
   },
   "source": [
    "## Random Sampling"
   ]
  },
  {
   "cell_type": "markdown",
   "id": "ad1f080c",
   "metadata": {
    "hidden": true
   },
   "source": [
    "https://medium.com/airy-science/towards-advanced-accommodation-photos-classification-part-1-a64b542b31ed"
   ]
  },
  {
   "cell_type": "code",
   "execution_count": null,
   "id": "5cfbcc1a",
   "metadata": {
    "hidden": true
   },
   "outputs": [],
   "source": [
    "unbalanced_X_train"
   ]
  },
  {
   "cell_type": "code",
   "execution_count": null,
   "id": "a8eb0478",
   "metadata": {
    "hidden": true
   },
   "outputs": [],
   "source": [
    "X = unbalanced_X_train.reshape(353, -1)\n",
    "X.shape"
   ]
  },
  {
   "cell_type": "code",
   "execution_count": null,
   "id": "f47bf475",
   "metadata": {
    "hidden": true
   },
   "outputs": [],
   "source": [
    "from imblearn.over_sampling import RandomOverSampler \n",
    "ro_X_train, ro_ny_train = RandomOverSampler(\n",
    "  random_state=42\n",
    ").fit_resample(\n",
    "  X,\n",
    "  unbalanced_y_train\n",
    ")"
   ]
  },
  {
   "cell_type": "code",
   "execution_count": null,
   "id": "4355e76d",
   "metadata": {
    "hidden": true
   },
   "outputs": [],
   "source": [
    "ro_X_train.shape\n",
    "ro_ny_train.shape"
   ]
  },
  {
   "cell_type": "code",
   "execution_count": null,
   "id": "a2604a94",
   "metadata": {
    "hidden": true
   },
   "outputs": [],
   "source": [
    "X_train = ro_X_train.reshape(424, 100,100,3)\n",
    "y_train = ro_ny_train\n",
    "X_train.shape"
   ]
  },
  {
   "cell_type": "code",
   "execution_count": null,
   "id": "6e9c3ee7",
   "metadata": {
    "hidden": true
   },
   "outputs": [],
   "source": [
    "plt.imshow(X_train[400])"
   ]
  },
  {
   "cell_type": "code",
   "execution_count": null,
   "id": "e4ac995d",
   "metadata": {
    "hidden": true
   },
   "outputs": [],
   "source": [
    "X = unbalanced_X_test.reshape(175, -1)\n",
    "X.shape"
   ]
  },
  {
   "cell_type": "code",
   "execution_count": null,
   "id": "03a608d9",
   "metadata": {
    "hidden": true
   },
   "outputs": [],
   "source": [
    "ro_X_test, ro_ny_test = RandomOverSampler(\n",
    "  random_state=42\n",
    ").fit_resample(\n",
    "  X,\n",
    "  unbalanced_y_test\n",
    ")"
   ]
  },
  {
   "cell_type": "code",
   "execution_count": null,
   "id": "acafe7ec",
   "metadata": {
    "hidden": true
   },
   "outputs": [],
   "source": [
    "X_test = ro_X_test.reshape(220, 100,100,3)\n",
    "y_test = ro_ny_test\n",
    "X_test.shape"
   ]
  },
  {
   "cell_type": "markdown",
   "id": "d758d691",
   "metadata": {
    "heading_collapsed": true
   },
   "source": [
    "# Undersampling"
   ]
  },
  {
   "cell_type": "code",
   "execution_count": null,
   "id": "beautiful-compact",
   "metadata": {
    "hidden": true
   },
   "outputs": [],
   "source": [
    "from random import sample\n",
    "#prepare training data by sampling \n",
    "temp = []\n",
    "for idx, label in enumerate(unbalanced_y_train):\n",
    "    if label == 0:\n",
    "        temp.append(idx)\n",
    "\n",
    "temp = sample(temp, len([label for label in unbalanced_y_train if label == 1]))\n",
    "\n",
    "X_data = []\n",
    "y_data = []\n",
    "\n",
    "for idx in temp:\n",
    "    X_data.append(unbalanced_X_train[idx])\n",
    "    y_data.append(unbalanced_y_train[idx])\n",
    "\n",
    "temp = []\n",
    "for idx, label in enumerate(unbalanced_y_train):\n",
    "    if label == 1:\n",
    "        temp.append(idx)\n",
    "        \n",
    "for idx in temp:\n",
    "    X_data.append(unbalanced_X_train[idx])\n",
    "    y_data.append(unbalanced_y_train[idx])\n",
    "\n",
    "X_train = np.array(X_data)\n",
    "y_train = np.array(y_data)\n",
    "\n",
    "\n",
    "print(X_train.shape, y_train.shape)\n",
    "\n",
    "pd.DataFrame(y_train).value_counts()"
   ]
  },
  {
   "cell_type": "code",
   "execution_count": null,
   "id": "portable-pilot",
   "metadata": {
    "hidden": true
   },
   "outputs": [],
   "source": [
    "from random import sample\n",
    "temp = []\n",
    "for idx, label in enumerate(unbalanced_y_test):\n",
    "    if label == 0:\n",
    "        temp.append(idx)\n",
    "\n",
    "temp = sample(temp, len([label for label in unbalanced_y_test if label == 1]))\n",
    "\n",
    "X_data = []\n",
    "y_data = []\n",
    "\n",
    "for idx in temp:\n",
    "    X_data.append(unbalanced_X_test[idx])\n",
    "    y_data.append(unbalanced_y_test[idx])\n",
    "\n",
    "temp = []\n",
    "for idx, label in enumerate(unbalanced_y_test):\n",
    "    if label == 1:\n",
    "        temp.append(idx)\n",
    "        \n",
    "for idx in temp:\n",
    "    X_data.append(unbalanced_X_test[idx])\n",
    "    y_data.append(unbalanced_y_test[idx])\n",
    "\n",
    "X_test = np.array(X_data)\n",
    "y_test= np.array(y_data)\n",
    "\n",
    "\n",
    "print(X_test.shape, y_test.shape)\n",
    "\n",
    "pd.DataFrame(y_test).value_counts()"
   ]
  },
  {
   "cell_type": "markdown",
   "id": "7f36718b",
   "metadata": {},
   "source": [
    "# Training Model"
   ]
  },
  {
   "cell_type": "code",
   "execution_count": 17,
   "id": "tutorial-summer",
   "metadata": {},
   "outputs": [],
   "source": [
    "from tensorflow.keras import datasets, layers, models\n",
    "import matplotlib.pyplot as plt\n",
    "from tensorflow.keras.callbacks import EarlyStopping, ModelCheckpoint, ReduceLROnPlateau\n",
    "from tensorflow.keras.layers import Dense, Dropout, Activation, Flatten\n",
    "from tensorflow.keras.layers import Conv2D, MaxPooling2D, BatchNormalization\n",
    "from keras.models import load_model\n",
    "import tensorflow as tf\n",
    "\n",
    "\n",
    "save_dir = './saved_models'\n",
    "model_name = 'k.h5'\n",
    "if not os.path.isdir(save_dir):\n",
    "    os.makedirs(save_dir)\n",
    "model_path = os.path.join(save_dir, model_name)\n",
    "\n",
    "k_dc = 0.2\t# Dropout constant for convolutional layers\n",
    "k_dd = 0.2\t# Dropout constant for dense layers"
   ]
  },
  {
   "cell_type": "code",
   "execution_count": 18,
   "id": "unlikely-halifax",
   "metadata": {},
   "outputs": [],
   "source": [
    "def Creat_model():\n",
    "    model = models.Sequential()\n",
    "    \n",
    "    model.add(layers.Conv2D(32, (3, 3), activation='relu', input_shape=(row, col, 3)))\n",
    "    model.add(BatchNormalization())\n",
    "    model.add(Dropout(k_dc))\n",
    "    model.add(layers.MaxPooling2D((2, 2)))\n",
    "    \n",
    "    model.add(layers.Conv2D(64, (3, 3), activation='relu'))\n",
    "    model.add(BatchNormalization())\n",
    "    model.add(Dropout(k_dc))\n",
    "    model.add(layers.MaxPooling2D((2, 2)))\n",
    "    \n",
    "    model.add(layers.Conv2D(128, (3, 3), activation='relu'))\n",
    "    model.add(BatchNormalization())\n",
    "    model.add(Dropout(k_dc))\n",
    "    \n",
    "    model.add(layers.Flatten())\n",
    "    \n",
    "    model.add(layers.Dense(128))\n",
    "    model.add(BatchNormalization())\n",
    "    model.add(Dropout(k_dd))\n",
    "              \n",
    "    model.add(layers.Dense(64))\n",
    "    model.add(BatchNormalization())\n",
    "    model.add(Dropout(k_dd))\n",
    "              \n",
    "    model.add(layers.Dense(1 , activation='sigmoid'))\n",
    "\n",
    "    opt = tf.keras.optimizers.RMSprop(learning_rate=0.0001)\n",
    "    model.compile(optimizer=opt, loss = 'mse',metrics=['accuracy' ])\n",
    "    return model \n"
   ]
  },
  {
   "cell_type": "code",
   "execution_count": 19,
   "id": "burning-brand",
   "metadata": {},
   "outputs": [],
   "source": [
    "def Train(model , X_train , y_train  , epochs , name , X_test , y_test):\n",
    "    checkpoints = ModelCheckpoint(model_path, save_best_only=True)\n",
    "    stopping = EarlyStopping(monitor='val_loss', patience=10)\n",
    "    rlrp = ReduceLROnPlateau(monitor='val_loss', factor=0.5, patience=15, min_delta=1E-7)\n",
    "    history = model.fit(X_train, y_train, \n",
    "                        epochs=epochs  ,  \n",
    "                        validation_split=0.2,\n",
    "                        callbacks=[checkpoints ,stopping , rlrp])\n",
    "    model = load_model(model_path)\n",
    "    test_loss, test_acc = model.evaluate(X_test,  y_test)\n",
    "    model.save(model_path)\n",
    "    \n",
    "    y_pred = model.predict(X_test)\n",
    "    false_pos_rate, true_pos_rate, proba = roc_curve(y_test, y_pred[:, -1])\n",
    "    optimal_proba_cutoff = sorted(list(zip(np.abs(true_pos_rate - false_pos_rate), proba)), key=lambda i: i[0], reverse=True)[0][1]\n",
    "    print(optimal_proba_cutoff)\n",
    "    \n",
    "    \n",
    "    \n",
    "    os.rename(model_path, os.path.join(save_dir, f\"{name}-{int(test_acc*100)}size{row}x{row}_th{optimal_proba_cutoff}.h5\"))\n",
    "\n",
    "    return history\n",
    "    "
   ]
  },
  {
   "cell_type": "code",
   "execution_count": 20,
   "id": "british-development",
   "metadata": {},
   "outputs": [
    {
     "data": {
      "text/plain": [
       "1    110\n",
       "0    109\n",
       "dtype: int64"
      ]
     },
     "execution_count": 20,
     "metadata": {},
     "output_type": "execute_result"
    }
   ],
   "source": [
    "pd.DataFrame(y_train).value_counts()\n",
    "pd.DataFrame(y_test).value_counts()"
   ]
  },
  {
   "cell_type": "code",
   "execution_count": 21,
   "id": "downtown-settlement",
   "metadata": {
    "scrolled": false
   },
   "outputs": [
    {
     "name": "stdout",
     "output_type": "stream",
     "text": [
      "Epoch 1/200\n",
      "11/11 [==============================] - 8s 579ms/step - loss: 0.2035 - accuracy: 0.6930 - val_loss: 0.5152 - val_accuracy: 0.4000\n",
      "Epoch 2/200\n",
      "11/11 [==============================] - 7s 630ms/step - loss: 0.0831 - accuracy: 0.8828 - val_loss: 0.0483 - val_accuracy: 0.9529\n",
      "Epoch 3/200\n",
      "11/11 [==============================] - 6s 567ms/step - loss: 0.0612 - accuracy: 0.9208 - val_loss: 0.1913 - val_accuracy: 0.7176\n",
      "Epoch 4/200\n",
      "11/11 [==============================] - 6s 539ms/step - loss: 0.0337 - accuracy: 0.9708 - val_loss: 0.0890 - val_accuracy: 0.9059\n",
      "Epoch 5/200\n",
      "11/11 [==============================] - 6s 595ms/step - loss: 0.0484 - accuracy: 0.9546 - val_loss: 0.1121 - val_accuracy: 0.8471\n",
      "Epoch 6/200\n",
      "11/11 [==============================] - 7s 606ms/step - loss: 0.0348 - accuracy: 0.9548 - val_loss: 0.0614 - val_accuracy: 0.9294\n",
      "Epoch 7/200\n",
      "11/11 [==============================] - 8s 668ms/step - loss: 0.0359 - accuracy: 0.9527 - val_loss: 0.2094 - val_accuracy: 0.6353\n",
      "Epoch 8/200\n",
      "11/11 [==============================] - 7s 606ms/step - loss: 0.0201 - accuracy: 0.9883 - val_loss: 0.0437 - val_accuracy: 0.9529\n",
      "Epoch 9/200\n",
      "11/11 [==============================] - 7s 622ms/step - loss: 0.0173 - accuracy: 0.9778 - val_loss: 0.0304 - val_accuracy: 0.9765\n",
      "Epoch 10/200\n",
      "11/11 [==============================] - 8s 731ms/step - loss: 0.0158 - accuracy: 0.9836 - val_loss: 0.0508 - val_accuracy: 0.9176\n",
      "Epoch 11/200\n",
      "11/11 [==============================] - 7s 656ms/step - loss: 0.0154 - accuracy: 0.9908 - val_loss: 0.0566 - val_accuracy: 0.9059\n",
      "Epoch 12/200\n",
      "11/11 [==============================] - 8s 696ms/step - loss: 0.0088 - accuracy: 0.9956 - val_loss: 0.1057 - val_accuracy: 0.8588\n",
      "Epoch 13/200\n",
      "11/11 [==============================] - 7s 623ms/step - loss: 0.0077 - accuracy: 0.9927 - val_loss: 0.1025 - val_accuracy: 0.8471\n",
      "Epoch 14/200\n",
      "11/11 [==============================] - 7s 615ms/step - loss: 0.0079 - accuracy: 0.9901 - val_loss: 0.0945 - val_accuracy: 0.8235\n",
      "Epoch 15/200\n",
      "11/11 [==============================] - 8s 746ms/step - loss: 0.0056 - accuracy: 0.9944 - val_loss: 0.0588 - val_accuracy: 0.9059\n",
      "Epoch 16/200\n",
      "11/11 [==============================] - 9s 873ms/step - loss: 0.0108 - accuracy: 0.9919 - val_loss: 0.0334 - val_accuracy: 0.9647\n",
      "Epoch 17/200\n",
      "11/11 [==============================] - 10s 842ms/step - loss: 0.0071 - accuracy: 0.9976 - val_loss: 0.0387 - val_accuracy: 0.9412\n",
      "Epoch 18/200\n",
      "11/11 [==============================] - 7s 677ms/step - loss: 0.0103 - accuracy: 0.9938 - val_loss: 0.0678 - val_accuracy: 0.8941\n",
      "Epoch 19/200\n",
      "11/11 [==============================] - 7s 678ms/step - loss: 0.0199 - accuracy: 0.9731 - val_loss: 0.0322 - val_accuracy: 0.9412\n",
      "7/7 [==============================] - 1s 117ms/step - loss: 0.1562 - accuracy: 0.7580\n",
      "0.85567236\n",
      "7/7 - 1s - loss: 0.1545 - accuracy: 0.8219\n"
     ]
    },
    {
     "data": {
      "image/png": "[encoded data removed]",
      "text/plain": [
       "<Figure size 432x288 with 1 Axes>"
      ]
     },
     "metadata": {
      "needs_background": "light"
     },
     "output_type": "display_data"
    }
   ],
   "source": [
    "model = Creat_model()\n",
    "history = Train(model , X_train , y_train , epochs = 200, name = '1st_crop_', X_test=X_test, y_test=y_test)\n",
    "\n",
    "plt.plot(history.history['accuracy'], label='accuracy')\n",
    "plt.plot(history.history['val_accuracy'], label = 'val_accuracy')\n",
    "plt.xlabel('Epoch')\n",
    "plt.ylabel('Accuracy')\n",
    "plt.ylim([0.5, 1])\n",
    "plt.legend(loc='lower right')\n",
    "\n",
    "test_loss, test_acc = model.evaluate(X_test,  y_test, verbose=2)"
   ]
  },
  {
   "cell_type": "code",
   "execution_count": null,
   "id": "employed-intervention",
   "metadata": {},
   "outputs": [],
   "source": [
    "pd.DataFrame(y_test).value_counts()"
   ]
  },
  {
   "cell_type": "code",
   "execution_count": 22,
   "id": "divine-corrections",
   "metadata": {},
   "outputs": [
    {
     "name": "stdout",
     "output_type": "stream",
     "text": [
      "17/17 - 2s - loss: 0.1031 - accuracy: 0.8729\n"
     ]
    }
   ],
   "source": [
    "test_loss, test_acc = model.evaluate(Images,  Labels, verbose=2)"
   ]
  },
  {
   "cell_type": "markdown",
   "id": "leading-marker",
   "metadata": {
    "heading_collapsed": true
   },
   "source": [
    "# Testing Model Accuracy \n"
   ]
  },
  {
   "cell_type": "code",
   "execution_count": null,
   "id": "front-glory",
   "metadata": {
    "hidden": true
   },
   "outputs": [],
   "source": [
    "ls saved_models/"
   ]
  },
  {
   "cell_type": "code",
   "execution_count": null,
   "id": "instructional-database",
   "metadata": {
    "hidden": true
   },
   "outputs": [],
   "source": []
  },
  {
   "cell_type": "code",
   "execution_count": null,
   "id": "pretty-fraction",
   "metadata": {
    "hidden": true
   },
   "outputs": [],
   "source": [
    "y_pred = model.predict(X_test)"
   ]
  },
  {
   "cell_type": "code",
   "execution_count": null,
   "id": "wrong-acrobat",
   "metadata": {
    "hidden": true,
    "scrolled": true
   },
   "outputs": [],
   "source": [
    "from plot_metric.functions import BinaryClassification\n",
    "\n",
    "y_pred = model.predict(X_test)\n",
    "# Visualisation with plot_metric\n",
    "bc = BinaryClassification(y_test, y_pred, labels=[\"Class 1\", \"Class 2\"] , threshold=0.5873111)\n",
    "\n",
    "# Figures\n",
    "plt.figure(figsize=(6,4))\n",
    "bc.plot_roc_curve( plot_threshold=True)\n",
    "plt.show()"
   ]
  },
  {
   "cell_type": "code",
   "execution_count": null,
   "id": "industrial-bridge",
   "metadata": {
    "hidden": true
   },
   "outputs": [],
   "source": [
    "y_pred = model.predict(X_test)\n",
    "false_pos_rate, true_pos_rate, proba = roc_curve(y_test, y_pred[:, -1])\n",
    "optimal_proba_cutoff = sorted(list(zip(np.abs(true_pos_rate - false_pos_rate), proba)), key=lambda i: i[0], reverse=True)[0][1]\n",
    "roc_predictions = [1 if i >= optimal_proba_cutoff else 0 for i in y_pred[:, -1]]\n",
    "print(optimal_proba_cutoff)\n",
    "plt.figure()\n",
    "plt.plot([0,1], [0,1], linestyle=\"--\") # plot random curve\n",
    "plt.plot(false_pos_rate, true_pos_rate, marker=\".\", label=f\"AUC = {roc_auc_score(y_test, y_pred[:, -1])}\")\n",
    "plt.title(\"ROC Curve\")\n",
    "plt.ylabel(\"True Positive Rate\")\n",
    "plt.xlabel(\"False Positive Rate\")\n",
    "plt.legend(loc=\"lower right\")"
   ]
  },
  {
   "cell_type": "code",
   "execution_count": null,
   "id": "established-bulgaria",
   "metadata": {
    "hidden": true
   },
   "outputs": [],
   "source": [
    "df = pd.DataFrame(model.predict(X_test))\n",
    "threshold = optimal_proba_cutoff\n",
    "# threshold = 0.5\n",
    "df[df < threshold] = 0\n",
    "df[df > threshold] = 1\n",
    "y_pred = df "
   ]
  },
  {
   "cell_type": "code",
   "execution_count": null,
   "id": "collaborative-beverage",
   "metadata": {
    "hidden": true
   },
   "outputs": [],
   "source": [
    "#generate classification model\n",
    "print(\"Classification report for classifier %s:\\n%s\\n\"\n",
    "      % (model, metrics.classification_report(y_test, y_pred.astype(int))))\n",
    "print(\"Confusion matrix:\\n%s\" % metrics.confusion_matrix(y_test, y_pred.astype(int)))"
   ]
  },
  {
   "cell_type": "code",
   "execution_count": null,
   "id": "several-apartment",
   "metadata": {
    "hidden": true
   },
   "outputs": [],
   "source": [
    "\n",
    "plt.figure(figsize=(4,4))\n",
    "sns.heatmap(confusion_matrix(y_test, y_pred.astype(int)) , annot=True , fmt='d') "
   ]
  },
  {
   "cell_type": "code",
   "execution_count": null,
   "id": "periodic-dependence",
   "metadata": {
    "hidden": true
   },
   "outputs": [],
   "source": [
    "model.summary()"
   ]
  },
  {
   "cell_type": "code",
   "execution_count": null,
   "id": "bearing-publication",
   "metadata": {
    "hidden": true
   },
   "outputs": [],
   "source": [
    "def plot_roc_curve(fpr, tpr):\n",
    "    plt.plot(fpr, tpr, color='orange', label='ROC')\n",
    "    plt.plot([0, 1], [0, 1], color='darkblue', linestyle='--')\n",
    "    plt.xlabel('False Positive Rate')\n",
    "    plt.ylabel('True Positive Rate')\n",
    "    plt.title('Receiver Operating Characteristic (ROC) Curve')\n",
    "    plt.legend()\n",
    "    plt.show()\n",
    "\n",
    "y_true = y_test\n",
    "y_scores = model.predict(X_test)\n",
    "\n",
    "fpr, tpr, thresholds = roc_curve(y_true, y_scores)\n",
    "print(tpr)\n",
    "print(fpr)\n",
    "print(thresholds)\n",
    "print(roc_auc_score(y_true, y_scores))\n",
    "optimal_idx = np.argmax(tpr - fpr)\n",
    "optimal_threshold = thresholds[optimal_idx]\n",
    "print(\"Threshold value is:\", optimal_threshold)\n",
    "plot_roc_curve(fpr, tpr)"
   ]
  },
  {
   "cell_type": "code",
   "execution_count": null,
   "id": "cardiac-endorsement",
   "metadata": {
    "hidden": true
   },
   "outputs": [],
   "source": [
    "y_pred = model.predict(X_test)\n",
    "false_pos_rate, true_pos_rate, proba = roc_curve(y_test, y_pred[:, -1])\n",
    "plt.figure()\n",
    "plt.plot([0,1], [0,1], linestyle=\"--\") # plot random curve\n",
    "plt.plot(false_pos_rate, true_pos_rate, marker=\".\", label=f\"AUC = {roc_auc_score(y_test, y_pred[:, -1])}\")\n",
    "plt.title(\"ROC Curve\")\n",
    "plt.ylabel(\"True Positive Rate\")\n",
    "plt.xlabel(\"False Positive Rate\")\n",
    "plt.legend(loc=\"lower right\")"
   ]
  },
  {
   "cell_type": "code",
   "execution_count": null,
   "id": "popular-movie",
   "metadata": {
    "hidden": true
   },
   "outputs": [],
   "source": []
  },
  {
   "cell_type": "code",
   "execution_count": null,
   "id": "junior-permit",
   "metadata": {
    "hidden": true
   },
   "outputs": [],
   "source": [
    "optimal_proba_cutoff = sorted(list(zip(np.abs(true_pos_rate - false_pos_rate), proba)), key=lambda i: i[0], reverse=True)[0][1]\n",
    "roc_predictions = [1 if i >= optimal_proba_cutoff else 0 for i in y_pred[:, -1]]\n",
    "optimal_proba_cutoff"
   ]
  },
  {
   "cell_type": "code",
   "execution_count": null,
   "id": "retained-polyester",
   "metadata": {
    "hidden": true
   },
   "outputs": [],
   "source": [
    "ls saved_models/"
   ]
  },
  {
   "cell_type": "code",
   "execution_count": null,
   "id": "polish-external",
   "metadata": {
    "hidden": true
   },
   "outputs": [],
   "source": [
    "model_name = '1st_crop_-53size100x100_th0.9996241331100464.h5'\n",
    "model = load_model(os.path.join(save_dir, model_name))"
   ]
  },
  {
   "cell_type": "code",
   "execution_count": null,
   "id": "adjustable-comfort",
   "metadata": {
    "hidden": true
   },
   "outputs": [],
   "source": [
    "ls saved_models/Final_models"
   ]
  },
  {
   "cell_type": "code",
   "execution_count": null,
   "id": "universal-scene",
   "metadata": {
    "hidden": true
   },
   "outputs": [],
   "source": [
    "save_dir = './saved_models/Final_models'\n",
    "model_name = 'accuracy-92size100x100_Threshold_0.56.h5'\n",
    "model = load_model(os.path.join(save_dir, model_name))"
   ]
  },
  {
   "cell_type": "code",
   "execution_count": null,
   "id": "ordered-budapest",
   "metadata": {
    "hidden": true
   },
   "outputs": [],
   "source": [
    "image11 = cv2.imread('/home/khaldoun/Desktop/TOV_DataAcquisition/MicrosoftTeams-image.png')\n",
    "image1 = cv2.resize(image11,(100,100))\n",
    "image22 = cv2.imread('/home/khaldoun/Downloads/MicrosoftTeams-image1.png')\n",
    "image2 = cv2.resize(image22,(100,100))\n"
   ]
  },
  {
   "cell_type": "code",
   "execution_count": null,
   "id": "another-cruise",
   "metadata": {
    "hidden": true
   },
   "outputs": [],
   "source": [
    "image1 = image1.reshape(1 ,100 , 100 , -1)\n",
    "print(model.predict(image1))\n",
    "image2 = image2.reshape(1 ,100 , 100 , -1)\n",
    "print(model.predict(image2))"
   ]
  },
  {
   "cell_type": "code",
   "execution_count": null,
   "id": "dress-transportation",
   "metadata": {
    "hidden": true
   },
   "outputs": [],
   "source": [
    "plt.imshow(image11)"
   ]
  },
  {
   "cell_type": "code",
   "execution_count": null,
   "id": "radical-organ",
   "metadata": {
    "hidden": true
   },
   "outputs": [],
   "source": []
  },
  {
   "cell_type": "code",
   "execution_count": null,
   "id": "unique-affect",
   "metadata": {
    "hidden": true
   },
   "outputs": [],
   "source": []
  },
  {
   "cell_type": "code",
   "execution_count": null,
   "id": "capital-family",
   "metadata": {
    "hidden": true
   },
   "outputs": [],
   "source": []
  }
 ],
 "metadata": {
  "kernelspec": {
   "display_name": "Python 3",
   "language": "python",
   "name": "python3"
  },
  "language_info": {
   "codemirror_mode": {
    "name": "ipython",
    "version": 3
   },
   "file_extension": ".py",
   "mimetype": "text/x-python",
   "name": "python",
   "nbconvert_exporter": "python",
   "pygments_lexer": "ipython3",
   "version": "3.9.5"
  },
  "toc": {
   "base_numbering": 1,
   "nav_menu": {},
   "number_sections": true,
   "sideBar": true,
   "skip_h1_title": false,
   "title_cell": "Table of Contents",
   "title_sidebar": "Contents",
   "toc_cell": false,
   "toc_position": {
    "height": "calc(100% - 180px)",
    "left": "10px",
    "top": "150px",
    "width": "270.846px"
   },
   "toc_section_display": true,
   "toc_window_display": true
  }
 },
 "nbformat": 4,
 "nbformat_minor": 5
}
