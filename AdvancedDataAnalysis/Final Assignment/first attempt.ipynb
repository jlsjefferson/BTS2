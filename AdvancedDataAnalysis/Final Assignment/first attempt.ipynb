{
 "cells": [
  {
   "cell_type": "code",
   "execution_count": 1,
   "id": "3cd3f7ed",
   "metadata": {},
   "outputs": [],
   "source": [
    "import spacy\n",
    "import pandas as pd\n",
    "import numpy as np\n",
    "import os\n",
    "from tqdm import tqdm"
   ]
  },
  {
   "cell_type": "markdown",
   "id": "d37cdadb",
   "metadata": {},
   "source": [
    "# Data Collection"
   ]
  },
  {
   "cell_type": "code",
   "execution_count": 2,
   "id": "55f20dc8",
   "metadata": {},
   "outputs": [
    {
     "name": "stderr",
     "output_type": "stream",
     "text": [
      "100%|██████████| 2/2 [00:00<00:00, 214.69it/s]\n"
     ]
    }
   ],
   "source": [
    "posPath='imdb/train/trial'\n",
    "arr = []\n",
    "for filename in tqdm(os.listdir(posPath)):\n",
    "    path= os.path.join(posPath,filename)\n",
    "    with open(path) as f:\n",
    "        review = f.readlines()\n",
    "        arr.append(review)\n",
    "        \n",
    "posArr = np.array(arr)\n",
    "posArr = np.insert(posArr, 1, 1, axis=1)"
   ]
  },
  {
   "cell_type": "code",
   "execution_count": 4,
   "id": "df21c57d",
   "metadata": {},
   "outputs": [
    {
     "name": "stderr",
     "output_type": "stream",
     "text": [
      "100%|██████████| 2/2 [00:00<00:00, 299.57it/s]\n"
     ]
    }
   ],
   "source": [
    "negPath='imdb/train/trial'\n",
    "arr = []\n",
    "for filename in tqdm(os.listdir(negPath)):\n",
    "    #print(filename)\n",
    "    #path='imdb/train/neg/0_3.txt'\n",
    "    path= os.path.join(negPath,filename)\n",
    "    with open(path) as f:\n",
    "        review = f.readlines()\n",
    "        arr.append(review)\n",
    "\n",
    "negArr = np.array(arr)\n",
    "negArr = np.insert(negArr, 1, 0, axis=1)"
   ]
  },
  {
   "cell_type": "code",
   "execution_count": 4,
   "id": "b70610a1",
   "metadata": {},
   "outputs": [
    {
     "name": "stdout",
     "output_type": "stream",
     "text": [
      "(12500, 2)\n",
      "(12500, 2)\n"
     ]
    }
   ],
   "source": [
    "print(posArr.shape)\n",
    "print(negArr.shape)"
   ]
  },
  {
   "cell_type": "code",
   "execution_count": 5,
   "id": "69db9747",
   "metadata": {},
   "outputs": [
    {
     "name": "stdout",
     "output_type": "stream",
     "text": [
      "                                              review label\n",
      "0  Bromwell High is a cartoon comedy. It ran at t...     1\n",
      "1  If you like adult comedy cartoons, like South ...     1\n",
      "                                              review label\n",
      "0  Bromwell High is a cartoon comedy. It ran at t...     0\n",
      "1  If you like adult comedy cartoons, like South ...     0\n"
     ]
    },
    {
     "data": {
      "text/html": [
       "<div>\n",
       "<style scoped>\n",
       "    .dataframe tbody tr th:only-of-type {\n",
       "        vertical-align: middle;\n",
       "    }\n",
       "\n",
       "    .dataframe tbody tr th {\n",
       "        vertical-align: top;\n",
       "    }\n",
       "\n",
       "    .dataframe thead th {\n",
       "        text-align: right;\n",
       "    }\n",
       "</style>\n",
       "<table border=\"1\" class=\"dataframe\">\n",
       "  <thead>\n",
       "    <tr style=\"text-align: right;\">\n",
       "      <th></th>\n",
       "      <th>review</th>\n",
       "      <th>label</th>\n",
       "    </tr>\n",
       "  </thead>\n",
       "  <tbody>\n",
       "    <tr>\n",
       "      <th>0</th>\n",
       "      <td>Bromwell High is a cartoon comedy. It ran at t...</td>\n",
       "      <td>1</td>\n",
       "    </tr>\n",
       "    <tr>\n",
       "      <th>1</th>\n",
       "      <td>If you like adult comedy cartoons, like South ...</td>\n",
       "      <td>1</td>\n",
       "    </tr>\n",
       "    <tr>\n",
       "      <th>0</th>\n",
       "      <td>Bromwell High is a cartoon comedy. It ran at t...</td>\n",
       "      <td>0</td>\n",
       "    </tr>\n",
       "    <tr>\n",
       "      <th>1</th>\n",
       "      <td>If you like adult comedy cartoons, like South ...</td>\n",
       "      <td>0</td>\n",
       "    </tr>\n",
       "  </tbody>\n",
       "</table>\n",
       "</div>"
      ],
      "text/plain": [
       "                                              review label\n",
       "0  Bromwell High is a cartoon comedy. It ran at t...     1\n",
       "1  If you like adult comedy cartoons, like South ...     1\n",
       "0  Bromwell High is a cartoon comedy. It ran at t...     0\n",
       "1  If you like adult comedy cartoons, like South ...     0"
      ]
     },
     "execution_count": 5,
     "metadata": {},
     "output_type": "execute_result"
    }
   ],
   "source": [
    "df1 = pd.DataFrame(data = posArr, columns = ['review','label'])\n",
    "df2 = pd.DataFrame(data = negArr, columns = ['review','label'])\n",
    "reviews_df = df1.append(df2)\n",
    "print(df1.head(2))\n",
    "print(df2.head(2))\n",
    "reviews_df.head()"
   ]
  },
  {
   "cell_type": "code",
   "execution_count": 6,
   "id": "b4316fd8",
   "metadata": {},
   "outputs": [
    {
     "data": {
      "text/html": [
       "<div>\n",
       "<style scoped>\n",
       "    .dataframe tbody tr th:only-of-type {\n",
       "        vertical-align: middle;\n",
       "    }\n",
       "\n",
       "    .dataframe tbody tr th {\n",
       "        vertical-align: top;\n",
       "    }\n",
       "\n",
       "    .dataframe thead th {\n",
       "        text-align: right;\n",
       "    }\n",
       "</style>\n",
       "<table border=\"1\" class=\"dataframe\">\n",
       "  <thead>\n",
       "    <tr style=\"text-align: right;\">\n",
       "      <th></th>\n",
       "      <th>review</th>\n",
       "    </tr>\n",
       "    <tr>\n",
       "      <th>label</th>\n",
       "      <th></th>\n",
       "    </tr>\n",
       "  </thead>\n",
       "  <tbody>\n",
       "    <tr>\n",
       "      <th>0</th>\n",
       "      <td>2</td>\n",
       "    </tr>\n",
       "    <tr>\n",
       "      <th>1</th>\n",
       "      <td>2</td>\n",
       "    </tr>\n",
       "  </tbody>\n",
       "</table>\n",
       "</div>"
      ],
      "text/plain": [
       "       review\n",
       "label        \n",
       "0           2\n",
       "1           2"
      ]
     },
     "execution_count": 6,
     "metadata": {},
     "output_type": "execute_result"
    }
   ],
   "source": [
    "reviews_df.groupby('label').count()"
   ]
  },
  {
   "cell_type": "code",
   "execution_count": 6,
   "id": "9d8af429",
   "metadata": {},
   "outputs": [
    {
     "data": {
      "text/plain": [
       "'1'"
      ]
     },
     "execution_count": 6,
     "metadata": {},
     "output_type": "execute_result"
    }
   ],
   "source": [
    "reviews_df['vec'] = 0\n",
    "reviews_df.iloc[0,1]"
   ]
  },
  {
   "cell_type": "code",
   "execution_count": 9,
   "id": "037cc5c6",
   "metadata": {},
   "outputs": [
    {
     "data": {
      "text/html": [
       "<div>\n",
       "<style scoped>\n",
       "    .dataframe tbody tr th:only-of-type {\n",
       "        vertical-align: middle;\n",
       "    }\n",
       "\n",
       "    .dataframe tbody tr th {\n",
       "        vertical-align: top;\n",
       "    }\n",
       "\n",
       "    .dataframe thead th {\n",
       "        text-align: right;\n",
       "    }\n",
       "</style>\n",
       "<table border=\"1\" class=\"dataframe\">\n",
       "  <thead>\n",
       "    <tr style=\"text-align: right;\">\n",
       "      <th></th>\n",
       "      <th>review</th>\n",
       "      <th>label</th>\n",
       "    </tr>\n",
       "  </thead>\n",
       "  <tbody>\n",
       "    <tr>\n",
       "      <th>0</th>\n",
       "      <td>Bromwell High is a cartoon comedy. It ran at t...</td>\n",
       "      <td>1</td>\n",
       "    </tr>\n",
       "    <tr>\n",
       "      <th>1</th>\n",
       "      <td>If you like adult comedy cartoons, like South ...</td>\n",
       "      <td>1</td>\n",
       "    </tr>\n",
       "    <tr>\n",
       "      <th>0</th>\n",
       "      <td>Bromwell High is a cartoon comedy. It ran at t...</td>\n",
       "      <td>0</td>\n",
       "    </tr>\n",
       "    <tr>\n",
       "      <th>1</th>\n",
       "      <td>If you like adult comedy cartoons, like South ...</td>\n",
       "      <td>0</td>\n",
       "    </tr>\n",
       "  </tbody>\n",
       "</table>\n",
       "</div>"
      ],
      "text/plain": [
       "                                              review label\n",
       "0  Bromwell High is a cartoon comedy. It ran at t...     1\n",
       "1  If you like adult comedy cartoons, like South ...     1\n",
       "0  Bromwell High is a cartoon comedy. It ran at t...     0\n",
       "1  If you like adult comedy cartoons, like South ...     0"
      ]
     },
     "execution_count": 9,
     "metadata": {},
     "output_type": "execute_result"
    }
   ],
   "source": [
    "reviews_df.head()"
   ]
  },
  {
   "cell_type": "code",
   "execution_count": 43,
   "id": "5f6af946",
   "metadata": {},
   "outputs": [
    {
     "data": {
      "text/plain": [
       "array([['Bromwell High is a cartoon comedy. It ran at the same time as some other programs about school life, such as \"Teachers\". My 35 years in the teaching profession lead me to believe that Bromwell High\\'s satire is much closer to reality than is \"Teachers\". The scramble to survive financially, the insightful students who can see right through their pathetic teachers\\' pomp, the pettiness of the whole situation, all remind me of the schools I knew and their students. When I saw the episode in which a student repeatedly tried to burn down the school, I immediately recalled ......... at .......... High. A classic line: INSPECTOR: I\\'m here to sack one of your teachers. STUDENT: Welcome to Bromwell High. I expect that many adults of my age think that Bromwell High is far fetched. What a pity that it isn\\'t!',\n",
       "        '1'],\n",
       "       [\"If you like adult comedy cartoons, like South Park, then this is nearly a similar format about the small adventures of three teenage girls at Bromwell High. Keisha, Natella and Latrina have given exploding sweets and behaved like bitches, I think Keisha is a good leader. There are also small stories going on with the teachers of the school. There's the idiotic principal, Mr. Bip, the nervous Maths teacher and many others. The cast is also fantastic, Lenny Henry's Gina Yashere, EastEnders Chrissie Watts, Tracy-Ann Oberman, Smack The Pony's Doon Mackichan, Dead Ringers' Mark Perry and Blunder's Nina Conti. I didn't know this came from Canada, but it is very good. Very good!\",\n",
       "        '1']], dtype='<U806')"
      ]
     },
     "execution_count": 43,
     "metadata": {},
     "output_type": "execute_result"
    }
   ],
   "source": [
    "reviews_df.review.values[0]\n",
    "posArr"
   ]
  },
  {
   "cell_type": "markdown",
   "id": "f5a4839e",
   "metadata": {},
   "source": [
    "# Pre Processing"
   ]
  },
  {
   "cell_type": "code",
   "execution_count": 7,
   "id": "e6607d2c",
   "metadata": {},
   "outputs": [],
   "source": [
    "from sklearn import preprocessing\n",
    "from sklearn.preprocessing import LabelEncoder\n",
    "lbl_enc = preprocessing.LabelEncoder()\n",
    "y = lbl_enc.fit_transform(reviews_df.label)"
   ]
  },
  {
   "cell_type": "code",
   "execution_count": 59,
   "id": "1d193037",
   "metadata": {},
   "outputs": [
    {
     "data": {
      "text/plain": [
       "array(['0', '1'], dtype=object)"
      ]
     },
     "execution_count": 59,
     "metadata": {},
     "output_type": "execute_result"
    }
   ],
   "source": [
    "lbl_enc.classes_"
   ]
  },
  {
   "cell_type": "code",
   "execution_count": 10,
   "id": "84e7bb77",
   "metadata": {},
   "outputs": [],
   "source": [
    "from sklearn.model_selection import train_test_split\n",
    "xtrain, xvalid, ytrain, yvalid = train_test_split(reviews_df.review, y, \n",
    "                                                  stratify=y, \n",
    "                                                  random_state=42, \n",
    "                                                  test_size=0.3, shuffle=True)"
   ]
  },
  {
   "cell_type": "code",
   "execution_count": 12,
   "id": "b0425926",
   "metadata": {},
   "outputs": [
    {
     "data": {
      "text/plain": [
       "(2,)"
      ]
     },
     "execution_count": 12,
     "metadata": {},
     "output_type": "execute_result"
    }
   ],
   "source": [
    "xtrain.shape\n",
    "#xvalid.shape"
   ]
  },
  {
   "cell_type": "code",
   "execution_count": 44,
   "id": "e6d12f3c",
   "metadata": {},
   "outputs": [
    {
     "data": {
      "text/plain": [
       "array(['Bromwell High is a cartoon comedy. It ran at the same time as some other programs about school life, such as \"Teachers\". My 35 years in the teaching profession lead me to believe that Bromwell High\\'s satire is much closer to reality than is \"Teachers\". The scramble to survive financially, the insightful students who can see right through their pathetic teachers\\' pomp, the pettiness of the whole situation, all remind me of the schools I knew and their students. When I saw the episode in which a student repeatedly tried to burn down the school, I immediately recalled ......... at .......... High. A classic line: INSPECTOR: I\\'m here to sack one of your teachers. STUDENT: Welcome to Bromwell High. I expect that many adults of my age think that Bromwell High is far fetched. What a pity that it isn\\'t!',\n",
       "       '1'], dtype='<U806')"
      ]
     },
     "execution_count": 44,
     "metadata": {},
     "output_type": "execute_result"
    }
   ],
   "source": [
    "xtrain[0]\n",
    "posArr[0]"
   ]
  },
  {
   "cell_type": "code",
   "execution_count": 45,
   "id": "1644f6c3",
   "metadata": {},
   "outputs": [
    {
     "data": {
      "text/plain": [
       "['This is an example of count vectorizer bro. So you better put attention bro.',\n",
       " 'This is the second sentence bro.']"
      ]
     },
     "execution_count": 45,
     "metadata": {},
     "output_type": "execute_result"
    }
   ],
   "source": [
    "arr = ['This is an example of count vectorizer bro. So you better put attention bro.', 'This is the second sentence bro.']\n",
    "arr"
   ]
  },
  {
   "cell_type": "code",
   "execution_count": 46,
   "id": "ab492069",
   "metadata": {},
   "outputs": [],
   "source": [
    "from sklearn.feature_extraction.text import CountVectorizer\n",
    "vectorizer = CountVectorizer()\n",
    "features = vectorizer.fit_transform(arr)"
   ]
  },
  {
   "cell_type": "code",
   "execution_count": 47,
   "id": "08c04f5b",
   "metadata": {},
   "outputs": [
    {
     "data": {
      "text/plain": [
       "array([[1, 1, 1, 2, 1, 1, 1, 1, 1, 0, 0, 1, 0, 1, 1, 1],\n",
       "       [0, 0, 0, 1, 0, 0, 1, 0, 0, 1, 1, 0, 1, 1, 0, 0]])"
      ]
     },
     "execution_count": 47,
     "metadata": {},
     "output_type": "execute_result"
    }
   ],
   "source": [
    "features.toarray()"
   ]
  },
  {
   "cell_type": "code",
   "execution_count": 48,
   "id": "da7f318d",
   "metadata": {},
   "outputs": [
    {
     "data": {
      "text/html": [
       "<div>\n",
       "<style scoped>\n",
       "    .dataframe tbody tr th:only-of-type {\n",
       "        vertical-align: middle;\n",
       "    }\n",
       "\n",
       "    .dataframe tbody tr th {\n",
       "        vertical-align: top;\n",
       "    }\n",
       "\n",
       "    .dataframe thead th {\n",
       "        text-align: right;\n",
       "    }\n",
       "</style>\n",
       "<table border=\"1\" class=\"dataframe\">\n",
       "  <thead>\n",
       "    <tr style=\"text-align: right;\">\n",
       "      <th></th>\n",
       "      <th>an</th>\n",
       "      <th>attention</th>\n",
       "      <th>better</th>\n",
       "      <th>bro</th>\n",
       "      <th>count</th>\n",
       "      <th>example</th>\n",
       "      <th>is</th>\n",
       "      <th>of</th>\n",
       "      <th>put</th>\n",
       "      <th>second</th>\n",
       "      <th>sentence</th>\n",
       "      <th>so</th>\n",
       "      <th>the</th>\n",
       "      <th>this</th>\n",
       "      <th>vectorizer</th>\n",
       "      <th>you</th>\n",
       "    </tr>\n",
       "  </thead>\n",
       "  <tbody>\n",
       "    <tr>\n",
       "      <th>0</th>\n",
       "      <td>1</td>\n",
       "      <td>1</td>\n",
       "      <td>1</td>\n",
       "      <td>2</td>\n",
       "      <td>1</td>\n",
       "      <td>1</td>\n",
       "      <td>1</td>\n",
       "      <td>1</td>\n",
       "      <td>1</td>\n",
       "      <td>0</td>\n",
       "      <td>0</td>\n",
       "      <td>1</td>\n",
       "      <td>0</td>\n",
       "      <td>1</td>\n",
       "      <td>1</td>\n",
       "      <td>1</td>\n",
       "    </tr>\n",
       "    <tr>\n",
       "      <th>1</th>\n",
       "      <td>0</td>\n",
       "      <td>0</td>\n",
       "      <td>0</td>\n",
       "      <td>1</td>\n",
       "      <td>0</td>\n",
       "      <td>0</td>\n",
       "      <td>1</td>\n",
       "      <td>0</td>\n",
       "      <td>0</td>\n",
       "      <td>1</td>\n",
       "      <td>1</td>\n",
       "      <td>0</td>\n",
       "      <td>1</td>\n",
       "      <td>1</td>\n",
       "      <td>0</td>\n",
       "      <td>0</td>\n",
       "    </tr>\n",
       "  </tbody>\n",
       "</table>\n",
       "</div>"
      ],
      "text/plain": [
       "   an  attention  better  bro  count  example  is  of  put  second  sentence  \\\n",
       "0   1          1       1    2      1        1   1   1    1       0         0   \n",
       "1   0          0       0    1      0        0   1   0    0       1         1   \n",
       "\n",
       "   so  the  this  vectorizer  you  \n",
       "0   1    0     1           1    1  \n",
       "1   0    1     1           0    0  "
      ]
     },
     "execution_count": 48,
     "metadata": {},
     "output_type": "execute_result"
    }
   ],
   "source": [
    "words = vectorizer.get_feature_names()\n",
    "words\n",
    "pd.DataFrame(features.todense(), columns=words)"
   ]
  },
  {
   "cell_type": "code",
   "execution_count": 54,
   "id": "2e597d21",
   "metadata": {},
   "outputs": [],
   "source": [
    "tfv = TfidfVectorizer()\n",
    "feature= tfv.fit_transform(arr)"
   ]
  },
  {
   "cell_type": "code",
   "execution_count": 58,
   "id": "5ebddfc8",
   "metadata": {},
   "outputs": [
    {
     "data": {
      "text/html": [
       "<div>\n",
       "<style scoped>\n",
       "    .dataframe tbody tr th:only-of-type {\n",
       "        vertical-align: middle;\n",
       "    }\n",
       "\n",
       "    .dataframe tbody tr th {\n",
       "        vertical-align: top;\n",
       "    }\n",
       "\n",
       "    .dataframe thead th {\n",
       "        text-align: right;\n",
       "    }\n",
       "</style>\n",
       "<table border=\"1\" class=\"dataframe\">\n",
       "  <thead>\n",
       "    <tr style=\"text-align: right;\">\n",
       "      <th></th>\n",
       "      <th>an</th>\n",
       "      <th>attention</th>\n",
       "      <th>better</th>\n",
       "      <th>bro</th>\n",
       "      <th>count</th>\n",
       "      <th>example</th>\n",
       "      <th>is</th>\n",
       "      <th>of</th>\n",
       "      <th>put</th>\n",
       "      <th>second</th>\n",
       "      <th>sentence</th>\n",
       "      <th>so</th>\n",
       "      <th>the</th>\n",
       "      <th>this</th>\n",
       "      <th>vectorizer</th>\n",
       "      <th>you</th>\n",
       "    </tr>\n",
       "  </thead>\n",
       "  <tbody>\n",
       "    <tr>\n",
       "      <th>0</th>\n",
       "      <td>0.276951</td>\n",
       "      <td>0.276951</td>\n",
       "      <td>0.276951</td>\n",
       "      <td>0.394106</td>\n",
       "      <td>0.276951</td>\n",
       "      <td>0.276951</td>\n",
       "      <td>0.197053</td>\n",
       "      <td>0.276951</td>\n",
       "      <td>0.276951</td>\n",
       "      <td>0.000000</td>\n",
       "      <td>0.000000</td>\n",
       "      <td>0.276951</td>\n",
       "      <td>0.000000</td>\n",
       "      <td>0.197053</td>\n",
       "      <td>0.276951</td>\n",
       "      <td>0.276951</td>\n",
       "    </tr>\n",
       "    <tr>\n",
       "      <th>1</th>\n",
       "      <td>0.000000</td>\n",
       "      <td>0.000000</td>\n",
       "      <td>0.000000</td>\n",
       "      <td>0.334712</td>\n",
       "      <td>0.000000</td>\n",
       "      <td>0.000000</td>\n",
       "      <td>0.334712</td>\n",
       "      <td>0.000000</td>\n",
       "      <td>0.000000</td>\n",
       "      <td>0.470426</td>\n",
       "      <td>0.470426</td>\n",
       "      <td>0.000000</td>\n",
       "      <td>0.470426</td>\n",
       "      <td>0.334712</td>\n",
       "      <td>0.000000</td>\n",
       "      <td>0.000000</td>\n",
       "    </tr>\n",
       "  </tbody>\n",
       "</table>\n",
       "</div>"
      ],
      "text/plain": [
       "         an  attention    better       bro     count   example        is  \\\n",
       "0  0.276951   0.276951  0.276951  0.394106  0.276951  0.276951  0.197053   \n",
       "1  0.000000   0.000000  0.000000  0.334712  0.000000  0.000000  0.334712   \n",
       "\n",
       "         of       put    second  sentence        so       the      this  \\\n",
       "0  0.276951  0.276951  0.000000  0.000000  0.276951  0.000000  0.197053   \n",
       "1  0.000000  0.000000  0.470426  0.470426  0.000000  0.470426  0.334712   \n",
       "\n",
       "   vectorizer       you  \n",
       "0    0.276951  0.276951  \n",
       "1    0.000000  0.000000  "
      ]
     },
     "execution_count": 58,
     "metadata": {},
     "output_type": "execute_result"
    }
   ],
   "source": [
    "# print(tfv.get_feature_names())\n",
    "# feature.toarray()\n",
    "words = tfv.get_feature_names()\n",
    "words\n",
    "pd.DataFrame(feature.todense(), columns=words)"
   ]
  },
  {
   "cell_type": "code",
   "execution_count": 50,
   "id": "5dfa5cc4",
   "metadata": {},
   "outputs": [],
   "source": [
    "tfv = TfidfVectorizer(max_features=None, \n",
    "            strip_accents='unicode', analyzer='word',token_pattern=r'\\w{1,}',\n",
    "            ngram_range=(1, 3), use_idf=1,smooth_idf=1,sublinear_tf=1,\n",
    "            stop_words = 'english')\n",
    "feature= tfv.fit_transform(arr)"
   ]
  },
  {
   "cell_type": "code",
   "execution_count": 53,
   "id": "a0483623",
   "metadata": {},
   "outputs": [
    {
     "data": {
      "text/plain": [
       "['attention',\n",
       " 'attention bro',\n",
       " 'better',\n",
       " 'better attention',\n",
       " 'better attention bro',\n",
       " 'bro',\n",
       " 'bro better',\n",
       " 'bro better attention',\n",
       " 'count',\n",
       " 'count vectorizer',\n",
       " 'count vectorizer bro',\n",
       " 'example',\n",
       " 'example count',\n",
       " 'example count vectorizer',\n",
       " 'second',\n",
       " 'second sentence',\n",
       " 'second sentence bro',\n",
       " 'sentence',\n",
       " 'sentence bro',\n",
       " 'vectorizer',\n",
       " 'vectorizer bro',\n",
       " 'vectorizer bro better']"
      ]
     },
     "execution_count": 53,
     "metadata": {},
     "output_type": "execute_result"
    }
   ],
   "source": [
    "tfv.get_feature_names()"
   ]
  },
  {
   "cell_type": "code",
   "execution_count": 52,
   "id": "2c8f72ad",
   "metadata": {},
   "outputs": [
    {
     "data": {
      "text/plain": [
       "array([[0.23937921, 0.23937921, 0.23937921, 0.23937921, 0.23937921,\n",
       "        0.28837731, 0.23937921, 0.23937921, 0.23937921, 0.23937921,\n",
       "        0.23937921, 0.23937921, 0.23937921, 0.23937921, 0.        ,\n",
       "        0.        , 0.        , 0.        , 0.        , 0.23937921,\n",
       "        0.23937921, 0.23937921],\n",
       "       [0.        , 0.        , 0.        , 0.        , 0.        ,\n",
       "        0.30321606, 0.        , 0.        , 0.        , 0.        ,\n",
       "        0.        , 0.        , 0.        , 0.        , 0.4261596 ,\n",
       "        0.4261596 , 0.4261596 , 0.4261596 , 0.4261596 , 0.        ,\n",
       "        0.        , 0.        ]])"
      ]
     },
     "execution_count": 52,
     "metadata": {},
     "output_type": "execute_result"
    }
   ],
   "source": [
    "feature.toarray()"
   ]
  },
  {
   "cell_type": "code",
   "execution_count": 16,
   "id": "70ac85ff",
   "metadata": {},
   "outputs": [],
   "source": [
    "from sklearn.feature_extraction.text import TfidfVectorizer, CountVectorizer\n",
    "\n",
    "# Always start with these features. They work (almost) everytime!\n",
    "tfv = TfidfVectorizer(min_df=3,  max_features=None, \n",
    "            strip_accents='unicode', analyzer='word',token_pattern=r'\\w{1,}',\n",
    "            ngram_range=(1, 3), use_idf=1,smooth_idf=1,sublinear_tf=1,\n",
    "            stop_words = 'english')\n",
    "\n",
    "# Fitting TF-IDF to both training and test sets (semi-supervised learning)\n",
    "tfv.fit(list(xtrain) + list(xvalid))\n",
    "xtrain_tfv =  tfv.transform(xtrain) \n",
    "xvalid_tfv = tfv.transform(xvalid)"
   ]
  },
  {
   "cell_type": "code",
   "execution_count": 37,
   "id": "a80f039c",
   "metadata": {},
   "outputs": [
    {
     "data": {
      "text/plain": [
       "matrix([[0.43026606, 0.43026606, 0.1803072 , 0.47050045, 0.1803072 ,\n",
       "         0.30528663, 0.1803072 , 0.43026606, 0.1803072 ],\n",
       "        [0.27022684, 0.27022684, 0.27022684, 0.27022684, 0.64484079,\n",
       "         0.27022684, 0.27022684, 0.27022684, 0.27022684]])"
      ]
     },
     "execution_count": 37,
     "metadata": {},
     "output_type": "execute_result"
    }
   ],
   "source": [
    "xtrain_tfv.toarray()\n",
    "xtrain_tfv.todense()"
   ]
  },
  {
   "cell_type": "code",
   "execution_count": 54,
   "id": "6755adc9",
   "metadata": {},
   "outputs": [
    {
     "data": {
      "text/plain": [
       "0.8834666666666666"
      ]
     },
     "execution_count": 54,
     "metadata": {},
     "output_type": "execute_result"
    }
   ],
   "source": [
    "from sklearn.linear_model import LogisticRegression\n",
    "# Fitting a simple Logistic Regression on TFIDF\n",
    "clf = LogisticRegression(C=1.0)\n",
    "clf.fit(xtrain_tfv, ytrain)\n",
    "y_pred = clf.predict_proba(xvalid_tfv)\n",
    "\n",
    "clf.score(xvalid_tfv,yvalid)"
   ]
  },
  {
   "cell_type": "code",
   "execution_count": 55,
   "id": "ff6dced0",
   "metadata": {},
   "outputs": [
    {
     "data": {
      "text/plain": [
       "array([[3242,  508],\n",
       "       [ 366, 3384]])"
      ]
     },
     "execution_count": 55,
     "metadata": {},
     "output_type": "execute_result"
    }
   ],
   "source": [
    "from sklearn.metrics import confusion_matrix\n",
    "from sklearn import metrics\n",
    "confusion_matrix(yvalid, clf.predict(xvalid_tfv))"
   ]
  },
  {
   "cell_type": "code",
   "execution_count": 69,
   "id": "96a22efb",
   "metadata": {
    "collapsed": true
   },
   "outputs": [
    {
     "data": {
      "text/plain": [
       "array([1, 1, 1, ..., 1, 0, 1])"
      ]
     },
     "execution_count": 69,
     "metadata": {},
     "output_type": "execute_result"
    }
   ],
   "source": [
    "yvalid"
   ]
  },
  {
   "cell_type": "code",
   "execution_count": 71,
   "id": "31cb3c49",
   "metadata": {},
   "outputs": [
    {
     "data": {
      "text/plain": [
       "array([0.08634713, 0.1827365 , 0.32816848, ..., 0.22335579, 0.76034768,\n",
       "       0.18210268])"
      ]
     },
     "execution_count": 71,
     "metadata": {},
     "output_type": "execute_result"
    }
   ],
   "source": [
    "y_pred[:,0]"
   ]
  },
  {
   "cell_type": "code",
   "execution_count": null,
   "id": "e25b8c67",
   "metadata": {},
   "outputs": [],
   "source": []
  },
  {
   "cell_type": "code",
   "execution_count": null,
   "id": "d55457bf",
   "metadata": {},
   "outputs": [],
   "source": []
  }
 ],
 "metadata": {
  "kernelspec": {
   "display_name": "Python 3",
   "language": "python",
   "name": "python3"
  },
  "language_info": {
   "codemirror_mode": {
    "name": "ipython",
    "version": 3
   },
   "file_extension": ".py",
   "mimetype": "text/x-python",
   "name": "python",
   "nbconvert_exporter": "python",
   "pygments_lexer": "ipython3",
   "version": "3.9.5"
  },
  "toc": {
   "base_numbering": 1,
   "nav_menu": {},
   "number_sections": true,
   "sideBar": true,
   "skip_h1_title": false,
   "title_cell": "Table of Contents",
   "title_sidebar": "Contents",
   "toc_cell": false,
   "toc_position": {},
   "toc_section_display": true,
   "toc_window_display": true
  }
 },
 "nbformat": 4,
 "nbformat_minor": 5
}
