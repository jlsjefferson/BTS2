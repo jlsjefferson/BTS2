{
 "cells": [
  {
   "cell_type": "code",
   "execution_count": null,
   "id": "762dcb43",
   "metadata": {},
   "outputs": [],
   "source": [
    "import spacy\n",
    "import pandas as pd\n",
    "import numpy as np\n",
    "import os\n",
    "from tqdm import tqdm"
   ]
  },
  {
   "cell_type": "markdown",
   "id": "63cf8d4b",
   "metadata": {},
   "source": [
    "# Data Collection"
   ]
  },
  {
   "cell_type": "code",
   "execution_count": null,
   "id": "8b1a1411",
   "metadata": {},
   "outputs": [],
   "source": [
    "def readReviews(path):\n",
    "    arr = []\n",
    "    for filename in tqdm(os.listdir(path)):\n",
    "        fullpath= os.path.join(path,filename)\n",
    "        #print(fullpath)\n",
    "        with open(fullpath) as f:\n",
    "            review = f.readlines()\n",
    "            arr.append(review)\n",
    "            \n",
    "    return np.array(arr) \n",
    "    #return arr "
   ]
  },
  {
   "cell_type": "code",
   "execution_count": null,
   "id": "c9ba8e79",
   "metadata": {},
   "outputs": [],
   "source": [
    "posPath='imdb/train/pos2'\n",
    "posArr=readReviews(posPath)\n",
    "#posArr = np.insert(posArr, 1, 1, axis=1)"
   ]
  },
  {
   "cell_type": "code",
   "execution_count": null,
   "id": "7586f1eb",
   "metadata": {},
   "outputs": [],
   "source": [
    "negPath='imdb/train/neg2'\n",
    "negArr=readReviews(negPath)\n",
    "#negArr = np.insert(negArr, 1, 0, axis=1)"
   ]
  },
  {
   "cell_type": "code",
   "execution_count": null,
   "id": "45d966fa",
   "metadata": {},
   "outputs": [],
   "source": [
    "print(posArr.shape)\n",
    "#print(len(posArr))\n",
    "print(negArr.shape)\n",
    "#print(len(negArr))\n",
    "#features = posArr + negArr\n",
    "features = np.concatenate((posArr,negArr),axis=0)\n",
    "#len(features)\n",
    "print(features.shape)"
   ]
  },
  {
   "cell_type": "code",
   "execution_count": null,
   "id": "2ccf2687",
   "metadata": {},
   "outputs": [],
   "source": [
    "#labels\n",
    "posLabels=np.ones(len(posArr))\n",
    "negLabels=np.zeros(len(negArr))\n",
    "#labels = posLabels + negLabels\n",
    "labels = np.concatenate((posLabels,negLabels),axis=0)\n",
    "#print(len(labels))\n",
    "print(labels.shape)"
   ]
  },
  {
   "cell_type": "code",
   "execution_count": null,
   "id": "2038ede2",
   "metadata": {},
   "outputs": [],
   "source": [
    "df1 = pd.DataFrame(data = posArr, columns = ['review','label'])\n",
    "df2 = pd.DataFrame(data = negArr, columns = ['review','label'])\n",
    "reviews_df = df1.append(df2)\n",
    "reviews_df.head()"
   ]
  },
  {
   "cell_type": "code",
   "execution_count": null,
   "id": "002660d1",
   "metadata": {},
   "outputs": [],
   "source": [
    "posPathTest='imdb/test/pos'\n",
    "posArrTest=readReviews(posPathTest)"
   ]
  },
  {
   "cell_type": "code",
   "execution_count": null,
   "id": "6689d34a",
   "metadata": {},
   "outputs": [],
   "source": [
    "negPathTest='imdb/test/neg'\n",
    "negArrTest=readReviews(negPathTest)"
   ]
  },
  {
   "cell_type": "code",
   "execution_count": null,
   "id": "1436829a",
   "metadata": {},
   "outputs": [],
   "source": [
    "posArrTest = np.insert(posArrTest, 1, 1, axis=1)\n",
    "negArrTest = np.insert(negArrTest, 1, 0, axis=1)"
   ]
  },
  {
   "cell_type": "code",
   "execution_count": null,
   "id": "e6df3693",
   "metadata": {},
   "outputs": [],
   "source": [
    "df1 = pd.DataFrame(data = posArrTest, columns = ['review','label'])\n",
    "df2 = pd.DataFrame(data = negArrTest, columns = ['review','label'])\n",
    "test_df = df1.append(df2)\n",
    "test_df.head()"
   ]
  },
  {
   "cell_type": "markdown",
   "id": "9a29e8cb",
   "metadata": {
    "heading_collapsed": true
   },
   "source": [
    "# Pre Processing"
   ]
  },
  {
   "cell_type": "code",
   "execution_count": null,
   "id": "fd2c39bd",
   "metadata": {
    "hidden": true
   },
   "outputs": [],
   "source": []
  },
  {
   "cell_type": "code",
   "execution_count": null,
   "id": "9b71c08e",
   "metadata": {
    "hidden": true
   },
   "outputs": [],
   "source": [
    "#!python -m spacy download en_core_web_sm"
   ]
  },
  {
   "cell_type": "code",
   "execution_count": null,
   "id": "3027c129",
   "metadata": {
    "hidden": true
   },
   "outputs": [],
   "source": [
    "nlp = spacy.load('en_core_web_sm')"
   ]
  },
  {
   "cell_type": "code",
   "execution_count": null,
   "id": "b705be8f",
   "metadata": {
    "hidden": true
   },
   "outputs": [],
   "source": [
    "import os\n",
    "path='imdb/train/neg/0_3.txt'\n",
    "with open(path) as f:\n",
    "    lines = f.readlines()"
   ]
  },
  {
   "cell_type": "code",
   "execution_count": null,
   "id": "73078ce4",
   "metadata": {
    "hidden": true
   },
   "outputs": [],
   "source": [
    "nlp = spacy.load('en_core_web_sm')"
   ]
  },
  {
   "cell_type": "code",
   "execution_count": null,
   "id": "2218b549",
   "metadata": {
    "hidden": true
   },
   "outputs": [],
   "source": [
    "text_sentences = nlp(lines[0])"
   ]
  },
  {
   "cell_type": "code",
   "execution_count": null,
   "id": "5e054e4f",
   "metadata": {
    "hidden": true
   },
   "outputs": [],
   "source": [
    "lines\n",
    "text_sentences = nlp(lines[0])\n",
    "d = []\n",
    "for sentence in text_sentences.sents:\n",
    "    #print(sentence.text)\n",
    "    for token in sentence: \n",
    "        #print(token.text, token.pos_)\n",
    "        d.append({'TEXT': token.text, \n",
    "            'LEMMA': token.lemma_, \n",
    "            'POS': token.pos_,\n",
    "            'ALPHA': token.is_alpha, \n",
    "            'STOP': token.is_stop})\n",
    "        \n",
    "spacy_dataframe = pd.DataFrame(d)"
   ]
  },
  {
   "cell_type": "code",
   "execution_count": null,
   "id": "f1bcf732",
   "metadata": {
    "hidden": true
   },
   "outputs": [],
   "source": [
    "#No Stop Words, Propernouns or Punctuation. \n",
    "spacy_dataframe.loc[(spacy_dataframe['STOP']==False) & (spacy_dataframe['POS']!='PROPN') \\\n",
    "                    & (spacy_dataframe['POS']!='PUNCT')]#.count()"
   ]
  },
  {
   "cell_type": "code",
   "execution_count": null,
   "id": "98b2faba",
   "metadata": {
    "hidden": true
   },
   "outputs": [],
   "source": []
  },
  {
   "cell_type": "markdown",
   "id": "bf820dcf",
   "metadata": {},
   "source": [
    "# Modeling"
   ]
  },
  {
   "cell_type": "code",
   "execution_count": null,
   "id": "42d69659",
   "metadata": {},
   "outputs": [],
   "source": [
    "reviews_df.review"
   ]
  },
  {
   "cell_type": "code",
   "execution_count": null,
   "id": "9bfe2cf1",
   "metadata": {},
   "outputs": [],
   "source": [
    "#print(posArr[:,0].shape)#features\n",
    "#print(posArr[:,1].shape)#labels\n",
    "print(features[:,0].shape)\n",
    "print(labels.shape)"
   ]
  },
  {
   "cell_type": "code",
   "execution_count": null,
   "id": "c85cb8f4",
   "metadata": {},
   "outputs": [],
   "source": [
    "from sklearn.preprocessing import LabelEncoder\n",
    "lbl_enc = LabelEncoder()\n",
    "y = lbl_enc.fit_transform(labels)"
   ]
  },
  {
   "cell_type": "code",
   "execution_count": null,
   "id": "af509466",
   "metadata": {},
   "outputs": [],
   "source": [
    "y\n",
    "lbl_enc.classes_"
   ]
  },
  {
   "cell_type": "markdown",
   "id": "8c3fadaa",
   "metadata": {},
   "source": [
    "----------Option 1 Count Vectorizer----------"
   ]
  },
  {
   "cell_type": "code",
   "execution_count": null,
   "id": "c6769327",
   "metadata": {},
   "outputs": [],
   "source": [
    "from sklearn.feature_extraction.text import CountVectorizer\n",
    "vectorizer = CountVectorizer()\n",
    "features = vectorizer.fit_transform(features[:,0])"
   ]
  },
  {
   "cell_type": "markdown",
   "id": "5df3d9e4",
   "metadata": {},
   "source": [
    "----------Option 2 TfidfVectorizer---------"
   ]
  },
  {
   "cell_type": "code",
   "execution_count": null,
   "id": "191cd631",
   "metadata": {},
   "outputs": [],
   "source": [
    "from sklearn.feature_extraction.text import TfidfVectorizer\n",
    "\n",
    "tfv = TfidfVectorizer(min_df=3,  max_features=None, \n",
    "            strip_accents='unicode', analyzer='word',token_pattern=r'\\w{1,}',\n",
    "            ngram_range=(1, 3), use_idf=1,smooth_idf=1,sublinear_tf=1,\n",
    "            stop_words = 'english')\n",
    "features = tfv.fit_transform(features[:,0])"
   ]
  },
  {
   "cell_type": "code",
   "execution_count": null,
   "id": "2114ce3d",
   "metadata": {},
   "outputs": [],
   "source": [
    "from sklearn.model_selection import train_test_split\n",
    "xtrain, xtest, ytrain, ytest = train_test_split(features, labels, \n",
    "                                                  stratify=y, \n",
    "                                                  random_state=42, \n",
    "                                                  test_size=0.3, shuffle=True)"
   ]
  },
  {
   "cell_type": "code",
   "execution_count": null,
   "id": "f3f72649",
   "metadata": {},
   "outputs": [],
   "source": [
    "print(xtrain.shape)\n",
    "xtest.shape"
   ]
  },
  {
   "cell_type": "markdown",
   "id": "70e4cfca",
   "metadata": {},
   "source": [
    "# Multinomial Naive Bayes"
   ]
  },
  {
   "cell_type": "code",
   "execution_count": null,
   "id": "dc04cbb3",
   "metadata": {},
   "outputs": [],
   "source": [
    "from sklearn.naive_bayes import MultinomialNB\n",
    "\n",
    "model1 = MultinomialNB()\n",
    "model1.fit(xtrain, ytrain)\n",
    "pred1 = model1.predict_proba(xtest)"
   ]
  },
  {
   "cell_type": "code",
   "execution_count": null,
   "id": "42f67591",
   "metadata": {},
   "outputs": [],
   "source": [
    "from sklearn.metrics import accuracy_score, roc_auc_score, roc_curve\n",
    "acc = accuracy_score(ytest, pred1[:,1] > 0.5)\n",
    "auc = roc_auc_score(ytest, pred1[:,1])\n",
    "fpr, tpr, thr = roc_curve(ytest, pred1[:,1])"
   ]
  },
  {
   "cell_type": "code",
   "execution_count": null,
   "id": "09f94279",
   "metadata": {},
   "outputs": [],
   "source": [
    "print('Accuracy: ', acc)\n",
    "print('ROC AUC: ', auc)"
   ]
  },
  {
   "cell_type": "code",
   "execution_count": null,
   "id": "34bd177b",
   "metadata": {},
   "outputs": [],
   "source": [
    "import matplotlib.pyplot as plt\n",
    "plt.subplots(1, figsize=(10,10))\n",
    "plt.title('Receiver Operating Characteristic')\n",
    "plt.plot(fpr, tpr)\n",
    "plt.plot([0, 1], ls=\"--\")\n",
    "plt.plot([0, 0], [1, 0] , c=\".7\"), plt.plot([1, 1] , c=\".7\")\n",
    "plt.ylabel('True Positive Rate')\n",
    "plt.xlabel('False Positive Rate')\n",
    "plt.show()"
   ]
  },
  {
   "cell_type": "code",
   "execution_count": null,
   "id": "31e23f2f",
   "metadata": {},
   "outputs": [],
   "source": [
    "from sklearn.metrics import confusion_matrix\n",
    "confusion_matrix(ytest, pred1[:,1]>.7)"
   ]
  },
  {
   "cell_type": "code",
   "execution_count": null,
   "id": "5a27faac",
   "metadata": {},
   "outputs": [],
   "source": [
    "pred1[:,1]"
   ]
  },
  {
   "cell_type": "markdown",
   "id": "ac397a06",
   "metadata": {},
   "source": [
    "--------Model with Tfidf-------"
   ]
  },
  {
   "cell_type": "code",
   "execution_count": null,
   "id": "abf2a9d5",
   "metadata": {},
   "outputs": [],
   "source": [
    "from sklearn.naive_bayes import MultinomialNB\n",
    "\n",
    "model2 = MultinomialNB()\n",
    "model2.fit(xtrain, ytrain)\n",
    "pred2 = model2.predict_proba(xtest)"
   ]
  },
  {
   "cell_type": "code",
   "execution_count": null,
   "id": "c5f87878",
   "metadata": {},
   "outputs": [],
   "source": [
    "from sklearn.metrics import accuracy_score, roc_auc_score, roc_curve\n",
    "acc = accuracy_score(ytest, pred2[:,1] > 0.5)\n",
    "auc = roc_auc_score(ytest, pred2[:,1])\n",
    "fpr, tpr, thr = roc_curve(ytest, pred2[:,1])"
   ]
  },
  {
   "cell_type": "code",
   "execution_count": null,
   "id": "e06b3446",
   "metadata": {},
   "outputs": [],
   "source": [
    "print('Accuracy: ', acc)\n",
    "print('ROC AUC: ', auc)"
   ]
  },
  {
   "cell_type": "code",
   "execution_count": null,
   "id": "adb0fae2",
   "metadata": {},
   "outputs": [],
   "source": [
    "import matplotlib.pyplot as plt\n",
    "plt.subplots(1, figsize=(10,10))\n",
    "plt.title('Receiver Operating Characteristic')\n",
    "plt.plot(fpr, tpr)\n",
    "plt.plot([0, 1], ls=\"--\")\n",
    "plt.plot([0, 0], [1, 0] , c=\".7\"), plt.plot([1, 1] , c=\".7\")\n",
    "plt.ylabel('True Positive Rate')\n",
    "plt.xlabel('False Positive Rate')\n",
    "plt.show()"
   ]
  },
  {
   "cell_type": "code",
   "execution_count": null,
   "id": "dba7fc20",
   "metadata": {},
   "outputs": [],
   "source": [
    "from sklearn.metrics import confusion_matrix\n",
    "confusion_matrix(ytest, pred2[:,1]>.5)"
   ]
  },
  {
   "cell_type": "code",
   "execution_count": null,
   "id": "0dee94bb",
   "metadata": {},
   "outputs": [],
   "source": []
  }
 ],
 "metadata": {
  "kernelspec": {
   "display_name": "Python 3",
   "language": "python",
   "name": "python3"
  },
  "language_info": {
   "codemirror_mode": {
    "name": "ipython",
    "version": 3
   },
   "file_extension": ".py",
   "mimetype": "text/x-python",
   "name": "python",
   "nbconvert_exporter": "python",
   "pygments_lexer": "ipython3",
   "version": "3.9.5"
  },
  "toc": {
   "base_numbering": 1,
   "nav_menu": {},
   "number_sections": true,
   "sideBar": true,
   "skip_h1_title": false,
   "title_cell": "Table of Contents",
   "title_sidebar": "Contents",
   "toc_cell": false,
   "toc_position": {},
   "toc_section_display": true,
   "toc_window_display": true
  }
 },
 "nbformat": 4,
 "nbformat_minor": 5
}
